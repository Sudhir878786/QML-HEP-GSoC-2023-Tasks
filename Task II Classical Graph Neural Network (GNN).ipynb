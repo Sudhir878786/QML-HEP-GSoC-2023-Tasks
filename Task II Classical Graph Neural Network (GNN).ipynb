{
  "cells": [
    {
      "cell_type": "markdown",
      "id": "42ebcc64",
      "metadata": {
        "id": "42ebcc64"
      },
      "source": [
        "# Task II\n",
        "For Task II, you will use ParticleNet’s data for Quark/Gluon jet classification available here with its corresponding description.\n",
        "\n",
        "● Choose 2 Graph-based architectures of your choice to classify jets as being quarks or gluons. Provide a description on what considerations you have taken to project this point-cloud dataset to a set of interconnected nodes and edges.\n",
        "\n",
        "● Discuss the resulting performance of the 2 chosen architectures."
      ]
    },
    {
      "cell_type": "markdown",
      "id": "75dd826c",
      "metadata": {
        "id": "75dd826c"
      },
      "source": [
        "## Setup"
      ]
    },
    {
      "cell_type": "code",
      "execution_count": 16,
      "id": "eec8d0a0",
      "metadata": {
        "ExecuteTime": {
          "end_time": "2022-05-13T12:33:04.753318Z",
          "start_time": "2022-05-13T12:32:54.183796Z"
        },
        "id": "eec8d0a0"
      },
      "outputs": [],
      "source": [
        "import matplotlib.pyplot as plt\n",
        "import numpy as np\n",
        "import os\n",
        "from sklearn.utils import shuffle\n",
        "from sklearn.model_selection import train_test_split\n",
        "from tensorflow import keras\n",
        "from tf_keras_model import get_particle_net_lite, get_particle_net\n",
        "\n",
        "import logging\n",
        "logging.basicConfig(level=logging.INFO,\n",
        "                    format='[%(asctime)s] %(levelname)s: %(message)s')\n",
        "%matplotlib inline"
      ]
    },
    {
      "cell_type": "markdown",
      "id": "fed4bdab",
      "metadata": {
        "id": "fed4bdab"
      },
      "source": [
        "## Load the dataset"
      ]
    },
    {
      "cell_type": "code",
      "execution_count": 17,
      "id": "49db31af",
      "metadata": {
        "ExecuteTime": {
          "end_time": "2022-05-13T12:33:10.829065Z",
          "start_time": "2022-05-13T12:33:10.791964Z"
        },
        "colab": {
          "base_uri": "https://localhost:8080/"
        },
        "id": "49db31af",
        "outputId": "5ff70783-1405-4770-d7ee-9c81b9f275c2"
      },
      "outputs": [
        {
          "name": "stdout",
          "output_type": "stream",
          "text": [
            "--2023-03-14 09:35:07--  ftp://https/\n",
            "           => ‘.listing’\n",
            "Resolving https (https)... failed: Name or service not known.\n",
            "wget: unable to resolve host address ‘https’\n",
            "//: Scheme missing.\n",
            "--2023-03-14 09:35:07--  http://zenodo.org/record/3164691/files/QG_jets.npz\n",
            "Resolving zenodo.org (zenodo.org)... 188.185.124.72\n",
            "Connecting to zenodo.org (zenodo.org)|188.185.124.72|:80... connected.\n",
            "HTTP request sent, awaiting response... 301 Moved Permanently\n",
            "Location: https://zenodo.org/record/3164691/files/QG_jets.npz [following]\n",
            "--2023-03-14 09:35:07--  https://zenodo.org/record/3164691/files/QG_jets.npz\n",
            "Connecting to zenodo.org (zenodo.org)|188.185.124.72|:443... connected.\n",
            "HTTP request sent, awaiting response... 200 OK\n",
            "Length: 106689379 (102M) [application/octet-stream]\n",
            "Saving to: ‘QG_jets.npz’\n",
            "\n",
            "QG_jets.npz         100%[===================>] 101.75M  2.42MB/s    in 2m 9s   \n",
            "\n",
            "2023-03-14 09:37:18 (805 KB/s) - ‘QG_jets.npz’ saved [106689379/106689379]\n",
            "\n",
            "--2023-03-14 09:37:18--  http://-/\n",
            "Resolving - (-)... failed: Name or service not known.\n",
            "wget: unable to resolve host address ‘-’\n",
            "--2023-03-14 09:37:18--  http://p/\n",
            "Resolving p (p)... failed: Name or service not known.\n",
            "wget: unable to resolve host address ‘p’\n",
            "/: Scheme missing.\n",
            "--2023-03-14 09:37:18--  http://content/data/\n",
            "Resolving content (content)... failed: Name or service not known.\n",
            "wget: unable to resolve host address ‘content’\n",
            "FINISHED --2023-03-14 09:37:18--\n",
            "Total wall clock time: 2m 11s\n",
            "Downloaded: 1 files, 102M in 2m 9s (805 KB/s)\n"
          ]
        }
      ],
      "source": [
        "# Load the dataset\n",
        "# used on colab\n",
        "!wget https: // zenodo.org/record/3164691/files/QG_jets.npz - P / content/data/\n"
      ]
    },
    {
      "cell_type": "code",
      "execution_count": 18,
      "id": "lyJncRGIdytv",
      "metadata": {
        "id": "lyJncRGIdytv"
      },
      "outputs": [],
      "source": [
        "dataset = np.load('QG_jets.npz', allow_pickle=True)"
      ]
    },
    {
      "cell_type": "code",
      "execution_count": 19,
      "id": "76487ad1",
      "metadata": {
        "ExecuteTime": {
          "end_time": "2022-05-13T12:33:12.121365Z",
          "start_time": "2022-05-13T12:33:12.113305Z"
        },
        "colab": {
          "base_uri": "https://localhost:8080/"
        },
        "id": "76487ad1",
        "outputId": "ebc58394-5649-4cba-c8d6-bf416058f784"
      },
      "outputs": [
        {
          "data": {
            "text/plain": [
              "<numpy.lib.npyio.NpzFile at 0x7f617f491cd0>"
            ]
          },
          "execution_count": 19,
          "metadata": {},
          "output_type": "execute_result"
        }
      ],
      "source": [
        "# See what keys are present in the dataset\n",
        "list(dataset.keys())\n",
        "dataset"
      ]
    },
    {
      "cell_type": "code",
      "execution_count": 19,
      "id": "fuYww9ouUVVl",
      "metadata": {
        "id": "fuYww9ouUVVl"
      },
      "outputs": [],
      "source": []
    },
    {
      "cell_type": "code",
      "execution_count": 20,
      "id": "3017de1f",
      "metadata": {
        "ExecuteTime": {
          "end_time": "2022-05-13T12:33:15.780515Z",
          "start_time": "2022-05-13T12:33:13.165549Z"
        },
        "id": "3017de1f"
      },
      "outputs": [],
      "source": [
        "# Extract data as per keys\n",
        "x = dataset['X']\n",
        "y = dataset['y']"
      ]
    },
    {
      "cell_type": "code",
      "execution_count": 21,
      "id": "f30ccdd7",
      "metadata": {
        "ExecuteTime": {
          "end_time": "2022-05-13T12:33:15.796935Z",
          "start_time": "2022-05-13T12:33:15.783947Z"
        },
        "colab": {
          "base_uri": "https://localhost:8080/"
        },
        "id": "f30ccdd7",
        "outputId": "305d3b94-cf7e-4764-cdab-95a823562f17"
      },
      "outputs": [
        {
          "name": "stdout",
          "output_type": "stream",
          "text": [
            "(100000, 139, 4)\n",
            "(100000,)\n"
          ]
        }
      ],
      "source": [
        "# Check the shape of the dataset\n",
        "print(x.shape)\n",
        "print(y.shape)"
      ]
    },
    {
      "cell_type": "markdown",
      "id": "35b0c7ef",
      "metadata": {
        "id": "35b0c7ef"
      },
      "source": [
        "## Data preprocessing\n",
        "As per the information of the dataset from [here](https://zenodo.org/record/3164691#.YigdGt9MHrB)\n",
        "\n",
        "X: (100000,M,4), exactly 50k quark and 50k gluon jets, randomly sorted, where M is the max multiplicity of the jets in that file (other jets have been padded with zero-particles), and the features of each particle are its pt, rapidity, azimuthal angle, and pdgid.\n",
        "\n",
        "y: (100000,), an array of labels for the jets where gluon is 0 and quark is 1."
      ]
    },
    {
      "cell_type": "code",
      "execution_count": 22,
      "id": "3b84f3fa",
      "metadata": {
        "ExecuteTime": {
          "end_time": "2022-05-13T12:33:17.400724Z",
          "start_time": "2022-05-13T12:33:17.391792Z"
        },
        "colab": {
          "base_uri": "https://localhost:8080/"
        },
        "id": "3b84f3fa",
        "outputId": "fa86751e-11ca-41b8-93f9-6324a7e89b0b"
      },
      "outputs": [
        {
          "name": "stdout",
          "output_type": "stream",
          "text": [
            "(100000, 2)\n"
          ]
        }
      ],
      "source": [
        "# one hot encoding labels is needed else the following error\n",
        "# ValueError: Shapes (None, 1) and (None, 2) are incompatible\n",
        "y = keras.utils.to_categorical(y)\n",
        "print(y.shape)"
      ]
    },
    {
      "cell_type": "markdown",
      "id": "c6b5f883",
      "metadata": {
        "id": "c6b5f883"
      },
      "source": [
        "I faced this error later during training and therefore one hot encoding is performed here."
      ]
    },
    {
      "cell_type": "markdown",
      "id": "9d9e065f",
      "metadata": {
        "ExecuteTime": {
          "end_time": "2022-04-17T09:04:39.643293Z",
          "start_time": "2022-04-17T09:04:39.638958Z"
        },
        "id": "9d9e065f"
      },
      "source": [
        "From the paper on [Jet tagging via particle clouds](https://journals.aps.org/prd/pdf/10.1103/PhysRevD.101.056019)\n",
        "\n",
        "The first EdgeConv block uses the spatial coordinates of the particles in the pseudorapidity-azimuth space to\n",
        "compute the distances, while the subsequent blocks use the learned feature vectors as coordinates.\n",
        "\n",
        "From the dataset we know that the features of each particle are its pt, rapidity, azimuthal angle, and pdgid\n"
      ]
    },
    {
      "cell_type": "code",
      "execution_count": 23,
      "id": "35bc21a3",
      "metadata": {
        "ExecuteTime": {
          "end_time": "2022-05-13T12:33:19.875811Z",
          "start_time": "2022-05-13T12:33:19.132567Z"
        },
        "colab": {
          "base_uri": "https://localhost:8080/"
        },
        "id": "35bc21a3",
        "outputId": "22905ffb-1b55-4ae5-bf69-6d64d6e5804b"
      },
      "outputs": [
        {
          "name": "stdout",
          "output_type": "stream",
          "text": [
            "(70000, 139, 4) (70000, 2)\n",
            "(15000, 139, 4) (15000, 2)\n",
            "(15000, 139, 4) (15000, 2)\n"
          ]
        }
      ],
      "source": [
        "x, y = shuffle(x, y, random_state=0)\n",
        "x_train, x_test, y_train, y_test = train_test_split(\n",
        "    x, y, test_size=0.30, random_state=42)\n",
        "x_test, x_val, y_test, y_val = train_test_split(\n",
        "    x_test, y_test, test_size=0.5, random_state=42)\n",
        "\n",
        "print(x_train.shape, y_train.shape)\n",
        "print(x_test.shape, y_test.shape)\n",
        "print(x_val.shape, y_val.shape)"
      ]
    },
    {
      "cell_type": "markdown",
      "id": "0ae40e8d",
      "metadata": {
        "id": "0ae40e8d"
      },
      "source": [
        "Shapes of each input (`points`, `features`, `mask`)\n",
        "\n",
        "Now we create masks for train, val and test"
      ]
    },
    {
      "cell_type": "code",
      "execution_count": 24,
      "id": "b7c810a6",
      "metadata": {
        "ExecuteTime": {
          "end_time": "2022-05-13T12:33:21.305710Z",
          "start_time": "2022-05-13T12:33:20.971036Z"
        },
        "colab": {
          "base_uri": "https://localhost:8080/"
        },
        "id": "b7c810a6",
        "outputId": "a95bc940-14df-4199-f879-2e5c6447474b"
      },
      "outputs": [
        {
          "name": "stdout",
          "output_type": "stream",
          "text": [
            "(70000, 139)\n",
            "[   29.20243269    27.50561143    30.26089051   220.41819997\n",
            "    27.95042087    28.15969933   329.0687446     27.57628735\n",
            "  -206.06003465   218.08468374    26.41602355    27.02195013\n",
            "    31.79622486    26.59246689    26.88924931  -202.09822736\n",
            "    26.71899363    31.23462352  -310.42681747    27.70451205\n",
            "    30.7169403   -198.56554041  2233.77838649    36.42720615\n",
            "    29.23621805  -187.38676832    33.46071738   268.17256202\n",
            "    32.3521241  -2054.01856237   118.7019814     56.63953271\n",
            "   151.53934524    57.07618763     0.             0.\n",
            "     0.             0.             0.             0.\n",
            "     0.             0.             0.             0.\n",
            "     0.             0.             0.             0.\n",
            "     0.             0.             0.             0.\n",
            "     0.             0.             0.             0.\n",
            "     0.             0.             0.             0.\n",
            "     0.             0.             0.             0.\n",
            "     0.             0.             0.             0.\n",
            "     0.             0.             0.             0.\n",
            "     0.             0.             0.             0.\n",
            "     0.             0.             0.             0.\n",
            "     0.             0.             0.             0.\n",
            "     0.             0.             0.             0.\n",
            "     0.             0.             0.             0.\n",
            "     0.             0.             0.             0.\n",
            "     0.             0.             0.             0.\n",
            "     0.             0.             0.             0.\n",
            "     0.             0.             0.             0.\n",
            "     0.             0.             0.             0.\n",
            "     0.             0.             0.             0.\n",
            "     0.             0.             0.             0.\n",
            "     0.             0.             0.             0.\n",
            "     0.             0.             0.             0.\n",
            "     0.             0.             0.             0.\n",
            "     0.             0.             0.             0.\n",
            "     0.             0.             0.        ]\n",
            "[1. 1. 1. 1. 1. 1. 1. 1. 1. 1. 1. 1. 1. 1. 1. 1. 1. 1. 1. 1. 1. 1. 1. 1.\n",
            " 1. 1. 1. 1. 1. 1. 1. 1. 1. 1. 0. 0. 0. 0. 0. 0. 0. 0. 0. 0. 0. 0. 0. 0.\n",
            " 0. 0. 0. 0. 0. 0. 0. 0. 0. 0. 0. 0. 0. 0. 0. 0. 0. 0. 0. 0. 0. 0. 0. 0.\n",
            " 0. 0. 0. 0. 0. 0. 0. 0. 0. 0. 0. 0. 0. 0. 0. 0. 0. 0. 0. 0. 0. 0. 0. 0.\n",
            " 0. 0. 0. 0. 0. 0. 0. 0. 0. 0. 0. 0. 0. 0. 0. 0. 0. 0. 0. 0. 0. 0. 0. 0.\n",
            " 0. 0. 0. 0. 0. 0. 0. 0. 0. 0. 0. 0. 0. 0. 0. 0. 0. 0. 0.]\n",
            "(70000, 139, 1)\n"
          ]
        }
      ],
      "source": [
        "# mask\n",
        "# find the maximum length vector in for each sample in 10000 samples with maximum number of non-zero values\n",
        "mask_train = np.sum(x_train, axis=2)\n",
        "print(mask_train.shape)\n",
        "print(mask_train[0])\n",
        "\n",
        "# make the array binary\n",
        "mask_train = np.array(mask_train != 0, np.float32)\n",
        "print(mask_train[0])\n",
        "\n",
        "# reshape mask for a third axis\n",
        "mask_train = mask_train.reshape(x_train.shape[0], x_train.shape[1], 1)\n",
        "print(mask_train.shape)"
      ]
    },
    {
      "cell_type": "code",
      "execution_count": 25,
      "id": "dc6d1b8f",
      "metadata": {
        "ExecuteTime": {
          "end_time": "2022-05-13T12:33:22.673493Z",
          "start_time": "2022-05-13T12:33:22.588394Z"
        },
        "colab": {
          "base_uri": "https://localhost:8080/"
        },
        "id": "dc6d1b8f",
        "outputId": "ed45630b-5db6-4283-af3a-e490a285c6af"
      },
      "outputs": [
        {
          "name": "stdout",
          "output_type": "stream",
          "text": [
            "(15000, 139, 1)\n"
          ]
        }
      ],
      "source": [
        "# mask\n",
        "# find the maximum length vector in for each sample in 10000 samples with maximum number of non-zero values\n",
        "mask_val = np.sum(x_val, axis=2)\n",
        "\n",
        "# make the array binary\n",
        "mask_val = np.array(mask_val != 0, np.float32)\n",
        "\n",
        "# reshape mask for a third axis\n",
        "mask_val = mask_val.reshape(x_val.shape[0], x_val.shape[1], 1)\n",
        "print(mask_val.shape)"
      ]
    },
    {
      "cell_type": "code",
      "execution_count": 26,
      "id": "60d64a14",
      "metadata": {
        "ExecuteTime": {
          "end_time": "2022-05-13T12:33:22.885814Z",
          "start_time": "2022-05-13T12:33:22.772557Z"
        },
        "colab": {
          "base_uri": "https://localhost:8080/"
        },
        "id": "60d64a14",
        "outputId": "7f1a0918-4b11-48b7-d880-56fd0f3c83bf"
      },
      "outputs": [
        {
          "name": "stdout",
          "output_type": "stream",
          "text": [
            "(15000, 139, 1)\n"
          ]
        }
      ],
      "source": [
        "# mask\n",
        "# find the maximum length vector in for each sample in 10000 samples with maximum number of non-zero values\n",
        "mask_test = np.sum(x_test, axis=2)\n",
        "\n",
        "# make the array binary\n",
        "mask_test = np.array(mask_test != 0, np.float32)\n",
        "\n",
        "# reshape mask for a third axis\n",
        "mask_test = mask_val.reshape(x_test.shape[0], x_test.shape[1], 1)\n",
        "print(mask_test.shape)"
      ]
    },
    {
      "cell_type": "markdown",
      "id": "9011c254",
      "metadata": {
        "id": "9011c254"
      },
      "source": [
        "We use the implementations from this [github repo](https://github.com/hqucms/ParticleNet) The input is formatted accordingly below for train, val and test"
      ]
    },
    {
      "cell_type": "markdown",
      "id": "3378b523",
      "metadata": {
        "id": "3378b523"
      },
      "source": [
        "`points` contain rapidity, azimuthal angle used for computing the distance of KNN\n",
        "\n",
        "`features`: the features of the particles. All the 4 features.\n",
        "\n",
        "`mask` mask array taking a value of 0 for padded positions."
      ]
    },
    {
      "cell_type": "code",
      "execution_count": 27,
      "id": "525e3628",
      "metadata": {
        "ExecuteTime": {
          "end_time": "2022-05-13T12:33:24.323656Z",
          "start_time": "2022-05-13T12:33:24.308048Z"
        },
        "id": "525e3628"
      },
      "outputs": [],
      "source": [
        "train_dataset = {\n",
        "    'points': x_train[:, :, 1:3],\n",
        "    'features': x_train,\n",
        "    'mask': mask_train\n",
        "}\n",
        "\n",
        "test_dataset = {\n",
        "    'points': x_test[:, :, 1:3],\n",
        "    'features': x_test,\n",
        "    'mask': mask_test\n",
        "}\n",
        "\n",
        "val_dataset = {\n",
        "    'points': x_val[:, :, 1:3],\n",
        "    'features': x_val,\n",
        "    'mask': mask_val\n",
        "}"
      ]
    },
    {
      "cell_type": "code",
      "execution_count": 28,
      "id": "943c84cc",
      "metadata": {
        "ExecuteTime": {
          "end_time": "2022-05-13T12:33:25.376046Z",
          "start_time": "2022-05-13T12:33:25.359002Z"
        },
        "colab": {
          "base_uri": "https://localhost:8080/"
        },
        "id": "943c84cc",
        "outputId": "ce636544-badf-4ea4-ea2f-46703f87f477"
      },
      "outputs": [
        {
          "data": {
            "text/plain": [
              "{'points': (139, 2), 'features': (139, 4), 'mask': (139, 1)}"
            ]
          },
          "execution_count": 28,
          "metadata": {},
          "output_type": "execute_result"
        }
      ],
      "source": [
        "shapes = {\n",
        "    'points': x_train[:, :, 1:3].shape[1:],\n",
        "    'features': x_train.shape[1:],\n",
        "    'mask': mask_train.shape[1:]\n",
        "}\n",
        "shapes"
      ]
    },
    {
      "cell_type": "markdown",
      "id": "a85cf0d1",
      "metadata": {
        "id": "a85cf0d1"
      },
      "source": [
        "## Particle net lite"
      ]
    },
    {
      "cell_type": "code",
      "execution_count": 29,
      "id": "a834c2ff",
      "metadata": {
        "ExecuteTime": {
          "end_time": "2022-05-13T12:33:26.314884Z",
          "start_time": "2022-05-13T12:33:25.515121Z"
        },
        "id": "a834c2ff"
      },
      "outputs": [],
      "source": [
        "# particle net lite\n",
        "num_classes = 2\n",
        "model = get_particle_net_lite(num_classes, shapes)"
      ]
    },
    {
      "cell_type": "code",
      "execution_count": 30,
      "id": "9db79416",
      "metadata": {
        "ExecuteTime": {
          "end_time": "2022-05-13T12:34:36.015312Z",
          "start_time": "2022-05-13T12:34:36.000300Z"
        },
        "id": "9db79416"
      },
      "outputs": [],
      "source": [
        "# Training parameters\n",
        "batch_size = 1024\n",
        "epochs = 100"
      ]
    },
    {
      "cell_type": "code",
      "execution_count": 31,
      "id": "28976a79",
      "metadata": {
        "ExecuteTime": {
          "end_time": "2022-05-13T12:34:48.984202Z",
          "start_time": "2022-05-13T12:34:48.967696Z"
        },
        "id": "28976a79"
      },
      "outputs": [],
      "source": [
        "def lr_schedule(epoch):\n",
        "    lr = 1e-3\n",
        "    if epoch > 10:\n",
        "        lr *= 0.1\n",
        "    elif epoch > 20:\n",
        "        lr *= 0.01\n",
        "    logging.info('Learning rate: %f' % lr)\n",
        "    return lr"
      ]
    },
    {
      "cell_type": "code",
      "execution_count": 32,
      "id": "94606d38",
      "metadata": {
        "ExecuteTime": {
          "end_time": "2022-05-13T12:34:52.465617Z",
          "start_time": "2022-05-13T12:34:52.417216Z"
        },
        "colab": {
          "base_uri": "https://localhost:8080/"
        },
        "id": "94606d38",
        "outputId": "5af4a53e-7f19-42b2-c462-c8a31bded7fb",
        "scrolled": true
      },
      "outputs": [
        {
          "name": "stdout",
          "output_type": "stream",
          "text": [
            "Model: \"ParticleNet\"\n",
            "__________________________________________________________________________________________________\n",
            " Layer (type)                   Output Shape         Param #     Connected to                     \n",
            "==================================================================================================\n",
            " mask (InputLayer)              [(None, 139, 1)]     0           []                               \n",
            "                                                                                                  \n",
            " tf.math.not_equal_1 (TFOpLambd  (None, 139, 1)      0           ['mask[0][0]']                   \n",
            " a)                                                                                               \n",
            "                                                                                                  \n",
            " tf.cast_2 (TFOpLambda)         (None, 139, 1)       0           ['tf.math.not_equal_1[0][0]']    \n",
            "                                                                                                  \n",
            " tf.math.equal_1 (TFOpLambda)   (None, 139, 1)       0           ['tf.cast_2[0][0]']              \n",
            "                                                                                                  \n",
            " tf.cast_3 (TFOpLambda)         (None, 139, 1)       0           ['tf.math.equal_1[0][0]']        \n",
            "                                                                                                  \n",
            " tf.math.multiply_8 (TFOpLambda  (None, 139, 1)      0           ['tf.cast_3[0][0]']              \n",
            " )                                                                                                \n",
            "                                                                                                  \n",
            " points (InputLayer)            [(None, 139, 2)]     0           []                               \n",
            "                                                                                                  \n",
            " tf.math.add_2 (TFOpLambda)     (None, 139, 2)       0           ['tf.math.multiply_8[0][0]',     \n",
            "                                                                  'points[0][0]']                 \n",
            "                                                                                                  \n",
            " features (InputLayer)          [(None, 139, 4)]     0           []                               \n",
            "                                                                                                  \n",
            " tf.compat.v1.transpose_4 (TFOp  (None, 2, 139)      0           ['tf.math.add_2[0][0]']          \n",
            " Lambda)                                                                                          \n",
            "                                                                                                  \n",
            " tf.expand_dims_7 (TFOpLambda)  (None, 139, 1, 4)    0           ['features[0][0]']               \n",
            "                                                                                                  \n",
            " tf.math.multiply_9 (TFOpLambda  (None, 139, 2)      0           ['tf.math.add_2[0][0]',          \n",
            " )                                                                'tf.math.add_2[0][0]']          \n",
            "                                                                                                  \n",
            " tf.linalg.matmul_2 (TFOpLambda  (None, 139, 139)    0           ['tf.math.add_2[0][0]',          \n",
            " )                                                                'tf.compat.v1.transpose_4[0][0]'\n",
            "                                                                 ]                                \n",
            "                                                                                                  \n",
            " tf.math.multiply_10 (TFOpLambd  (None, 139, 2)      0           ['tf.math.add_2[0][0]',          \n",
            " a)                                                               'tf.math.add_2[0][0]']          \n",
            "                                                                                                  \n",
            " ParticleNet_fts_bn (BatchNorma  (None, 139, 1, 4)   16          ['tf.expand_dims_7[0][0]']       \n",
            " lization)                                                                                        \n",
            "                                                                                                  \n",
            " tf.math.reduce_sum_4 (TFOpLamb  (None, 139, 1)      0           ['tf.math.multiply_9[0][0]']     \n",
            " da)                                                                                              \n",
            "                                                                                                  \n",
            " tf.math.multiply_11 (TFOpLambd  (None, 139, 139)    0           ['tf.linalg.matmul_2[0][0]']     \n",
            " a)                                                                                               \n",
            "                                                                                                  \n",
            " tf.math.reduce_sum_5 (TFOpLamb  (None, 139, 1)      0           ['tf.math.multiply_10[0][0]']    \n",
            " da)                                                                                              \n",
            "                                                                                                  \n",
            " tf.compat.v1.squeeze_3 (TFOpLa  (None, 139, 4)      0           ['ParticleNet_fts_bn[0][0]']     \n",
            " mbda)                                                                                            \n",
            "                                                                                                  \n",
            " tf.math.subtract_4 (TFOpLambda  (None, 139, 139)    0           ['tf.math.reduce_sum_4[0][0]',   \n",
            " )                                                                'tf.math.multiply_11[0][0]']    \n",
            "                                                                                                  \n",
            " tf.compat.v1.transpose_5 (TFOp  (None, 1, 139)      0           ['tf.math.reduce_sum_5[0][0]']   \n",
            " Lambda)                                                                                          \n",
            "                                                                                                  \n",
            " tf.compat.v1.shape_2 (TFOpLamb  (3,)                0           ['tf.compat.v1.squeeze_3[0][0]'] \n",
            " da)                                                                                              \n",
            "                                                                                                  \n",
            " tf.__operators__.add_4 (TFOpLa  (None, 139, 139)    0           ['tf.math.subtract_4[0][0]',     \n",
            " mbda)                                                            'tf.compat.v1.transpose_5[0][0]'\n",
            "                                                                 ]                                \n",
            "                                                                                                  \n",
            " tf.__operators__.getitem_5 (Sl  ()                  0           ['tf.compat.v1.shape_2[0][0]']   \n",
            " icingOpLambda)                                                                                   \n",
            "                                                                                                  \n",
            " tf.math.negative_2 (TFOpLambda  (None, 139, 139)    0           ['tf.__operators__.add_4[0][0]'] \n",
            " )                                                                                                \n",
            "                                                                                                  \n",
            " tf.range_2 (TFOpLambda)        (None,)              0           ['tf.__operators__.getitem_5[0][0\n",
            "                                                                 ]']                              \n",
            "                                                                                                  \n",
            " tf.math.top_k_2 (TFOpLambda)   TopKV2(values=(None  0           ['tf.math.negative_2[0][0]']     \n",
            "                                , 139, 8),                                                        \n",
            "                                 indices=(None, 139                                               \n",
            "                                , 8))                                                             \n",
            "                                                                                                  \n",
            " tf.reshape_2 (TFOpLambda)      (None, 1, 1, 1)      0           ['tf.range_2[0][0]']             \n",
            "                                                                                                  \n",
            " tf.__operators__.getitem_4 (Sl  (None, 139, 7)      0           ['tf.math.top_k_2[0][1]']        \n",
            " icingOpLambda)                                                                                   \n",
            "                                                                                                  \n",
            " tf.tile_4 (TFOpLambda)         (None, 139, 7, 1)    0           ['tf.reshape_2[0][0]']           \n",
            "                                                                                                  \n",
            " tf.expand_dims_8 (TFOpLambda)  (None, 139, 7, 1)    0           ['tf.__operators__.getitem_4[0][0\n",
            "                                                                 ]']                              \n",
            "                                                                                                  \n",
            " tf.expand_dims_9 (TFOpLambda)  (None, 139, 1, 4)    0           ['tf.compat.v1.squeeze_3[0][0]'] \n",
            "                                                                                                  \n",
            " tf.concat_4 (TFOpLambda)       (None, 139, 7, 2)    0           ['tf.tile_4[0][0]',              \n",
            "                                                                  'tf.expand_dims_8[0][0]']       \n",
            "                                                                                                  \n",
            " tf.tile_5 (TFOpLambda)         (None, 139, 7, 4)    0           ['tf.expand_dims_9[0][0]']       \n",
            "                                                                                                  \n",
            " tf.compat.v1.gather_nd_2 (TFOp  (None, 139, 7, 4)   0           ['tf.compat.v1.squeeze_3[0][0]', \n",
            " Lambda)                                                          'tf.concat_4[0][0]']            \n",
            "                                                                                                  \n",
            " tf.math.subtract_5 (TFOpLambda  (None, 139, 7, 4)   0           ['tf.compat.v1.gather_nd_2[0][0]'\n",
            " )                                                               , 'tf.tile_5[0][0]']             \n",
            "                                                                                                  \n",
            " tf.concat_5 (TFOpLambda)       (None, 139, 7, 8)    0           ['tf.tile_5[0][0]',              \n",
            "                                                                  'tf.math.subtract_5[0][0]']     \n",
            "                                                                                                  \n",
            " ParticleNet_EdgeConv0_conv0 (C  (None, 139, 7, 32)  256         ['tf.concat_5[0][0]']            \n",
            " onv2D)                                                                                           \n",
            "                                                                                                  \n",
            " ParticleNet_EdgeConv0_bn0 (Bat  (None, 139, 7, 32)  128         ['ParticleNet_EdgeConv0_conv0[0][\n",
            " chNormalization)                                                0]']                             \n",
            "                                                                                                  \n",
            " ParticleNet_EdgeConv0_act0 (Ac  (None, 139, 7, 32)  0           ['ParticleNet_EdgeConv0_bn0[0][0]\n",
            " tivation)                                                       ']                               \n",
            "                                                                                                  \n",
            " ParticleNet_EdgeConv0_conv1 (C  (None, 139, 7, 32)  1024        ['ParticleNet_EdgeConv0_act0[0][0\n",
            " onv2D)                                                          ]']                              \n",
            "                                                                                                  \n",
            " ParticleNet_EdgeConv0_bn1 (Bat  (None, 139, 7, 32)  128         ['ParticleNet_EdgeConv0_conv1[0][\n",
            " chNormalization)                                                0]']                             \n",
            "                                                                                                  \n",
            " ParticleNet_EdgeConv0_act1 (Ac  (None, 139, 7, 32)  0           ['ParticleNet_EdgeConv0_bn1[0][0]\n",
            " tivation)                                                       ']                               \n",
            "                                                                                                  \n",
            " tf.expand_dims_10 (TFOpLambda)  (None, 139, 1, 4)   0           ['tf.compat.v1.squeeze_3[0][0]'] \n",
            "                                                                                                  \n",
            " ParticleNet_EdgeConv0_conv2 (C  (None, 139, 7, 32)  1024        ['ParticleNet_EdgeConv0_act1[0][0\n",
            " onv2D)                                                          ]']                              \n",
            "                                                                                                  \n",
            " ParticleNet_EdgeConv0_sc_conv   (None, 139, 1, 32)  128         ['tf.expand_dims_10[0][0]']      \n",
            " (Conv2D)                                                                                         \n",
            "                                                                                                  \n",
            " ParticleNet_EdgeConv0_bn2 (Bat  (None, 139, 7, 32)  128         ['ParticleNet_EdgeConv0_conv2[0][\n",
            " chNormalization)                                                0]']                             \n",
            "                                                                                                  \n",
            " ParticleNet_EdgeConv0_sc_bn (B  (None, 139, 1, 32)  128         ['ParticleNet_EdgeConv0_sc_conv[0\n",
            " atchNormalization)                                              ][0]']                           \n",
            "                                                                                                  \n",
            " ParticleNet_EdgeConv0_act2 (Ac  (None, 139, 7, 32)  0           ['ParticleNet_EdgeConv0_bn2[0][0]\n",
            " tivation)                                                       ']                               \n",
            "                                                                                                  \n",
            " tf.compat.v1.squeeze_4 (TFOpLa  (None, 139, 32)     0           ['ParticleNet_EdgeConv0_sc_bn[0][\n",
            " mbda)                                                           0]']                             \n",
            "                                                                                                  \n",
            " tf.math.reduce_mean_3 (TFOpLam  (None, 139, 32)     0           ['ParticleNet_EdgeConv0_act2[0][0\n",
            " bda)                                                            ]']                              \n",
            "                                                                                                  \n",
            " tf.__operators__.add_5 (TFOpLa  (None, 139, 32)     0           ['tf.compat.v1.squeeze_4[0][0]', \n",
            " mbda)                                                            'tf.math.reduce_mean_3[0][0]']  \n",
            "                                                                                                  \n",
            " ParticleNet_EdgeConv0_sc_act (  (None, 139, 32)     0           ['tf.__operators__.add_5[0][0]'] \n",
            " Activation)                                                                                      \n",
            "                                                                                                  \n",
            " tf.math.add_3 (TFOpLambda)     (None, 139, 32)      0           ['tf.math.multiply_8[0][0]',     \n",
            "                                                                  'ParticleNet_EdgeConv0_sc_act[0]\n",
            "                                                                 [0]']                            \n",
            "                                                                                                  \n",
            " tf.compat.v1.transpose_6 (TFOp  (None, 32, 139)     0           ['tf.math.add_3[0][0]']          \n",
            " Lambda)                                                                                          \n",
            "                                                                                                  \n",
            " tf.math.multiply_12 (TFOpLambd  (None, 139, 32)     0           ['tf.math.add_3[0][0]',          \n",
            " a)                                                               'tf.math.add_3[0][0]']          \n",
            "                                                                                                  \n",
            " tf.linalg.matmul_3 (TFOpLambda  (None, 139, 139)    0           ['tf.math.add_3[0][0]',          \n",
            " )                                                                'tf.compat.v1.transpose_6[0][0]'\n",
            "                                                                 ]                                \n",
            "                                                                                                  \n",
            " tf.math.multiply_13 (TFOpLambd  (None, 139, 32)     0           ['tf.math.add_3[0][0]',          \n",
            " a)                                                               'tf.math.add_3[0][0]']          \n",
            "                                                                                                  \n",
            " tf.math.reduce_sum_6 (TFOpLamb  (None, 139, 1)      0           ['tf.math.multiply_12[0][0]']    \n",
            " da)                                                                                              \n",
            "                                                                                                  \n",
            " tf.math.multiply_14 (TFOpLambd  (None, 139, 139)    0           ['tf.linalg.matmul_3[0][0]']     \n",
            " a)                                                                                               \n",
            "                                                                                                  \n",
            " tf.math.reduce_sum_7 (TFOpLamb  (None, 139, 1)      0           ['tf.math.multiply_13[0][0]']    \n",
            " da)                                                                                              \n",
            "                                                                                                  \n",
            " tf.math.subtract_6 (TFOpLambda  (None, 139, 139)    0           ['tf.math.reduce_sum_6[0][0]',   \n",
            " )                                                                'tf.math.multiply_14[0][0]']    \n",
            "                                                                                                  \n",
            " tf.compat.v1.transpose_7 (TFOp  (None, 1, 139)      0           ['tf.math.reduce_sum_7[0][0]']   \n",
            " Lambda)                                                                                          \n",
            "                                                                                                  \n",
            " tf.compat.v1.shape_3 (TFOpLamb  (3,)                0           ['ParticleNet_EdgeConv0_sc_act[0]\n",
            " da)                                                             [0]']                            \n",
            "                                                                                                  \n",
            " tf.__operators__.add_6 (TFOpLa  (None, 139, 139)    0           ['tf.math.subtract_6[0][0]',     \n",
            " mbda)                                                            'tf.compat.v1.transpose_7[0][0]'\n",
            "                                                                 ]                                \n",
            "                                                                                                  \n",
            " tf.__operators__.getitem_7 (Sl  ()                  0           ['tf.compat.v1.shape_3[0][0]']   \n",
            " icingOpLambda)                                                                                   \n",
            "                                                                                                  \n",
            " tf.math.negative_3 (TFOpLambda  (None, 139, 139)    0           ['tf.__operators__.add_6[0][0]'] \n",
            " )                                                                                                \n",
            "                                                                                                  \n",
            " tf.range_3 (TFOpLambda)        (None,)              0           ['tf.__operators__.getitem_7[0][0\n",
            "                                                                 ]']                              \n",
            "                                                                                                  \n",
            " tf.math.top_k_3 (TFOpLambda)   TopKV2(values=(None  0           ['tf.math.negative_3[0][0]']     \n",
            "                                , 139, 8),                                                        \n",
            "                                 indices=(None, 139                                               \n",
            "                                , 8))                                                             \n",
            "                                                                                                  \n",
            " tf.reshape_3 (TFOpLambda)      (None, 1, 1, 1)      0           ['tf.range_3[0][0]']             \n",
            "                                                                                                  \n",
            " tf.__operators__.getitem_6 (Sl  (None, 139, 7)      0           ['tf.math.top_k_3[0][1]']        \n",
            " icingOpLambda)                                                                                   \n",
            "                                                                                                  \n",
            " tf.tile_6 (TFOpLambda)         (None, 139, 7, 1)    0           ['tf.reshape_3[0][0]']           \n",
            "                                                                                                  \n",
            " tf.expand_dims_11 (TFOpLambda)  (None, 139, 7, 1)   0           ['tf.__operators__.getitem_6[0][0\n",
            "                                                                 ]']                              \n",
            "                                                                                                  \n",
            " tf.expand_dims_12 (TFOpLambda)  (None, 139, 1, 32)  0           ['ParticleNet_EdgeConv0_sc_act[0]\n",
            "                                                                 [0]']                            \n",
            "                                                                                                  \n",
            " tf.concat_6 (TFOpLambda)       (None, 139, 7, 2)    0           ['tf.tile_6[0][0]',              \n",
            "                                                                  'tf.expand_dims_11[0][0]']      \n",
            "                                                                                                  \n",
            " tf.tile_7 (TFOpLambda)         (None, 139, 7, 32)   0           ['tf.expand_dims_12[0][0]']      \n",
            "                                                                                                  \n",
            " tf.compat.v1.gather_nd_3 (TFOp  (None, 139, 7, 32)  0           ['ParticleNet_EdgeConv0_sc_act[0]\n",
            " Lambda)                                                         [0]',                            \n",
            "                                                                  'tf.concat_6[0][0]']            \n",
            "                                                                                                  \n",
            " tf.math.subtract_7 (TFOpLambda  (None, 139, 7, 32)  0           ['tf.compat.v1.gather_nd_3[0][0]'\n",
            " )                                                               , 'tf.tile_7[0][0]']             \n",
            "                                                                                                  \n",
            " tf.concat_7 (TFOpLambda)       (None, 139, 7, 64)   0           ['tf.tile_7[0][0]',              \n",
            "                                                                  'tf.math.subtract_7[0][0]']     \n",
            "                                                                                                  \n",
            " ParticleNet_EdgeConv1_conv0 (C  (None, 139, 7, 64)  4096        ['tf.concat_7[0][0]']            \n",
            " onv2D)                                                                                           \n",
            "                                                                                                  \n",
            " ParticleNet_EdgeConv1_bn0 (Bat  (None, 139, 7, 64)  256         ['ParticleNet_EdgeConv1_conv0[0][\n",
            " chNormalization)                                                0]']                             \n",
            "                                                                                                  \n",
            " ParticleNet_EdgeConv1_act0 (Ac  (None, 139, 7, 64)  0           ['ParticleNet_EdgeConv1_bn0[0][0]\n",
            " tivation)                                                       ']                               \n",
            "                                                                                                  \n",
            " ParticleNet_EdgeConv1_conv1 (C  (None, 139, 7, 64)  4096        ['ParticleNet_EdgeConv1_act0[0][0\n",
            " onv2D)                                                          ]']                              \n",
            "                                                                                                  \n",
            " ParticleNet_EdgeConv1_bn1 (Bat  (None, 139, 7, 64)  256         ['ParticleNet_EdgeConv1_conv1[0][\n",
            " chNormalization)                                                0]']                             \n",
            "                                                                                                  \n",
            " ParticleNet_EdgeConv1_act1 (Ac  (None, 139, 7, 64)  0           ['ParticleNet_EdgeConv1_bn1[0][0]\n",
            " tivation)                                                       ']                               \n",
            "                                                                                                  \n",
            " tf.expand_dims_13 (TFOpLambda)  (None, 139, 1, 32)  0           ['ParticleNet_EdgeConv0_sc_act[0]\n",
            "                                                                 [0]']                            \n",
            "                                                                                                  \n",
            " ParticleNet_EdgeConv1_conv2 (C  (None, 139, 7, 64)  4096        ['ParticleNet_EdgeConv1_act1[0][0\n",
            " onv2D)                                                          ]']                              \n",
            "                                                                                                  \n",
            " ParticleNet_EdgeConv1_sc_conv   (None, 139, 1, 64)  2048        ['tf.expand_dims_13[0][0]']      \n",
            " (Conv2D)                                                                                         \n",
            "                                                                                                  \n",
            " ParticleNet_EdgeConv1_bn2 (Bat  (None, 139, 7, 64)  256         ['ParticleNet_EdgeConv1_conv2[0][\n",
            " chNormalization)                                                0]']                             \n",
            "                                                                                                  \n",
            " ParticleNet_EdgeConv1_sc_bn (B  (None, 139, 1, 64)  256         ['ParticleNet_EdgeConv1_sc_conv[0\n",
            " atchNormalization)                                              ][0]']                           \n",
            "                                                                                                  \n",
            " ParticleNet_EdgeConv1_act2 (Ac  (None, 139, 7, 64)  0           ['ParticleNet_EdgeConv1_bn2[0][0]\n",
            " tivation)                                                       ']                               \n",
            "                                                                                                  \n",
            " tf.compat.v1.squeeze_5 (TFOpLa  (None, 139, 64)     0           ['ParticleNet_EdgeConv1_sc_bn[0][\n",
            " mbda)                                                           0]']                             \n",
            "                                                                                                  \n",
            " tf.math.reduce_mean_4 (TFOpLam  (None, 139, 64)     0           ['ParticleNet_EdgeConv1_act2[0][0\n",
            " bda)                                                            ]']                              \n",
            "                                                                                                  \n",
            " tf.__operators__.add_7 (TFOpLa  (None, 139, 64)     0           ['tf.compat.v1.squeeze_5[0][0]', \n",
            " mbda)                                                            'tf.math.reduce_mean_4[0][0]']  \n",
            "                                                                                                  \n",
            " ParticleNet_EdgeConv1_sc_act (  (None, 139, 64)     0           ['tf.__operators__.add_7[0][0]'] \n",
            " Activation)                                                                                      \n",
            "                                                                                                  \n",
            " tf.math.multiply_15 (TFOpLambd  (None, 139, 64)     0           ['ParticleNet_EdgeConv1_sc_act[0]\n",
            " a)                                                              [0]',                            \n",
            "                                                                  'tf.cast_2[0][0]']              \n",
            "                                                                                                  \n",
            " tf.math.reduce_mean_5 (TFOpLam  (None, 64)          0           ['tf.math.multiply_15[0][0]']    \n",
            " bda)                                                                                             \n",
            "                                                                                                  \n",
            " dense_2 (Dense)                (None, 128)          8320        ['tf.math.reduce_mean_5[0][0]']  \n",
            "                                                                                                  \n",
            " dropout_1 (Dropout)            (None, 128)          0           ['dense_2[0][0]']                \n",
            "                                                                                                  \n",
            " dense_3 (Dense)                (None, 2)            258         ['dropout_1[0][0]']              \n",
            "                                                                                                  \n",
            "==================================================================================================\n",
            "Total params: 26,898\n",
            "Trainable params: 26,122\n",
            "Non-trainable params: 776\n",
            "__________________________________________________________________________________________________\n"
          ]
        }
      ],
      "source": [
        "model.compile(loss='categorical_crossentropy',\n",
        "              optimizer=keras.optimizers.Adam(learning_rate=lr_schedule(0)),\n",
        "              metrics=['accuracy'])\n",
        "model.summary()"
      ]
    },
    {
      "cell_type": "markdown",
      "id": "67cce327",
      "metadata": {
        "id": "67cce327"
      },
      "source": [
        "### Train the model"
      ]
    },
    {
      "cell_type": "code",
      "execution_count": 33,
      "id": "e6d66c00",
      "metadata": {
        "ExecuteTime": {
          "end_time": "2022-05-13T12:34:59.698118Z",
          "start_time": "2022-05-13T12:34:59.675062Z"
        },
        "id": "e6d66c00"
      },
      "outputs": [],
      "source": [
        "# Prepare model model saving directory.\n",
        "\n",
        "save_dir = 'model_checkpoints'\n",
        "model_name = '%s_model.{epoch:03d}.h5' % 'particle_net_lite'\n",
        "if not os.path.isdir(save_dir):\n",
        "    os.makedirs(save_dir)\n",
        "filepath = os.path.join(save_dir, model_name)\n",
        "\n",
        "# Prepare callbacks for model saving and for learning rate adjustment.\n",
        "checkpoint = keras.callbacks.ModelCheckpoint(filepath=filepath,\n",
        "                                             monitor='val_accuracy',\n",
        "                                             verbose=1,\n",
        "                                             save_best_only=True)\n",
        "\n",
        "lr_scheduler = keras.callbacks.LearningRateScheduler(lr_schedule)\n",
        "progress_bar = keras.callbacks.ProgbarLogger()\n",
        "callbacks = [checkpoint, lr_scheduler, progress_bar]"
      ]
    },
    {
      "cell_type": "code",
      "execution_count": 34,
      "id": "f1f2b991",
      "metadata": {
        "ExecuteTime": {
          "start_time": "2022-05-13T12:35:01.567Z"
        },
        "colab": {
          "base_uri": "https://localhost:8080/"
        },
        "id": "f1f2b991",
        "outputId": "9465caec-527e-441b-c511-8fddba9d67cb",
        "scrolled": true
      },
      "outputs": [
        {
          "name": "stdout",
          "output_type": "stream",
          "text": [
            "Epoch 1/100\n",
            "      0/Unknown - 56s 0s/sample - loss: 0.5165 - accuracy: 0.7503\n",
            "Epoch 1: val_accuracy improved from -inf to 0.54467, saving model to model_checkpoints/particle_net_lite_model.001.h5\n",
            "69/69 [==============================] - 67s 972ms/sample - loss: 0.5165 - accuracy: 0.7503 - val_loss: 0.6616 - val_accuracy: 0.5447 - lr: 0.0010\n",
            "Epoch 2/100\n",
            " 0/69 [..............................] - ETA: 0s - loss: 0.4812 - accuracy: 0.7761\n",
            "Epoch 2: val_accuracy improved from 0.54467 to 0.72007, saving model to model_checkpoints/particle_net_lite_model.002.h5\n",
            "69/69 [==============================] - 49s 716ms/sample - loss: 0.4812 - accuracy: 0.7761 - val_loss: 0.5444 - val_accuracy: 0.7201 - lr: 0.0010\n",
            "Epoch 3/100\n",
            " 0/69 [..............................] - ETA: 0s - loss: 0.4743 - accuracy: 0.7816\n",
            "Epoch 3: val_accuracy improved from 0.72007 to 0.77060, saving model to model_checkpoints/particle_net_lite_model.003.h5\n",
            "69/69 [==============================] - 49s 713ms/sample - loss: 0.4743 - accuracy: 0.7816 - val_loss: 0.5015 - val_accuracy: 0.7706 - lr: 0.0010\n",
            "Epoch 4/100\n",
            " 0/69 [..............................] - ETA: 0s - loss: 0.4680 - accuracy: 0.7850\n",
            "Epoch 4: val_accuracy improved from 0.77060 to 0.78653, saving model to model_checkpoints/particle_net_lite_model.004.h5\n",
            "69/69 [==============================] - 49s 713ms/sample - loss: 0.4680 - accuracy: 0.7850 - val_loss: 0.4710 - val_accuracy: 0.7865 - lr: 0.0010\n",
            "Epoch 5/100\n",
            " 0/69 [..............................] - ETA: 0s - loss: 0.4622 - accuracy: 0.7901\n",
            "Epoch 5: val_accuracy improved from 0.78653 to 0.79247, saving model to model_checkpoints/particle_net_lite_model.005.h5\n",
            "69/69 [==============================] - 49s 714ms/sample - loss: 0.4622 - accuracy: 0.7901 - val_loss: 0.4556 - val_accuracy: 0.7925 - lr: 0.0010\n",
            "Epoch 6/100\n",
            " 0/69 [..............................] - ETA: 0s - loss: 0.4560 - accuracy: 0.7944\n",
            "Epoch 6: val_accuracy improved from 0.79247 to 0.79580, saving model to model_checkpoints/particle_net_lite_model.006.h5\n",
            "69/69 [==============================] - 49s 713ms/sample - loss: 0.4560 - accuracy: 0.7944 - val_loss: 0.4483 - val_accuracy: 0.7958 - lr: 0.0010\n",
            "Epoch 7/100\n",
            " 0/69 [..............................] - ETA: 0s - loss: 0.4519 - accuracy: 0.7965\n",
            "Epoch 7: val_accuracy did not improve from 0.79580\n",
            "69/69 [==============================] - 49s 715ms/sample - loss: 0.4519 - accuracy: 0.7965 - val_loss: 0.4531 - val_accuracy: 0.7935 - lr: 0.0010\n",
            "Epoch 8/100\n",
            " 0/69 [..............................] - ETA: 0s - loss: 0.4485 - accuracy: 0.7988\n",
            "Epoch 8: val_accuracy improved from 0.79580 to 0.80153, saving model to model_checkpoints/particle_net_lite_model.008.h5\n",
            "69/69 [==============================] - 49s 714ms/sample - loss: 0.4485 - accuracy: 0.7988 - val_loss: 0.4412 - val_accuracy: 0.8015 - lr: 0.0010\n",
            "Epoch 9/100\n",
            " 0/69 [..............................] - ETA: 0s - loss: 0.4463 - accuracy: 0.8002\n",
            "Epoch 9: val_accuracy did not improve from 0.80153\n",
            "69/69 [==============================] - 49s 709ms/sample - loss: 0.4463 - accuracy: 0.8002 - val_loss: 0.4700 - val_accuracy: 0.7814 - lr: 0.0010\n",
            "Epoch 10/100\n",
            " 0/69 [..............................] - ETA: 0s - loss: 0.4439 - accuracy: 0.8016\n",
            "Epoch 10: val_accuracy improved from 0.80153 to 0.80433, saving model to model_checkpoints/particle_net_lite_model.010.h5\n",
            "69/69 [==============================] - 49s 712ms/sample - loss: 0.4439 - accuracy: 0.8016 - val_loss: 0.4348 - val_accuracy: 0.8043 - lr: 0.0010\n",
            "Epoch 11/100\n",
            " 0/69 [..............................] - ETA: 0s - loss: 0.4423 - accuracy: 0.8030\n",
            "Epoch 11: val_accuracy did not improve from 0.80433\n",
            "69/69 [==============================] - 45s 654ms/sample - loss: 0.4423 - accuracy: 0.8030 - val_loss: 0.4424 - val_accuracy: 0.8025 - lr: 0.0010\n",
            "Epoch 12/100\n",
            " 0/69 [..............................] - ETA: 0s - loss: 0.4374 - accuracy: 0.8052\n",
            "Epoch 12: val_accuracy improved from 0.80433 to 0.80727, saving model to model_checkpoints/particle_net_lite_model.012.h5\n",
            "69/69 [==============================] - 49s 710ms/sample - loss: 0.4374 - accuracy: 0.8052 - val_loss: 0.4307 - val_accuracy: 0.8073 - lr: 1.0000e-04\n",
            "Epoch 13/100\n",
            " 0/69 [..............................] - ETA: 0s - loss: 0.4362 - accuracy: 0.8059\n",
            "Epoch 13: val_accuracy did not improve from 0.80727\n",
            "69/69 [==============================] - 49s 710ms/sample - loss: 0.4362 - accuracy: 0.8059 - val_loss: 0.4328 - val_accuracy: 0.8061 - lr: 1.0000e-04\n",
            "Epoch 14/100\n",
            " 0/69 [..............................] - ETA: 0s - loss: 0.4355 - accuracy: 0.8067\n",
            "Epoch 14: val_accuracy did not improve from 0.80727\n",
            "69/69 [==============================] - 49s 710ms/sample - loss: 0.4355 - accuracy: 0.8067 - val_loss: 0.4296 - val_accuracy: 0.8068 - lr: 1.0000e-04\n",
            "Epoch 15/100\n",
            " 0/69 [..............................] - ETA: 0s - loss: 0.4354 - accuracy: 0.8056\n",
            "Epoch 15: val_accuracy improved from 0.80727 to 0.80780, saving model to model_checkpoints/particle_net_lite_model.015.h5\n",
            "69/69 [==============================] - 49s 712ms/sample - loss: 0.4354 - accuracy: 0.8056 - val_loss: 0.4293 - val_accuracy: 0.8078 - lr: 1.0000e-04\n",
            "Epoch 16/100\n",
            " 0/69 [..............................] - ETA: 0s - loss: 0.4343 - accuracy: 0.8068\n",
            "Epoch 16: val_accuracy improved from 0.80780 to 0.80787, saving model to model_checkpoints/particle_net_lite_model.016.h5\n",
            "69/69 [==============================] - 45s 654ms/sample - loss: 0.4343 - accuracy: 0.8068 - val_loss: 0.4294 - val_accuracy: 0.8079 - lr: 1.0000e-04\n",
            "Epoch 17/100\n",
            " 0/69 [..............................] - ETA: 0s - loss: 0.4342 - accuracy: 0.8067\n",
            "Epoch 17: val_accuracy did not improve from 0.80787\n",
            "69/69 [==============================] - 49s 708ms/sample - loss: 0.4342 - accuracy: 0.8067 - val_loss: 0.4296 - val_accuracy: 0.8075 - lr: 1.0000e-04\n",
            "Epoch 18/100\n",
            " 0/69 [..............................] - ETA: 0s - loss: 0.4338 - accuracy: 0.8068\n",
            "Epoch 18: val_accuracy improved from 0.80787 to 0.80793, saving model to model_checkpoints/particle_net_lite_model.018.h5\n",
            "69/69 [==============================] - 49s 711ms/sample - loss: 0.4338 - accuracy: 0.8068 - val_loss: 0.4288 - val_accuracy: 0.8079 - lr: 1.0000e-04\n",
            "Epoch 19/100\n",
            " 0/69 [..............................] - ETA: 0s - loss: 0.4337 - accuracy: 0.8069\n",
            "Epoch 19: val_accuracy did not improve from 0.80793\n",
            "69/69 [==============================] - 49s 711ms/sample - loss: 0.4337 - accuracy: 0.8069 - val_loss: 0.4290 - val_accuracy: 0.8072 - lr: 1.0000e-04\n",
            "Epoch 20/100\n",
            " 0/69 [..............................] - ETA: 0s - loss: 0.4333 - accuracy: 0.8077\n",
            "Epoch 20: val_accuracy did not improve from 0.80793\n",
            "69/69 [==============================] - 49s 710ms/sample - loss: 0.4333 - accuracy: 0.8077 - val_loss: 0.4340 - val_accuracy: 0.8059 - lr: 1.0000e-04\n",
            "Epoch 21/100\n",
            " 0/69 [..............................] - ETA: 0s - loss: 0.4335 - accuracy: 0.8073\n",
            "Epoch 21: val_accuracy improved from 0.80793 to 0.80800, saving model to model_checkpoints/particle_net_lite_model.021.h5\n",
            "69/69 [==============================] - 49s 710ms/sample - loss: 0.4335 - accuracy: 0.8073 - val_loss: 0.4285 - val_accuracy: 0.8080 - lr: 1.0000e-04\n",
            "Epoch 22/100\n",
            " 0/69 [..............................] - ETA: 0s - loss: 0.4331 - accuracy: 0.8080\n",
            "Epoch 22: val_accuracy improved from 0.80800 to 0.80893, saving model to model_checkpoints/particle_net_lite_model.022.h5\n",
            "69/69 [==============================] - 45s 655ms/sample - loss: 0.4331 - accuracy: 0.8080 - val_loss: 0.4289 - val_accuracy: 0.8089 - lr: 1.0000e-04\n",
            "Epoch 23/100\n",
            " 0/69 [..............................] - ETA: 0s - loss: 0.4330 - accuracy: 0.8080\n",
            "Epoch 23: val_accuracy improved from 0.80893 to 0.80947, saving model to model_checkpoints/particle_net_lite_model.023.h5\n",
            "69/69 [==============================] - 49s 708ms/sample - loss: 0.4330 - accuracy: 0.8080 - val_loss: 0.4284 - val_accuracy: 0.8095 - lr: 1.0000e-04\n",
            "Epoch 24/100\n",
            " 0/69 [..............................] - ETA: 0s - loss: 0.4329 - accuracy: 0.8078\n",
            "Epoch 24: val_accuracy did not improve from 0.80947\n",
            "69/69 [==============================] - 45s 654ms/sample - loss: 0.4329 - accuracy: 0.8078 - val_loss: 0.4288 - val_accuracy: 0.8080 - lr: 1.0000e-04\n",
            "Epoch 25/100\n",
            " 0/69 [..............................] - ETA: 0s - loss: 0.4327 - accuracy: 0.8078\n",
            "Epoch 25: val_accuracy improved from 0.80947 to 0.80993, saving model to model_checkpoints/particle_net_lite_model.025.h5\n",
            "69/69 [==============================] - 49s 708ms/sample - loss: 0.4327 - accuracy: 0.8078 - val_loss: 0.4274 - val_accuracy: 0.8099 - lr: 1.0000e-04\n",
            "Epoch 26/100\n",
            " 0/69 [..............................] - ETA: 0s - loss: 0.4315 - accuracy: 0.8085\n",
            "Epoch 26: val_accuracy did not improve from 0.80993\n",
            "69/69 [==============================] - 45s 654ms/sample - loss: 0.4315 - accuracy: 0.8085 - val_loss: 0.4276 - val_accuracy: 0.8094 - lr: 1.0000e-04\n",
            "Epoch 27/100\n",
            " 0/69 [..............................] - ETA: 0s - loss: 0.4318 - accuracy: 0.8078\n",
            "Epoch 27: val_accuracy improved from 0.80993 to 0.81020, saving model to model_checkpoints/particle_net_lite_model.027.h5\n",
            "69/69 [==============================] - 49s 710ms/sample - loss: 0.4318 - accuracy: 0.8078 - val_loss: 0.4272 - val_accuracy: 0.8102 - lr: 1.0000e-04\n",
            "Epoch 28/100\n",
            " 0/69 [..............................] - ETA: 0s - loss: 0.4312 - accuracy: 0.8086\n",
            "Epoch 28: val_accuracy did not improve from 0.81020\n",
            "69/69 [==============================] - 49s 710ms/sample - loss: 0.4312 - accuracy: 0.8086 - val_loss: 0.4270 - val_accuracy: 0.8093 - lr: 1.0000e-04\n",
            "Epoch 29/100\n",
            " 0/69 [..............................] - ETA: 0s - loss: 0.4308 - accuracy: 0.8087\n",
            "Epoch 29: val_accuracy did not improve from 0.81020\n",
            "69/69 [==============================] - 49s 709ms/sample - loss: 0.4308 - accuracy: 0.8087 - val_loss: 0.4268 - val_accuracy: 0.8083 - lr: 1.0000e-04\n",
            "Epoch 30/100\n",
            " 0/69 [..............................] - ETA: 0s - loss: 0.4309 - accuracy: 0.8088\n",
            "Epoch 30: val_accuracy did not improve from 0.81020\n",
            "69/69 [==============================] - 49s 711ms/sample - loss: 0.4309 - accuracy: 0.8088 - val_loss: 0.4271 - val_accuracy: 0.8096 - lr: 1.0000e-04\n",
            "Epoch 31/100\n",
            " 0/69 [..............................] - ETA: 0s - loss: 0.4308 - accuracy: 0.8084\n",
            "Epoch 31: val_accuracy did not improve from 0.81020\n",
            "69/69 [==============================] - 49s 709ms/sample - loss: 0.4308 - accuracy: 0.8084 - val_loss: 0.4272 - val_accuracy: 0.8099 - lr: 1.0000e-04\n",
            "Epoch 32/100\n",
            " 0/69 [..............................] - ETA: 0s - loss: 0.4309 - accuracy: 0.8087\n",
            "Epoch 32: val_accuracy did not improve from 0.81020\n",
            "69/69 [==============================] - 49s 710ms/sample - loss: 0.4309 - accuracy: 0.8087 - val_loss: 0.4293 - val_accuracy: 0.8079 - lr: 1.0000e-04\n",
            "Epoch 33/100\n",
            " 0/69 [..............................] - ETA: 0s - loss: 0.4308 - accuracy: 0.8094\n",
            "Epoch 33: val_accuracy improved from 0.81020 to 0.81067, saving model to model_checkpoints/particle_net_lite_model.033.h5\n",
            "69/69 [==============================] - 45s 659ms/sample - loss: 0.4308 - accuracy: 0.8094 - val_loss: 0.4285 - val_accuracy: 0.8107 - lr: 1.0000e-04\n",
            "Epoch 34/100\n",
            " 0/69 [..............................] - ETA: 0s - loss: 0.4302 - accuracy: 0.8094\n",
            "Epoch 34: val_accuracy did not improve from 0.81067\n",
            "69/69 [==============================] - 49s 709ms/sample - loss: 0.4302 - accuracy: 0.8094 - val_loss: 0.4276 - val_accuracy: 0.8083 - lr: 1.0000e-04\n",
            "Epoch 35/100\n",
            " 0/69 [..............................] - ETA: 0s - loss: 0.4307 - accuracy: 0.8089\n",
            "Epoch 35: val_accuracy did not improve from 0.81067\n",
            "69/69 [==============================] - 49s 710ms/sample - loss: 0.4307 - accuracy: 0.8089 - val_loss: 0.4262 - val_accuracy: 0.8089 - lr: 1.0000e-04\n",
            "Epoch 36/100\n",
            " 0/69 [..............................] - ETA: 0s - loss: 0.4299 - accuracy: 0.8092\n",
            "Epoch 36: val_accuracy did not improve from 0.81067\n",
            "69/69 [==============================] - 49s 710ms/sample - loss: 0.4299 - accuracy: 0.8092 - val_loss: 0.4260 - val_accuracy: 0.8103 - lr: 1.0000e-04\n",
            "Epoch 37/100\n",
            " 0/69 [..............................] - ETA: 0s - loss: 0.4297 - accuracy: 0.8094\n",
            "Epoch 37: val_accuracy did not improve from 0.81067\n",
            "69/69 [==============================] - 45s 653ms/sample - loss: 0.4297 - accuracy: 0.8094 - val_loss: 0.4273 - val_accuracy: 0.8097 - lr: 1.0000e-04\n",
            "Epoch 38/100\n",
            " 0/69 [..............................] - ETA: 0s - loss: 0.4293 - accuracy: 0.8098\n",
            "Epoch 38: val_accuracy did not improve from 0.81067\n",
            "69/69 [==============================] - 49s 708ms/sample - loss: 0.4293 - accuracy: 0.8098 - val_loss: 0.4268 - val_accuracy: 0.8095 - lr: 1.0000e-04\n",
            "Epoch 39/100\n",
            " 0/69 [..............................] - ETA: 0s - loss: 0.4290 - accuracy: 0.8091\n",
            "Epoch 39: val_accuracy did not improve from 0.81067\n",
            "69/69 [==============================] - 49s 710ms/sample - loss: 0.4290 - accuracy: 0.8091 - val_loss: 0.4279 - val_accuracy: 0.8099 - lr: 1.0000e-04\n",
            "Epoch 40/100\n",
            " 0/69 [..............................] - ETA: 0s - loss: 0.4290 - accuracy: 0.8092\n",
            "Epoch 40: val_accuracy did not improve from 0.81067\n",
            "69/69 [==============================] - 49s 710ms/sample - loss: 0.4290 - accuracy: 0.8092 - val_loss: 0.4261 - val_accuracy: 0.8103 - lr: 1.0000e-04\n",
            "Epoch 41/100\n",
            " 0/69 [..............................] - ETA: 0s - loss: 0.4288 - accuracy: 0.8096\n",
            "Epoch 41: val_accuracy did not improve from 0.81067\n",
            "69/69 [==============================] - 49s 711ms/sample - loss: 0.4288 - accuracy: 0.8096 - val_loss: 0.4253 - val_accuracy: 0.8104 - lr: 1.0000e-04\n",
            "Epoch 42/100\n",
            " 0/69 [..............................] - ETA: 0s - loss: 0.4284 - accuracy: 0.8103\n",
            "Epoch 42: val_accuracy did not improve from 0.81067\n",
            "69/69 [==============================] - 45s 651ms/sample - loss: 0.4284 - accuracy: 0.8103 - val_loss: 0.4256 - val_accuracy: 0.8102 - lr: 1.0000e-04\n",
            "Epoch 43/100\n",
            " 0/69 [..............................] - ETA: 0s - loss: 0.4283 - accuracy: 0.8092\n",
            "Epoch 43: val_accuracy improved from 0.81067 to 0.81113, saving model to model_checkpoints/particle_net_lite_model.043.h5\n",
            "69/69 [==============================] - 49s 710ms/sample - loss: 0.4283 - accuracy: 0.8092 - val_loss: 0.4254 - val_accuracy: 0.8111 - lr: 1.0000e-04\n",
            "Epoch 44/100\n",
            " 0/69 [..............................] - ETA: 0s - loss: 0.4285 - accuracy: 0.8099\n",
            "Epoch 44: val_accuracy did not improve from 0.81113\n",
            "69/69 [==============================] - 49s 711ms/sample - loss: 0.4285 - accuracy: 0.8099 - val_loss: 0.4253 - val_accuracy: 0.8093 - lr: 1.0000e-04\n",
            "Epoch 45/100\n",
            " 0/69 [..............................] - ETA: 0s - loss: 0.4284 - accuracy: 0.8089\n",
            "Epoch 45: val_accuracy improved from 0.81113 to 0.81140, saving model to model_checkpoints/particle_net_lite_model.045.h5\n",
            "69/69 [==============================] - 49s 711ms/sample - loss: 0.4284 - accuracy: 0.8089 - val_loss: 0.4252 - val_accuracy: 0.8114 - lr: 1.0000e-04\n",
            "Epoch 46/100\n",
            " 0/69 [..............................] - ETA: 0s - loss: 0.4277 - accuracy: 0.8101\n",
            "Epoch 46: val_accuracy did not improve from 0.81140\n",
            "69/69 [==============================] - 49s 710ms/sample - loss: 0.4277 - accuracy: 0.8101 - val_loss: 0.4259 - val_accuracy: 0.8111 - lr: 1.0000e-04\n",
            "Epoch 47/100\n",
            " 0/69 [..............................] - ETA: 0s - loss: 0.4277 - accuracy: 0.8111\n",
            "Epoch 47: val_accuracy did not improve from 0.81140\n",
            "69/69 [==============================] - 49s 711ms/sample - loss: 0.4277 - accuracy: 0.8111 - val_loss: 0.4244 - val_accuracy: 0.8103 - lr: 1.0000e-04\n",
            "Epoch 48/100\n",
            " 0/69 [..............................] - ETA: 0s - loss: 0.4272 - accuracy: 0.8101\n",
            "Epoch 48: val_accuracy did not improve from 0.81140\n",
            "69/69 [==============================] - 45s 654ms/sample - loss: 0.4272 - accuracy: 0.8101 - val_loss: 0.4246 - val_accuracy: 0.8105 - lr: 1.0000e-04\n",
            "Epoch 49/100\n",
            " 0/69 [..............................] - ETA: 0s - loss: 0.4269 - accuracy: 0.8107\n",
            "Epoch 49: val_accuracy did not improve from 0.81140\n",
            "69/69 [==============================] - 49s 708ms/sample - loss: 0.4269 - accuracy: 0.8107 - val_loss: 0.4264 - val_accuracy: 0.8103 - lr: 1.0000e-04\n",
            "Epoch 50/100\n",
            " 0/69 [..............................] - ETA: 0s - loss: 0.4270 - accuracy: 0.8109\n",
            "Epoch 50: val_accuracy did not improve from 0.81140\n",
            "69/69 [==============================] - 49s 711ms/sample - loss: 0.4270 - accuracy: 0.8109 - val_loss: 0.4244 - val_accuracy: 0.8108 - lr: 1.0000e-04\n",
            "Epoch 51/100\n",
            " 0/69 [..............................] - ETA: 0s - loss: 0.4269 - accuracy: 0.8115\n",
            "Epoch 51: val_accuracy did not improve from 0.81140\n",
            "69/69 [==============================] - 49s 710ms/sample - loss: 0.4269 - accuracy: 0.8115 - val_loss: 0.4248 - val_accuracy: 0.8113 - lr: 1.0000e-04\n",
            "Epoch 52/100\n",
            " 0/69 [..............................] - ETA: 0s - loss: 0.4263 - accuracy: 0.8114\n",
            "Epoch 52: val_accuracy did not improve from 0.81140\n",
            "69/69 [==============================] - 45s 653ms/sample - loss: 0.4263 - accuracy: 0.8114 - val_loss: 0.4241 - val_accuracy: 0.8097 - lr: 1.0000e-04\n",
            "Epoch 53/100\n",
            " 0/69 [..............................] - ETA: 0s - loss: 0.4266 - accuracy: 0.8109\n",
            "Epoch 53: val_accuracy improved from 0.81140 to 0.81187, saving model to model_checkpoints/particle_net_lite_model.053.h5\n",
            "69/69 [==============================] - 49s 709ms/sample - loss: 0.4266 - accuracy: 0.8109 - val_loss: 0.4238 - val_accuracy: 0.8119 - lr: 1.0000e-04\n",
            "Epoch 54/100\n",
            " 0/69 [..............................] - ETA: 0s - loss: 0.4261 - accuracy: 0.8111\n",
            "Epoch 54: val_accuracy did not improve from 0.81187\n",
            "69/69 [==============================] - 45s 654ms/sample - loss: 0.4261 - accuracy: 0.8111 - val_loss: 0.4247 - val_accuracy: 0.8116 - lr: 1.0000e-04\n",
            "Epoch 55/100\n",
            " 0/69 [..............................] - ETA: 0s - loss: 0.4261 - accuracy: 0.8102\n",
            "Epoch 55: val_accuracy did not improve from 0.81187\n",
            "69/69 [==============================] - 49s 707ms/sample - loss: 0.4261 - accuracy: 0.8102 - val_loss: 0.4244 - val_accuracy: 0.8107 - lr: 1.0000e-04\n",
            "Epoch 56/100\n",
            " 0/69 [..............................] - ETA: 0s - loss: 0.4259 - accuracy: 0.8112\n",
            "Epoch 56: val_accuracy did not improve from 0.81187\n",
            "69/69 [==============================] - 45s 651ms/sample - loss: 0.4259 - accuracy: 0.8112 - val_loss: 0.4247 - val_accuracy: 0.8112 - lr: 1.0000e-04\n",
            "Epoch 57/100\n",
            " 0/69 [..............................] - ETA: 0s - loss: 0.4257 - accuracy: 0.8116\n",
            "Epoch 57: val_accuracy did not improve from 0.81187\n",
            "69/69 [==============================] - 49s 708ms/sample - loss: 0.4257 - accuracy: 0.8116 - val_loss: 0.4257 - val_accuracy: 0.8111 - lr: 1.0000e-04\n",
            "Epoch 58/100\n",
            " 0/69 [..............................] - ETA: 0s - loss: 0.4260 - accuracy: 0.8116\n",
            "Epoch 58: val_accuracy improved from 0.81187 to 0.81273, saving model to model_checkpoints/particle_net_lite_model.058.h5\n",
            "69/69 [==============================] - 49s 714ms/sample - loss: 0.4260 - accuracy: 0.8116 - val_loss: 0.4232 - val_accuracy: 0.8127 - lr: 1.0000e-04\n",
            "Epoch 59/100\n",
            " 0/69 [..............................] - ETA: 0s - loss: 0.4253 - accuracy: 0.8108\n",
            "Epoch 59: val_accuracy did not improve from 0.81273\n",
            "69/69 [==============================] - 49s 710ms/sample - loss: 0.4253 - accuracy: 0.8108 - val_loss: 0.4270 - val_accuracy: 0.8109 - lr: 1.0000e-04\n",
            "Epoch 60/100\n",
            " 0/69 [..............................] - ETA: 0s - loss: 0.4250 - accuracy: 0.8115\n",
            "Epoch 60: val_accuracy did not improve from 0.81273\n",
            "69/69 [==============================] - 49s 710ms/sample - loss: 0.4250 - accuracy: 0.8115 - val_loss: 0.4230 - val_accuracy: 0.8122 - lr: 1.0000e-04\n",
            "Epoch 61/100\n",
            " 0/69 [..............................] - ETA: 0s - loss: 0.4256 - accuracy: 0.8108\n",
            "Epoch 61: val_accuracy did not improve from 0.81273\n",
            "69/69 [==============================] - 49s 711ms/sample - loss: 0.4256 - accuracy: 0.8108 - val_loss: 0.4241 - val_accuracy: 0.8122 - lr: 1.0000e-04\n",
            "Epoch 62/100\n",
            " 0/69 [..............................] - ETA: 0s - loss: 0.4250 - accuracy: 0.8116\n",
            "Epoch 62: val_accuracy did not improve from 0.81273\n",
            "69/69 [==============================] - 49s 709ms/sample - loss: 0.4250 - accuracy: 0.8116 - val_loss: 0.4234 - val_accuracy: 0.8127 - lr: 1.0000e-04\n",
            "Epoch 63/100\n",
            " 0/69 [..............................] - ETA: 0s - loss: 0.4242 - accuracy: 0.8123\n",
            "Epoch 63: val_accuracy did not improve from 0.81273\n",
            "69/69 [==============================] - 45s 652ms/sample - loss: 0.4242 - accuracy: 0.8123 - val_loss: 0.4259 - val_accuracy: 0.8117 - lr: 1.0000e-04\n",
            "Epoch 64/100\n",
            " 0/69 [..............................] - ETA: 0s - loss: 0.4250 - accuracy: 0.8118\n",
            "Epoch 64: val_accuracy did not improve from 0.81273\n",
            "69/69 [==============================] - 49s 708ms/sample - loss: 0.4250 - accuracy: 0.8118 - val_loss: 0.4234 - val_accuracy: 0.8126 - lr: 1.0000e-04\n",
            "Epoch 65/100\n",
            " 0/69 [..............................] - ETA: 0s - loss: 0.4246 - accuracy: 0.8115\n",
            "Epoch 65: val_accuracy did not improve from 0.81273\n",
            "69/69 [==============================] - 49s 710ms/sample - loss: 0.4246 - accuracy: 0.8115 - val_loss: 0.4242 - val_accuracy: 0.8110 - lr: 1.0000e-04\n",
            "Epoch 66/100\n",
            " 0/69 [..............................] - ETA: 0s - loss: 0.4242 - accuracy: 0.8121\n",
            "Epoch 66: val_accuracy did not improve from 0.81273\n",
            "69/69 [==============================] - 49s 709ms/sample - loss: 0.4242 - accuracy: 0.8121 - val_loss: 0.4271 - val_accuracy: 0.8087 - lr: 1.0000e-04\n",
            "Epoch 67/100\n",
            " 0/69 [..............................] - ETA: 0s - loss: 0.4242 - accuracy: 0.8121\n",
            "Epoch 67: val_accuracy did not improve from 0.81273\n",
            "69/69 [==============================] - 49s 710ms/sample - loss: 0.4242 - accuracy: 0.8121 - val_loss: 0.4252 - val_accuracy: 0.8102 - lr: 1.0000e-04\n",
            "Epoch 68/100\n",
            " 0/69 [..............................] - ETA: 0s - loss: 0.4238 - accuracy: 0.8116\n",
            "Epoch 68: val_accuracy did not improve from 0.81273\n",
            "69/69 [==============================] - 49s 710ms/sample - loss: 0.4238 - accuracy: 0.8116 - val_loss: 0.4248 - val_accuracy: 0.8103 - lr: 1.0000e-04\n",
            "Epoch 69/100\n",
            " 0/69 [..............................] - ETA: 0s - loss: 0.4239 - accuracy: 0.8120\n",
            "Epoch 69: val_accuracy did not improve from 0.81273\n",
            "69/69 [==============================] - 45s 653ms/sample - loss: 0.4239 - accuracy: 0.8120 - val_loss: 0.4236 - val_accuracy: 0.8124 - lr: 1.0000e-04\n",
            "Epoch 70/100\n",
            " 0/69 [..............................] - ETA: 0s - loss: 0.4238 - accuracy: 0.8118\n",
            "Epoch 70: val_accuracy improved from 0.81273 to 0.81280, saving model to model_checkpoints/particle_net_lite_model.070.h5\n",
            "69/69 [==============================] - 49s 709ms/sample - loss: 0.4238 - accuracy: 0.8118 - val_loss: 0.4227 - val_accuracy: 0.8128 - lr: 1.0000e-04\n",
            "Epoch 71/100\n",
            " 0/69 [..............................] - ETA: 0s - loss: 0.4239 - accuracy: 0.8122\n",
            "Epoch 71: val_accuracy did not improve from 0.81280\n",
            "69/69 [==============================] - 45s 653ms/sample - loss: 0.4239 - accuracy: 0.8122 - val_loss: 0.4221 - val_accuracy: 0.8117 - lr: 1.0000e-04\n",
            "Epoch 72/100\n",
            " 0/69 [..............................] - ETA: 0s - loss: 0.4236 - accuracy: 0.8115\n",
            "Epoch 72: val_accuracy did not improve from 0.81280\n",
            "69/69 [==============================] - 49s 708ms/sample - loss: 0.4236 - accuracy: 0.8115 - val_loss: 0.4245 - val_accuracy: 0.8123 - lr: 1.0000e-04\n",
            "Epoch 73/100\n",
            " 0/69 [..............................] - ETA: 0s - loss: 0.4234 - accuracy: 0.8124\n",
            "Epoch 73: val_accuracy did not improve from 0.81280\n",
            "69/69 [==============================] - 45s 653ms/sample - loss: 0.4234 - accuracy: 0.8124 - val_loss: 0.4219 - val_accuracy: 0.8111 - lr: 1.0000e-04\n",
            "Epoch 74/100\n",
            " 0/69 [..............................] - ETA: 0s - loss: 0.4230 - accuracy: 0.8129\n",
            "Epoch 74: val_accuracy did not improve from 0.81280\n",
            "69/69 [==============================] - 49s 710ms/sample - loss: 0.4230 - accuracy: 0.8129 - val_loss: 0.4235 - val_accuracy: 0.8127 - lr: 1.0000e-04\n",
            "Epoch 75/100\n",
            " 0/69 [..............................] - ETA: 0s - loss: 0.4230 - accuracy: 0.8125\n",
            "Epoch 75: val_accuracy improved from 0.81280 to 0.81347, saving model to model_checkpoints/particle_net_lite_model.075.h5\n",
            "69/69 [==============================] - 49s 714ms/sample - loss: 0.4230 - accuracy: 0.8125 - val_loss: 0.4224 - val_accuracy: 0.8135 - lr: 1.0000e-04\n",
            "Epoch 76/100\n",
            " 0/69 [..............................] - ETA: 0s - loss: 0.4227 - accuracy: 0.8124\n",
            "Epoch 76: val_accuracy did not improve from 0.81347\n",
            "69/69 [==============================] - 49s 710ms/sample - loss: 0.4227 - accuracy: 0.8124 - val_loss: 0.4248 - val_accuracy: 0.8124 - lr: 1.0000e-04\n",
            "Epoch 77/100\n",
            " 0/69 [..............................] - ETA: 0s - loss: 0.4226 - accuracy: 0.8129\n",
            "Epoch 77: val_accuracy did not improve from 0.81347\n",
            "69/69 [==============================] - 49s 710ms/sample - loss: 0.4226 - accuracy: 0.8129 - val_loss: 0.4217 - val_accuracy: 0.8113 - lr: 1.0000e-04\n",
            "Epoch 78/100\n",
            " 0/69 [..............................] - ETA: 0s - loss: 0.4229 - accuracy: 0.8119\n",
            "Epoch 78: val_accuracy did not improve from 0.81347\n",
            "69/69 [==============================] - 49s 710ms/sample - loss: 0.4229 - accuracy: 0.8119 - val_loss: 0.4253 - val_accuracy: 0.8127 - lr: 1.0000e-04\n",
            "Epoch 79/100\n",
            " 0/69 [..............................] - ETA: 0s - loss: 0.4227 - accuracy: 0.8130\n",
            "Epoch 79: val_accuracy did not improve from 0.81347\n",
            "69/69 [==============================] - 49s 710ms/sample - loss: 0.4227 - accuracy: 0.8130 - val_loss: 0.4216 - val_accuracy: 0.8123 - lr: 1.0000e-04\n",
            "Epoch 80/100\n",
            " 0/69 [..............................] - ETA: 0s - loss: 0.4216 - accuracy: 0.8123\n",
            "Epoch 80: val_accuracy did not improve from 0.81347\n",
            "69/69 [==============================] - 49s 710ms/sample - loss: 0.4216 - accuracy: 0.8123 - val_loss: 0.4222 - val_accuracy: 0.8115 - lr: 1.0000e-04\n",
            "Epoch 81/100\n",
            " 0/69 [..............................] - ETA: 0s - loss: 0.4221 - accuracy: 0.8124\n",
            "Epoch 81: val_accuracy did not improve from 0.81347\n",
            "69/69 [==============================] - 49s 711ms/sample - loss: 0.4221 - accuracy: 0.8124 - val_loss: 0.4219 - val_accuracy: 0.8117 - lr: 1.0000e-04\n",
            "Epoch 82/100\n",
            " 0/69 [..............................] - ETA: 0s - loss: 0.4216 - accuracy: 0.8132\n",
            "Epoch 82: val_accuracy did not improve from 0.81347\n",
            "69/69 [==============================] - 45s 653ms/sample - loss: 0.4216 - accuracy: 0.8132 - val_loss: 0.4216 - val_accuracy: 0.8131 - lr: 1.0000e-04\n",
            "Epoch 83/100\n",
            " 0/69 [..............................] - ETA: 0s - loss: 0.4220 - accuracy: 0.8126\n",
            "Epoch 83: val_accuracy improved from 0.81347 to 0.81380, saving model to model_checkpoints/particle_net_lite_model.083.h5\n",
            "69/69 [==============================] - 49s 711ms/sample - loss: 0.4220 - accuracy: 0.8126 - val_loss: 0.4229 - val_accuracy: 0.8138 - lr: 1.0000e-04\n",
            "Epoch 84/100\n",
            " 0/69 [..............................] - ETA: 0s - loss: 0.4218 - accuracy: 0.8134\n",
            "Epoch 84: val_accuracy did not improve from 0.81380\n",
            "69/69 [==============================] - 49s 711ms/sample - loss: 0.4218 - accuracy: 0.8134 - val_loss: 0.4216 - val_accuracy: 0.8125 - lr: 1.0000e-04\n",
            "Epoch 85/100\n",
            " 0/69 [..............................] - ETA: 0s - loss: 0.4214 - accuracy: 0.8134\n",
            "Epoch 85: val_accuracy did not improve from 0.81380\n",
            "69/69 [==============================] - 49s 710ms/sample - loss: 0.4214 - accuracy: 0.8134 - val_loss: 0.4217 - val_accuracy: 0.8127 - lr: 1.0000e-04\n",
            "Epoch 86/100\n",
            " 0/69 [..............................] - ETA: 0s - loss: 0.4213 - accuracy: 0.8129\n",
            "Epoch 86: val_accuracy did not improve from 0.81380\n",
            "69/69 [==============================] - 49s 711ms/sample - loss: 0.4213 - accuracy: 0.8129 - val_loss: 0.4215 - val_accuracy: 0.8123 - lr: 1.0000e-04\n",
            "Epoch 87/100\n",
            " 0/69 [..............................] - ETA: 0s - loss: 0.4215 - accuracy: 0.8134\n",
            "Epoch 87: val_accuracy did not improve from 0.81380\n",
            "69/69 [==============================] - 45s 652ms/sample - loss: 0.4215 - accuracy: 0.8134 - val_loss: 0.4216 - val_accuracy: 0.8115 - lr: 1.0000e-04\n",
            "Epoch 88/100\n",
            " 0/69 [..............................] - ETA: 0s - loss: 0.4212 - accuracy: 0.8125\n",
            "Epoch 88: val_accuracy did not improve from 0.81380\n",
            "69/69 [==============================] - 45s 651ms/sample - loss: 0.4212 - accuracy: 0.8125 - val_loss: 0.4217 - val_accuracy: 0.8132 - lr: 1.0000e-04\n",
            "Epoch 89/100\n",
            " 0/69 [..............................] - ETA: 0s - loss: 0.4208 - accuracy: 0.8133\n",
            "Epoch 89: val_accuracy did not improve from 0.81380\n",
            "69/69 [==============================] - 45s 650ms/sample - loss: 0.4208 - accuracy: 0.8133 - val_loss: 0.4228 - val_accuracy: 0.8136 - lr: 1.0000e-04\n",
            "Epoch 90/100\n",
            " 0/69 [..............................] - ETA: 0s - loss: 0.4214 - accuracy: 0.8136\n",
            "Epoch 90: val_accuracy did not improve from 0.81380\n",
            "69/69 [==============================] - 49s 707ms/sample - loss: 0.4214 - accuracy: 0.8136 - val_loss: 0.4210 - val_accuracy: 0.8127 - lr: 1.0000e-04\n",
            "Epoch 91/100\n",
            " 0/69 [..............................] - ETA: 0s - loss: 0.4209 - accuracy: 0.8137\n",
            "Epoch 91: val_accuracy did not improve from 0.81380\n",
            "69/69 [==============================] - 49s 711ms/sample - loss: 0.4209 - accuracy: 0.8137 - val_loss: 0.4210 - val_accuracy: 0.8127 - lr: 1.0000e-04\n",
            "Epoch 92/100\n",
            " 0/69 [..............................] - ETA: 0s - loss: 0.4204 - accuracy: 0.8128\n",
            "Epoch 92: val_accuracy did not improve from 0.81380\n",
            "69/69 [==============================] - 49s 711ms/sample - loss: 0.4204 - accuracy: 0.8128 - val_loss: 0.4219 - val_accuracy: 0.8127 - lr: 1.0000e-04\n",
            "Epoch 93/100\n",
            " 0/69 [..............................] - ETA: 0s - loss: 0.4205 - accuracy: 0.8141\n",
            "Epoch 93: val_accuracy did not improve from 0.81380\n",
            "69/69 [==============================] - 45s 652ms/sample - loss: 0.4205 - accuracy: 0.8141 - val_loss: 0.4207 - val_accuracy: 0.8131 - lr: 1.0000e-04\n",
            "Epoch 94/100\n",
            " 0/69 [..............................] - ETA: 0s - loss: 0.4202 - accuracy: 0.8136\n",
            "Epoch 94: val_accuracy did not improve from 0.81380\n",
            "69/69 [==============================] - 49s 707ms/sample - loss: 0.4202 - accuracy: 0.8136 - val_loss: 0.4227 - val_accuracy: 0.8131 - lr: 1.0000e-04\n",
            "Epoch 95/100\n",
            " 0/69 [..............................] - ETA: 0s - loss: 0.4204 - accuracy: 0.8132\n",
            "Epoch 95: val_accuracy did not improve from 0.81380\n",
            "69/69 [==============================] - 49s 710ms/sample - loss: 0.4204 - accuracy: 0.8132 - val_loss: 0.4208 - val_accuracy: 0.8133 - lr: 1.0000e-04\n",
            "Epoch 96/100\n",
            " 0/69 [..............................] - ETA: 0s - loss: 0.4197 - accuracy: 0.8134\n",
            "Epoch 96: val_accuracy did not improve from 0.81380\n",
            "69/69 [==============================] - 49s 709ms/sample - loss: 0.4197 - accuracy: 0.8134 - val_loss: 0.4216 - val_accuracy: 0.8127 - lr: 1.0000e-04\n",
            "Epoch 97/100\n",
            " 0/69 [..............................] - ETA: 0s - loss: 0.4198 - accuracy: 0.8138\n",
            "Epoch 97: val_accuracy did not improve from 0.81380\n",
            "69/69 [==============================] - 49s 711ms/sample - loss: 0.4198 - accuracy: 0.8138 - val_loss: 0.4235 - val_accuracy: 0.8119 - lr: 1.0000e-04\n",
            "Epoch 98/100\n",
            " 0/69 [..............................] - ETA: 0s - loss: 0.4199 - accuracy: 0.8134\n",
            "Epoch 98: val_accuracy did not improve from 0.81380\n",
            "69/69 [==============================] - 49s 710ms/sample - loss: 0.4199 - accuracy: 0.8134 - val_loss: 0.4216 - val_accuracy: 0.8137 - lr: 1.0000e-04\n",
            "Epoch 99/100\n",
            " 0/69 [..............................] - ETA: 0s - loss: 0.4196 - accuracy: 0.8144\n",
            "Epoch 99: val_accuracy did not improve from 0.81380\n",
            "69/69 [==============================] - 49s 711ms/sample - loss: 0.4196 - accuracy: 0.8144 - val_loss: 0.4213 - val_accuracy: 0.8137 - lr: 1.0000e-04\n",
            "Epoch 100/100\n",
            " 0/69 [..............................] - ETA: 0s - loss: 0.4197 - accuracy: 0.8134\n",
            "Epoch 100: val_accuracy did not improve from 0.81380\n",
            "69/69 [==============================] - 49s 709ms/sample - loss: 0.4197 - accuracy: 0.8134 - val_loss: 0.4208 - val_accuracy: 0.8133 - lr: 1.0000e-04\n"
          ]
        }
      ],
      "source": [
        "history = model.fit(train_dataset, y_train,\n",
        "                    batch_size=batch_size,\n",
        "                    epochs=epochs,\n",
        "                    validation_data=(val_dataset, y_val),\n",
        "                    shuffle=True,\n",
        "                    callbacks=callbacks)"
      ]
    },
    {
      "cell_type": "code",
      "execution_count": 35,
      "id": "5xmdXRQe7hzg",
      "metadata": {
        "ExecuteTime": {
          "start_time": "2022-05-13T12:35:04.093Z"
        },
        "id": "5xmdXRQe7hzg"
      },
      "outputs": [],
      "source": [
        "import json\n",
        "with open(\"particle_net_lite_history.json\", \"w\") as outfile:\n",
        "    outfile.write(str(history.history))"
      ]
    },
    {
      "cell_type": "code",
      "execution_count": 36,
      "id": "7uhNQ7KJ78uS",
      "metadata": {
        "ExecuteTime": {
          "start_time": "2022-05-13T12:35:04.883Z"
        },
        "colab": {
          "base_uri": "https://localhost:8080/",
          "height": 295
        },
        "id": "7uhNQ7KJ78uS",
        "outputId": "2de5b0ab-f544-4abf-8c1b-8fde2ab12628"
      },
      "outputs": [
        {
          "data": {
            "image/png": "[encoded data removed]",
            "text/plain": [
              "<Figure size 432x288 with 1 Axes>"
            ]
          },
          "metadata": {
            "needs_background": "light"
          },
          "output_type": "display_data"
        }
      ],
      "source": [
        "plt.plot(history.history['accuracy'], label='Training')\n",
        "plt.plot(history.history['val_accuracy'], label='Validation')\n",
        "plt.title('Particle net lite accuracy')\n",
        "plt.xlabel('Epoch')\n",
        "plt.ylabel('accuracy')\n",
        "plt.legend()\n",
        "plt.show()"
      ]
    },
    {
      "cell_type": "code",
      "execution_count": 37,
      "id": "wpvBDg228jRC",
      "metadata": {
        "ExecuteTime": {
          "start_time": "2022-05-13T12:35:05.626Z"
        },
        "colab": {
          "base_uri": "https://localhost:8080/",
          "height": 295
        },
        "id": "wpvBDg228jRC",
        "outputId": "877dcd4e-8daf-4329-b0ce-56f6dfccf8ee"
      },
      "outputs": [
        {
          "data": {
            "image/png": "[encoded data removed]",
            "text/plain": [
              "<Figure size 432x288 with 1 Axes>"
            ]
          },
          "metadata": {
            "needs_background": "light"
          },
          "output_type": "display_data"
        }
      ],
      "source": [
        "plt.plot(history.history['loss'], label='Training')\n",
        "plt.plot(history.history['val_loss'], label='Validation')\n",
        "plt.title('Particle net lite loss')\n",
        "plt.xlabel('Epoch')\n",
        "plt.ylabel('loss')\n",
        "plt.legend()\n",
        "plt.show()"
      ]
    },
    {
      "cell_type": "markdown",
      "id": "f0e1957c",
      "metadata": {
        "id": "f0e1957c"
      },
      "source": [
        "### Evaluation"
      ]
    },
    {
      "cell_type": "code",
      "execution_count": 38,
      "id": "xvBcjj238sUa",
      "metadata": {
        "colab": {
          "base_uri": "https://localhost:8080/"
        },
        "id": "xvBcjj238sUa",
        "outputId": "11faa5e4-6a04-4c18-fe2f-815314cf5a30"
      },
      "outputs": [
        {
          "name": "stdout",
          "output_type": "stream",
          "text": [
            "469/469 [==============================] - 9s 18ms/step - loss: 0.5054 - accuracy: 0.7595\n"
          ]
        }
      ],
      "source": [
        "res = model.evaluate(test_dataset, y_test)"
      ]
    },
    {
      "cell_type": "code",
      "execution_count": 39,
      "id": "2B03Jq7985BR",
      "metadata": {
        "colab": {
          "base_uri": "https://localhost:8080/"
        },
        "id": "2B03Jq7985BR",
        "outputId": "7269dcfa-9b72-4bb0-d1d5-95a63a351afa"
      },
      "outputs": [
        {
          "name": "stdout",
          "output_type": "stream",
          "text": [
            "test loss, test acc: [0.5054326057434082, 0.7594666481018066]\n"
          ]
        }
      ],
      "source": [
        "print(\"test loss, test acc:\", res)"
      ]
    },
    {
      "cell_type": "markdown",
      "id": "cbbc8fac",
      "metadata": {
        "id": "cbbc8fac"
      },
      "source": [
        "## Conclusion\n",
        "\n",
        "We built a classical GNN using Tensorflow. Considering the plots for particle net lite, the training loss decreases over epochs and also the training accuracy increases which means the model fits the data. However, the validation loss and accuracy beocmes constant after near 20th epoch which shows the overfitting. The training accuracy is near 82% which is comparable to the results of the paper [Jet tagging via particle clouds](https://journals.aps.org/prd/pdf/10.1103/PhysRevD.101.056019). Theirs is 82.6%. One thing to note that the model takes significant amount of time for training for 10000 samples of data."
      ]
    },
    {
      "cell_type": "code",
      "execution_count": null,
      "id": "AYcIdEPOyzGs",
      "metadata": {
        "id": "AYcIdEPOyzGs"
      },
      "outputs": [],
      "source": []
    }
  ],
  "metadata": {
    "accelerator": "GPU",
    "colab": {
      "provenance": []
    },
    "kernelspec": {
      "display_name": "Python 3 (ipykernel)",
      "language": "python",
      "name": "python3"
    },
    "language_info": {
      "codemirror_mode": {
        "name": "ipython",
        "version": 3
      },
      "file_extension": ".py",
      "mimetype": "text/x-python",
      "name": "python",
      "nbconvert_exporter": "python",
      "pygments_lexer": "ipython3",
      "version": "3.10.1"
    },
    "latex_envs": {
      "LaTeX_envs_menu_present": true,
      "autoclose": false,
      "autocomplete": true,
      "bibliofile": "biblio.bib",
      "cite_by": "apalike",
      "current_citInitial": 1,
      "eqLabelWithNumbers": true,
      "eqNumInitial": 1,
      "hotkeys": {
        "equation": "Ctrl-E",
        "itemize": "Ctrl-I"
      },
      "labels_anchors": false,
      "latex_user_defs": false,
      "report_style_numbering": false,
      "user_envs_cfg": false
    },
    "toc": {
      "base_numbering": 1,
      "nav_menu": {},
      "number_sections": true,
      "sideBar": true,
      "skip_h1_title": false,
      "title_cell": "Table of Contents",
      "title_sidebar": "Contents",
      "toc_cell": false,
      "toc_position": {},
      "toc_section_display": true,
      "toc_window_display": false
    }
  },
  "nbformat": 4,
  "nbformat_minor": 5
}
