{
  "cells": [
    {
      "attachments": {},
      "cell_type": "markdown",
      "id": "42ebcc64",
      "metadata": {
        "id": "42ebcc64"
      },
      "source": [
        "# Task II: Classical Graph Neural Network (GNN) Part\n",
        "\n",
        "Problem statement: use ParticleNet’s data for Quark/Gluon jet classification[1], then choose 2 Graph-based architectures of your choice to classify jets as being quarks (label = 1) or gluons (label = 0). Provide a description on what considerations you have taken to project this point-cloud dataset to a set of interconnected nodes and edges. Discuss the resulting performance of the 2 chosen architectures.\n",
        "For Task II, you will use ParticleNet’s data for Quark/Gluon jet classification available here with its corresponding description.\n",
        "\n",
        "● Choose 2 Graph-based architectures of your choice to classify jets as being quarks or gluons. Provide a description on what considerations you have taken to project this point-cloud dataset to a set of interconnected nodes and edges.\n",
        "\n",
        "● Discuss the resulting performance of the 2 chosen architectures."
      ]
    },
    {
      "cell_type": "code",
      "execution_count": 1,
      "id": "eec8d0a0",
      "metadata": {
        "ExecuteTime": {
          "end_time": "2022-05-13T12:33:04.753318Z",
          "start_time": "2022-05-13T12:32:54.183796Z"
        },
        "id": "eec8d0a0"
      },
      "outputs": [],
      "source": [
        "import matplotlib.pyplot as plt\n",
        "import numpy as np\n",
        "import os\n",
        "from sklearn.utils import shuffle\n",
        "from sklearn.model_selection import train_test_split\n",
        "from tensorflow import keras\n",
        "from tf_keras_model import get_particle_net_lite, get_particle_net\n",
        "\n",
        "import logging\n",
        "logging.basicConfig(level=logging.INFO,\n",
        "                    format='[%(asctime)s] %(levelname)s: %(message)s')\n",
        "%matplotlib inline"
      ]
    },
    {
      "attachments": {},
      "cell_type": "markdown",
      "id": "b2cd32cf",
      "metadata": {},
      "source": [
        "Because Google Colab has a restricted amount of Memory, this project only used the first 9 files of data from reference [1] (without charm and bottom jets). This is particularly necessary given the restricted amount of time available for the training procedure. Each file contains 100k jets, 50k quark jets and 50k gluon jets, all randomly ordered (label imbalance is not an issue). Every jet in the file comprises $M$ x $F$ data, where $M$ is the maximum multiplicity of the jets in the file and $F$ is the number of characteristics (pt, velocity, azimuthal angle, and pdgid/Particle Data Group ID) for each particle. This project employs 900,000 jets in total."
      ]
    },
    {
      "cell_type": "markdown",
      "id": "fed4bdab",
      "metadata": {
        "id": "fed4bdab"
      },
      "source": [
        "## Load the dataset"
      ]
    },
    {
      "cell_type": "code",
      "execution_count": 3,
      "id": "49db31af",
      "metadata": {
        "ExecuteTime": {
          "end_time": "2022-05-13T12:33:10.829065Z",
          "start_time": "2022-05-13T12:33:10.791964Z"
        },
        "colab": {
          "base_uri": "https://localhost:8080/"
        },
        "id": "49db31af",
        "outputId": "5ff70783-1405-4770-d7ee-9c81b9f275c2"
      },
      "outputs": [
        {
          "name": "stderr",
          "output_type": "stream",
          "text": [
            "'wget' is not recognized as an internal or external command,\n",
            "operable program or batch file.\n"
          ]
        }
      ],
      "source": [
        "# Load the dataset\n",
        "# used on colab\n",
        "!wget https: // zenodo.org/record/3164691/files/QG_jets.npz - P / content/data/"
      ]
    },
    {
      "cell_type": "code",
      "execution_count": 9,
      "id": "lyJncRGIdytv",
      "metadata": {
        "id": "lyJncRGIdytv"
      },
      "outputs": [],
      "source": [
        "dataset = np.load('QG_jets.npz', allow_pickle=True)"
      ]
    },
    {
      "cell_type": "code",
      "execution_count": 10,
      "id": "76487ad1",
      "metadata": {
        "ExecuteTime": {
          "end_time": "2022-05-13T12:33:12.121365Z",
          "start_time": "2022-05-13T12:33:12.113305Z"
        },
        "colab": {
          "base_uri": "https://localhost:8080/"
        },
        "id": "76487ad1",
        "outputId": "ebc58394-5649-4cba-c8d6-bf416058f784"
      },
      "outputs": [
        {
          "data": {
            "text/plain": [
              "<numpy.lib.npyio.NpzFile at 0x27f3a3f1310>"
            ]
          },
          "execution_count": 10,
          "metadata": {},
          "output_type": "execute_result"
        }
      ],
      "source": [
        "# See what keys are present in the dataset\n",
        "list(dataset.keys())\n",
        "dataset"
      ]
    },
    {
      "cell_type": "code",
      "execution_count": 13,
      "id": "f30ccdd7",
      "metadata": {
        "ExecuteTime": {
          "end_time": "2022-05-13T12:33:15.796935Z",
          "start_time": "2022-05-13T12:33:15.783947Z"
        },
        "colab": {
          "base_uri": "https://localhost:8080/"
        },
        "id": "f30ccdd7",
        "outputId": "305d3b94-cf7e-4764-cdab-95a823562f17"
      },
      "outputs": [
        {
          "name": "stdout",
          "output_type": "stream",
          "text": [
            "Shape of X: (100000, 139, 4)\n",
            "Shape of y_train: (100000,)\n"
          ]
        }
      ],
      "source": [
        "import numpy as np\n",
        "# Load the data\n",
        "dataset = np.load('./QG_jets.npz')\n",
        "X = data['X']\n",
        "y_train = data['y']\n",
        "\n",
        "# Print the shape of X and y_train\n",
        "print(f\"Shape of X: {X.shape}\")\n",
        "print(f\"Shape of y_train: {y_train.shape}\")\n"
      ]
    },
    {
      "cell_type": "code",
      "execution_count": 14,
      "id": "96bf15a6",
      "metadata": {},
      "outputs": [
        {
          "data": {
            "text/plain": [
              "<AxesSubplot:ylabel='Count'>"
            ]
          },
          "execution_count": 14,
          "metadata": {},
          "output_type": "execute_result"
        },
        {
          "data": {
            "image/png": "[encoded data removed]",
            "text/plain": [
              "<Figure size 432x288 with 1 Axes>"
            ]
          },
          "metadata": {
            "needs_background": "light"
          },
          "output_type": "display_data"
        }
      ],
      "source": [
        "import seaborn as sns\n",
        "\n",
        "sns.histplot(y_train, kde=True)\n"
      ]
    },
    {
      "cell_type": "code",
      "execution_count": 20,
      "id": "54e94af5",
      "metadata": {},
      "outputs": [
        {
          "name": "stdout",
          "output_type": "stream",
          "text": [
            "(100000, 4)\n"
          ]
        }
      ],
      "source": [
        "X_train = np.array([i[0] for i in X])\n",
        "print(X_train.shape)"
      ]
    },
    {
      "cell_type": "code",
      "execution_count": 18,
      "id": "e0d170c2",
      "metadata": {},
      "outputs": [],
      "source": [
        "# Note: please change the current directory to the correct directory of the .py file if you want to run this code\n",
        "from tf_keras_model import get_particle_net, get_particle_net_lite\n",
        "from tf_keras_model_static import get_particle_net_static, get_particle_net_lite_static"
      ]
    },
    {
      "attachments": {},
      "cell_type": "markdown",
      "id": "35b0c7ef",
      "metadata": {
        "id": "35b0c7ef"
      },
      "source": [
        "## Data preparation\n",
        "According to the dataset's details (https://zenodo.org/record/3164691#.YigdGt9MHrB),\n",
        "\n",
        "X: (100000,M,4), precisely 50k quark and 50k gluon jets, randomly ordered, where M is the maximum multiplicity of the jets in that file (other jets have been padded with zero-particles), and each particle's pt, speed, azimuthal angle, and pdgid.\n",
        "\n",
        "y: (100000,), an array of jet labels where gluon = 0 and quark = 1."
      ]
    },
    {
      "cell_type": "code",
      "execution_count": 23,
      "id": "3b84f3fa",
      "metadata": {
        "ExecuteTime": {
          "end_time": "2022-05-13T12:33:17.400724Z",
          "start_time": "2022-05-13T12:33:17.391792Z"
        },
        "colab": {
          "base_uri": "https://localhost:8080/"
        },
        "id": "3b84f3fa",
        "outputId": "fa86751e-11ca-41b8-93f9-6324a7e89b0b"
      },
      "outputs": [
        {
          "name": "stdout",
          "output_type": "stream",
          "text": [
            "(100000, 2)\n"
          ]
        }
      ],
      "source": [
        "# one hot encoding labels is needed else the following error\n",
        "# ValueError: Shapes (None, 1) and (None, 2) are incompatible\n",
        "y = keras.utils.to_categorical(y)\n",
        "print(y.shape)"
      ]
    },
    {
      "cell_type": "markdown",
      "id": "c6b5f883",
      "metadata": {
        "id": "c6b5f883"
      },
      "source": [
        "I faced this error later during training and therefore one hot encoding is performed here."
      ]
    },
    {
      "cell_type": "markdown",
      "id": "9d9e065f",
      "metadata": {
        "ExecuteTime": {
          "end_time": "2022-04-17T09:04:39.643293Z",
          "start_time": "2022-04-17T09:04:39.638958Z"
        },
        "id": "9d9e065f"
      },
      "source": [
        "From the paper on [Jet tagging via particle clouds](https://journals.aps.org/prd/pdf/10.1103/PhysRevD.101.056019)\n",
        "\n",
        "The first EdgeConv block uses the spatial coordinates of the particles in the pseudorapidity-azimuth space to\n",
        "compute the distances, while the subsequent blocks use the learned feature vectors as coordinates.\n",
        "\n",
        "From the dataset we know that the features of each particle are its pt, rapidity, azimuthal angle, and pdgid\n"
      ]
    },
    {
      "cell_type": "code",
      "execution_count": 26,
      "id": "35bc21a3",
      "metadata": {
        "ExecuteTime": {
          "end_time": "2022-05-13T12:33:19.875811Z",
          "start_time": "2022-05-13T12:33:19.132567Z"
        },
        "colab": {
          "base_uri": "https://localhost:8080/"
        },
        "id": "35bc21a3",
        "outputId": "22905ffb-1b55-4ae5-bf69-6d64d6e5804b"
      },
      "outputs": [
        {
          "name": "stdout",
          "output_type": "stream",
          "text": [
            "Train dataset shape: (70000, 139, 4) (70000, 2)\n",
            "Val dataset shape: (15000, 139, 4) (15000, 2)\n",
            "Test dataset shape: (15000, 139, 4) (15000, 2)\n"
          ]
        }
      ],
      "source": [
        "x, y = shuffle(x, y, random_state=0)\n",
        "x_train, x_test, y_train, y_test = train_test_split(\n",
        "    x, y, test_size=0.30, random_state=42)\n",
        "x_test, x_val, y_test, y_val = train_test_split(\n",
        "    x_test, y_test, test_size=0.5, random_state=42)\n",
        "\n",
        "\n",
        "# Sanity check\n",
        "print(\"Train dataset shape:\", x_train.shape, y_train.shape)\n",
        "print(\"Val dataset shape:\", x_val.shape, y_val.shape)\n",
        "print(\"Test dataset shape:\", x_test.shape, y_test.shape)"
      ]
    },
    {
      "attachments": {},
      "cell_type": "markdown",
      "id": "0ae40e8d",
      "metadata": {
        "id": "0ae40e8d"
      },
      "source": [
        "Make a dictionary with the \"points,\" \"features,\" and \"mask\" arrays for the training, validation, and testing sets.\n",
        "\n",
        "- \"points\" simply includes the value of speed and azimuthal angle, which will be used to compute distance for k-NN.\n",
        "- \"features\" includes all of the features (pt, speed, azimuthal angle), which will be utilised to train the particle.\n",
        "- \"mask\" indicates if the particle is a genuine particle from the dataset or a padded \"zero-particles\" (taking value of zero for the padded positions)."
      ]
    },
    {
      "cell_type": "code",
      "execution_count": 25,
      "id": "b7c810a6",
      "metadata": {
        "ExecuteTime": {
          "end_time": "2022-05-13T12:33:21.305710Z",
          "start_time": "2022-05-13T12:33:20.971036Z"
        },
        "colab": {
          "base_uri": "https://localhost:8080/"
        },
        "id": "b7c810a6",
        "outputId": "a95bc940-14df-4199-f879-2e5c6447474b"
      },
      "outputs": [
        {
          "name": "stdout",
          "output_type": "stream",
          "text": [
            "(70000, 139)\n",
            "[   29.20243269    27.50561143    30.26089051   220.41819997\n",
            "    27.95042087    28.15969933   329.0687446     27.57628735\n",
            "  -206.06003465   218.08468374    26.41602355    27.02195013\n",
            "    31.79622486    26.59246689    26.88924931  -202.09822736\n",
            "    26.71899363    31.23462352  -310.42681747    27.70451205\n",
            "    30.7169403   -198.56554041  2233.77838649    36.42720615\n",
            "    29.23621805  -187.38676832    33.46071738   268.17256202\n",
            "    32.3521241  -2054.01856237   118.7019814     56.63953271\n",
            "   151.53934524    57.07618763     0.             0.\n",
            "     0.             0.             0.             0.\n",
            "     0.             0.             0.             0.\n",
            "     0.             0.             0.             0.\n",
            "     0.             0.             0.             0.\n",
            "     0.             0.             0.             0.\n",
            "     0.             0.             0.             0.\n",
            "     0.             0.             0.             0.\n",
            "     0.             0.             0.             0.\n",
            "     0.             0.             0.             0.\n",
            "     0.             0.             0.             0.\n",
            "     0.             0.             0.             0.\n",
            "     0.             0.             0.             0.\n",
            "     0.             0.             0.             0.\n",
            "     0.             0.             0.             0.\n",
            "     0.             0.             0.             0.\n",
            "     0.             0.             0.             0.\n",
            "     0.             0.             0.             0.\n",
            "     0.             0.             0.             0.\n",
            "     0.             0.             0.             0.\n",
            "     0.             0.             0.             0.\n",
            "     0.             0.             0.             0.\n",
            "     0.             0.             0.             0.\n",
            "     0.             0.             0.             0.\n",
            "     0.             0.             0.             0.\n",
            "     0.             0.             0.             0.\n",
            "     0.             0.             0.        ]\n",
            "[1. 1. 1. 1. 1. 1. 1. 1. 1. 1. 1. 1. 1. 1. 1. 1. 1. 1. 1. 1. 1. 1. 1. 1.\n",
            " 1. 1. 1. 1. 1. 1. 1. 1. 1. 1. 0. 0. 0. 0. 0. 0. 0. 0. 0. 0. 0. 0. 0. 0.\n",
            " 0. 0. 0. 0. 0. 0. 0. 0. 0. 0. 0. 0. 0. 0. 0. 0. 0. 0. 0. 0. 0. 0. 0. 0.\n",
            " 0. 0. 0. 0. 0. 0. 0. 0. 0. 0. 0. 0. 0. 0. 0. 0. 0. 0. 0. 0. 0. 0. 0. 0.\n",
            " 0. 0. 0. 0. 0. 0. 0. 0. 0. 0. 0. 0. 0. 0. 0. 0. 0. 0. 0. 0. 0. 0. 0. 0.\n",
            " 0. 0. 0. 0. 0. 0. 0. 0. 0. 0. 0. 0. 0. 0. 0. 0. 0. 0. 0.]\n",
            "(70000, 139, 1)\n"
          ]
        }
      ],
      "source": [
        "# mask\n",
        "# find the maximum length vector in for each sample in 10000 samples with maximum number of non-zero values\n",
        "mask_train = np.sum(x_train, axis=2)\n",
        "print(mask_train.shape)\n",
        "print(mask_train[0])\n",
        "\n",
        "# make the array binary\n",
        "mask_train = np.array(mask_train != 0, np.float32)\n",
        "print(mask_train[0])\n",
        "\n",
        "# reshape mask for a third axis\n",
        "mask_train = mask_train.reshape(x_train.shape[0], x_train.shape[1], 1)\n",
        "print(mask_train.shape)"
      ]
    },
    {
      "cell_type": "code",
      "execution_count": 28,
      "id": "dc6d1b8f",
      "metadata": {
        "ExecuteTime": {
          "end_time": "2022-05-13T12:33:22.673493Z",
          "start_time": "2022-05-13T12:33:22.588394Z"
        },
        "colab": {
          "base_uri": "https://localhost:8080/"
        },
        "id": "dc6d1b8f",
        "outputId": "ed45630b-5db6-4283-af3a-e490a285c6af"
      },
      "outputs": [
        {
          "name": "stdout",
          "output_type": "stream",
          "text": [
            "(15000, 139, 1)\n"
          ]
        }
      ],
      "source": [
        "# mask\n",
        "# find the maximum length vector in for each sample in 10000 samples with maximum number of non-zero values\n",
        "mask_val = np.sum(x_val, axis=2)\n",
        "\n",
        "# make the array binary\n",
        "mask_val = np.array(mask_val != 0, np.float32)\n",
        "\n",
        "# reshape mask for a third axis\n",
        "mask_val = mask_val.reshape(x_val.shape[0], x_val.shape[1], 1)\n",
        "print(mask_val.shape)"
      ]
    },
    {
      "cell_type": "code",
      "execution_count": 29,
      "id": "60d64a14",
      "metadata": {
        "ExecuteTime": {
          "end_time": "2022-05-13T12:33:22.885814Z",
          "start_time": "2022-05-13T12:33:22.772557Z"
        },
        "colab": {
          "base_uri": "https://localhost:8080/"
        },
        "id": "60d64a14",
        "outputId": "7f1a0918-4b11-48b7-d880-56fd0f3c83bf"
      },
      "outputs": [
        {
          "name": "stdout",
          "output_type": "stream",
          "text": [
            "(15000, 139, 1)\n"
          ]
        }
      ],
      "source": [
        "# mask\n",
        "# find the maximum length vector in for each sample in 10000 samples with maximum number of non-zero values\n",
        "mask_test = np.sum(x_test, axis=2)\n",
        "\n",
        "# make the array binary\n",
        "mask_test = np.array(mask_test != 0, np.float32)\n",
        "\n",
        "# reshape mask for a third axis\n",
        "mask_test = mask_val.reshape(x_test.shape[0], x_test.shape[1], 1)\n",
        "print(mask_test.shape)"
      ]
    },
    {
      "cell_type": "markdown",
      "id": "9011c254",
      "metadata": {
        "id": "9011c254"
      },
      "source": [
        "We use the implementations from this [github repo](https://github.com/hqucms/ParticleNet) The input is formatted accordingly below for train, val and test"
      ]
    },
    {
      "cell_type": "markdown",
      "id": "3378b523",
      "metadata": {
        "id": "3378b523"
      },
      "source": [
        "`points` contain rapidity, azimuthal angle used for computing the distance of KNN\n",
        "\n",
        "`features`: the features of the particles. All the 4 features.\n",
        "\n",
        "`mask` mask array taking a value of 0 for padded positions."
      ]
    },
    {
      "cell_type": "code",
      "execution_count": 30,
      "id": "525e3628",
      "metadata": {
        "ExecuteTime": {
          "end_time": "2022-05-13T12:33:24.323656Z",
          "start_time": "2022-05-13T12:33:24.308048Z"
        },
        "id": "525e3628"
      },
      "outputs": [],
      "source": [
        "train_dataset = {\n",
        "    'points': x_train[:, :, 1:3],\n",
        "    'features': x_train,\n",
        "    'mask': mask_train\n",
        "}\n",
        "\n",
        "test_dataset = {\n",
        "    'points': x_test[:, :, 1:3],\n",
        "    'features': x_test,\n",
        "    'mask': mask_test\n",
        "}\n",
        "\n",
        "val_dataset = {\n",
        "    'points': x_val[:, :, 1:3],\n",
        "    'features': x_val,\n",
        "    'mask': mask_val\n",
        "}"
      ]
    },
    {
      "cell_type": "code",
      "execution_count": 31,
      "id": "943c84cc",
      "metadata": {
        "ExecuteTime": {
          "end_time": "2022-05-13T12:33:25.376046Z",
          "start_time": "2022-05-13T12:33:25.359002Z"
        },
        "colab": {
          "base_uri": "https://localhost:8080/"
        },
        "id": "943c84cc",
        "outputId": "ce636544-badf-4ea4-ea2f-46703f87f477"
      },
      "outputs": [
        {
          "data": {
            "text/plain": [
              "{'points': (139, 2), 'features': (139, 4), 'mask': (139, 1)}"
            ]
          },
          "execution_count": 31,
          "metadata": {},
          "output_type": "execute_result"
        }
      ],
      "source": [
        "shapes = {\n",
        "    'points': x_train[:, :, 1:3].shape[1:],\n",
        "    'features': x_train.shape[1:],\n",
        "    'mask': mask_train.shape[1:]\n",
        "}\n",
        "shapes"
      ]
    },
    {
      "cell_type": "markdown",
      "id": "a85cf0d1",
      "metadata": {
        "id": "a85cf0d1"
      },
      "source": [
        "## Particle net lite"
      ]
    },
    {
      "cell_type": "code",
      "execution_count": 32,
      "id": "a834c2ff",
      "metadata": {
        "ExecuteTime": {
          "end_time": "2022-05-13T12:33:26.314884Z",
          "start_time": "2022-05-13T12:33:25.515121Z"
        },
        "id": "a834c2ff"
      },
      "outputs": [],
      "source": [
        "# particle net lite\n",
        "num_classes = 2\n",
        "model = get_particle_net_lite(num_classes, shapes)"
      ]
    },
    {
      "cell_type": "code",
      "execution_count": 33,
      "id": "9db79416",
      "metadata": {
        "ExecuteTime": {
          "end_time": "2022-05-13T12:34:36.015312Z",
          "start_time": "2022-05-13T12:34:36.000300Z"
        },
        "id": "9db79416"
      },
      "outputs": [],
      "source": [
        "# Training parameters\n",
        "batch_size = 1024\n",
        "epochs = 100"
      ]
    },
    {
      "cell_type": "code",
      "execution_count": 34,
      "id": "28976a79",
      "metadata": {
        "ExecuteTime": {
          "end_time": "2022-05-13T12:34:48.984202Z",
          "start_time": "2022-05-13T12:34:48.967696Z"
        },
        "id": "28976a79"
      },
      "outputs": [],
      "source": [
        "def lr_schedule(epoch):\n",
        "    lr = 1e-3\n",
        "    if epoch > 10:\n",
        "        lr *= 0.1\n",
        "    elif epoch > 20:\n",
        "        lr *= 0.01\n",
        "    logging.info('Learning rate: %f' % lr)\n",
        "    return lr"
      ]
    },
    {
      "cell_type": "code",
      "execution_count": 35,
      "id": "94606d38",
      "metadata": {
        "ExecuteTime": {
          "end_time": "2022-05-13T12:34:52.465617Z",
          "start_time": "2022-05-13T12:34:52.417216Z"
        },
        "colab": {
          "base_uri": "https://localhost:8080/"
        },
        "id": "94606d38",
        "outputId": "5af4a53e-7f19-42b2-c462-c8a31bded7fb",
        "scrolled": true
      },
      "outputs": [
        {
          "name": "stderr",
          "output_type": "stream",
          "text": [
            "[2023-03-28 17:34:06,003] INFO: Learning rate: 0.001000\n"
          ]
        },
        {
          "name": "stdout",
          "output_type": "stream",
          "text": [
            "Model: \"ParticleNet\"\n",
            "__________________________________________________________________________________________________\n",
            " Layer (type)                   Output Shape         Param #     Connected to                     \n",
            "==================================================================================================\n",
            " mask (InputLayer)              [(None, 139, 1)]     0           []                               \n",
            "                                                                                                  \n",
            " tf.math.not_equal (TFOpLambda)  (None, 139, 1)      0           ['mask[0][0]']                   \n",
            "                                                                                                  \n",
            " tf.cast (TFOpLambda)           (None, 139, 1)       0           ['tf.math.not_equal[0][0]']      \n",
            "                                                                                                  \n",
            " tf.math.equal (TFOpLambda)     (None, 139, 1)       0           ['tf.cast[0][0]']                \n",
            "                                                                                                  \n",
            " tf.cast_1 (TFOpLambda)         (None, 139, 1)       0           ['tf.math.equal[0][0]']          \n",
            "                                                                                                  \n",
            " tf.math.multiply (TFOpLambda)  (None, 139, 1)       0           ['tf.cast_1[0][0]']              \n",
            "                                                                                                  \n",
            " points (InputLayer)            [(None, 139, 2)]     0           []                               \n",
            "                                                                                                  \n",
            " tf.math.add (TFOpLambda)       (None, 139, 2)       0           ['tf.math.multiply[0][0]',       \n",
            "                                                                  'points[0][0]']                 \n",
            "                                                                                                  \n",
            " features (InputLayer)          [(None, 139, 4)]     0           []                               \n",
            "                                                                                                  \n",
            " tf.compat.v1.transpose (TFOpLa  (None, 2, 139)      0           ['tf.math.add[0][0]']            \n",
            " mbda)                                                                                            \n",
            "                                                                                                  \n",
            " tf.expand_dims (TFOpLambda)    (None, 139, 1, 4)    0           ['features[0][0]']               \n",
            "                                                                                                  \n",
            " tf.math.multiply_1 (TFOpLambda  (None, 139, 2)      0           ['tf.math.add[0][0]',            \n",
            " )                                                                'tf.math.add[0][0]']            \n",
            "                                                                                                  \n",
            " tf.linalg.matmul (TFOpLambda)  (None, 139, 139)     0           ['tf.math.add[0][0]',            \n",
            "                                                                  'tf.compat.v1.transpose[0][0]'] \n",
            "                                                                                                  \n",
            " tf.math.multiply_2 (TFOpLambda  (None, 139, 2)      0           ['tf.math.add[0][0]',            \n",
            " )                                                                'tf.math.add[0][0]']            \n",
            "                                                                                                  \n",
            " ParticleNet_fts_bn (BatchNorma  (None, 139, 1, 4)   16          ['tf.expand_dims[0][0]']         \n",
            " lization)                                                                                        \n",
            "                                                                                                  \n",
            " tf.math.reduce_sum (TFOpLambda  (None, 139, 1)      0           ['tf.math.multiply_1[0][0]']     \n",
            " )                                                                                                \n",
            "                                                                                                  \n",
            " tf.math.multiply_3 (TFOpLambda  (None, 139, 139)    0           ['tf.linalg.matmul[0][0]']       \n",
            " )                                                                                                \n",
            "                                                                                                  \n",
            " tf.math.reduce_sum_1 (TFOpLamb  (None, 139, 1)      0           ['tf.math.multiply_2[0][0]']     \n",
            " da)                                                                                              \n",
            "                                                                                                  \n",
            " tf.compat.v1.squeeze (TFOpLamb  (None, 139, 4)      0           ['ParticleNet_fts_bn[0][0]']     \n",
            " da)                                                                                              \n",
            "                                                                                                  \n",
            " tf.math.subtract (TFOpLambda)  (None, 139, 139)     0           ['tf.math.reduce_sum[0][0]',     \n",
            "                                                                  'tf.math.multiply_3[0][0]']     \n",
            "                                                                                                  \n",
            " tf.compat.v1.transpose_1 (TFOp  (None, 1, 139)      0           ['tf.math.reduce_sum_1[0][0]']   \n",
            " Lambda)                                                                                          \n",
            "                                                                                                  \n",
            " tf.compat.v1.shape (TFOpLambda  (3,)                0           ['tf.compat.v1.squeeze[0][0]']   \n",
            " )                                                                                                \n",
            "                                                                                                  \n",
            " tf.__operators__.add (TFOpLamb  (None, 139, 139)    0           ['tf.math.subtract[0][0]',       \n",
            " da)                                                              'tf.compat.v1.transpose_1[0][0]'\n",
            "                                                                 ]                                \n",
            "                                                                                                  \n",
            " tf.__operators__.getitem_1 (Sl  ()                  0           ['tf.compat.v1.shape[0][0]']     \n",
            " icingOpLambda)                                                                                   \n",
            "                                                                                                  \n",
            " tf.math.negative (TFOpLambda)  (None, 139, 139)     0           ['tf.__operators__.add[0][0]']   \n",
            "                                                                                                  \n",
            " tf.range (TFOpLambda)          (None,)              0           ['tf.__operators__.getitem_1[0][0\n",
            "                                                                 ]']                              \n",
            "                                                                                                  \n",
            " tf.math.top_k (TFOpLambda)     TopKV2(values=(None  0           ['tf.math.negative[0][0]']       \n",
            "                                , 139, 8),                                                        \n",
            "                                 indices=(None, 139                                               \n",
            "                                , 8))                                                             \n",
            "                                                                                                  \n",
            " tf.reshape (TFOpLambda)        (None, 1, 1, 1)      0           ['tf.range[0][0]']               \n",
            "                                                                                                  \n",
            " tf.__operators__.getitem (Slic  (None, 139, 7)      0           ['tf.math.top_k[0][1]']          \n",
            " ingOpLambda)                                                                                     \n",
            "                                                                                                  \n",
            " tf.tile (TFOpLambda)           (None, 139, 7, 1)    0           ['tf.reshape[0][0]']             \n",
            "                                                                                                  \n",
            " tf.expand_dims_1 (TFOpLambda)  (None, 139, 7, 1)    0           ['tf.__operators__.getitem[0][0]'\n",
            "                                                                 ]                                \n",
            "                                                                                                  \n",
            " tf.expand_dims_2 (TFOpLambda)  (None, 139, 1, 4)    0           ['tf.compat.v1.squeeze[0][0]']   \n",
            "                                                                                                  \n",
            " tf.concat (TFOpLambda)         (None, 139, 7, 2)    0           ['tf.tile[0][0]',                \n",
            "                                                                  'tf.expand_dims_1[0][0]']       \n",
            "                                                                                                  \n",
            " tf.tile_1 (TFOpLambda)         (None, 139, 7, 4)    0           ['tf.expand_dims_2[0][0]']       \n",
            "                                                                                                  \n",
            " tf.compat.v1.gather_nd (TFOpLa  (None, 139, 7, 4)   0           ['tf.compat.v1.squeeze[0][0]',   \n",
            " mbda)                                                            'tf.concat[0][0]']              \n",
            "                                                                                                  \n",
            " tf.math.subtract_1 (TFOpLambda  (None, 139, 7, 4)   0           ['tf.compat.v1.gather_nd[0][0]', \n",
            " )                                                                'tf.tile_1[0][0]']              \n",
            "                                                                                                  \n",
            " tf.concat_1 (TFOpLambda)       (None, 139, 7, 8)    0           ['tf.tile_1[0][0]',              \n",
            "                                                                  'tf.math.subtract_1[0][0]']     \n",
            "                                                                                                  \n",
            " ParticleNet_EdgeConv0_conv0 (C  (None, 139, 7, 32)  256         ['tf.concat_1[0][0]']            \n",
            " onv2D)                                                                                           \n",
            "                                                                                                  \n",
            " ParticleNet_EdgeConv0_bn0 (Bat  (None, 139, 7, 32)  128         ['ParticleNet_EdgeConv0_conv0[0][\n",
            " chNormalization)                                                0]']                             \n",
            "                                                                                                  \n",
            " ParticleNet_EdgeConv0_act0 (Ac  (None, 139, 7, 32)  0           ['ParticleNet_EdgeConv0_bn0[0][0]\n",
            " tivation)                                                       ']                               \n",
            "                                                                                                  \n",
            " ParticleNet_EdgeConv0_conv1 (C  (None, 139, 7, 32)  1024        ['ParticleNet_EdgeConv0_act0[0][0\n",
            " onv2D)                                                          ]']                              \n",
            "                                                                                                  \n",
            " ParticleNet_EdgeConv0_bn1 (Bat  (None, 139, 7, 32)  128         ['ParticleNet_EdgeConv0_conv1[0][\n",
            " chNormalization)                                                0]']                             \n",
            "                                                                                                  \n",
            " ParticleNet_EdgeConv0_act1 (Ac  (None, 139, 7, 32)  0           ['ParticleNet_EdgeConv0_bn1[0][0]\n",
            " tivation)                                                       ']                               \n",
            "                                                                                                  \n",
            " tf.expand_dims_3 (TFOpLambda)  (None, 139, 1, 4)    0           ['tf.compat.v1.squeeze[0][0]']   \n",
            "                                                                                                  \n",
            " ParticleNet_EdgeConv0_conv2 (C  (None, 139, 7, 32)  1024        ['ParticleNet_EdgeConv0_act1[0][0\n",
            " onv2D)                                                          ]']                              \n",
            "                                                                                                  \n",
            " ParticleNet_EdgeConv0_sc_conv   (None, 139, 1, 32)  128         ['tf.expand_dims_3[0][0]']       \n",
            " (Conv2D)                                                                                         \n",
            "                                                                                                  \n",
            " ParticleNet_EdgeConv0_bn2 (Bat  (None, 139, 7, 32)  128         ['ParticleNet_EdgeConv0_conv2[0][\n",
            " chNormalization)                                                0]']                             \n",
            "                                                                                                  \n",
            " ParticleNet_EdgeConv0_sc_bn (B  (None, 139, 1, 32)  128         ['ParticleNet_EdgeConv0_sc_conv[0\n",
            " atchNormalization)                                              ][0]']                           \n",
            "                                                                                                  \n",
            " ParticleNet_EdgeConv0_act2 (Ac  (None, 139, 7, 32)  0           ['ParticleNet_EdgeConv0_bn2[0][0]\n",
            " tivation)                                                       ']                               \n",
            "                                                                                                  \n",
            " tf.compat.v1.squeeze_1 (TFOpLa  (None, 139, 32)     0           ['ParticleNet_EdgeConv0_sc_bn[0][\n",
            " mbda)                                                           0]']                             \n",
            "                                                                                                  \n",
            " tf.math.reduce_mean (TFOpLambd  (None, 139, 32)     0           ['ParticleNet_EdgeConv0_act2[0][0\n",
            " a)                                                              ]']                              \n",
            "                                                                                                  \n",
            " tf.__operators__.add_1 (TFOpLa  (None, 139, 32)     0           ['tf.compat.v1.squeeze_1[0][0]', \n",
            " mbda)                                                            'tf.math.reduce_mean[0][0]']    \n",
            "                                                                                                  \n",
            " ParticleNet_EdgeConv0_sc_act (  (None, 139, 32)     0           ['tf.__operators__.add_1[0][0]'] \n",
            " Activation)                                                                                      \n",
            "                                                                                                  \n",
            " tf.math.add_1 (TFOpLambda)     (None, 139, 32)      0           ['tf.math.multiply[0][0]',       \n",
            "                                                                  'ParticleNet_EdgeConv0_sc_act[0]\n",
            "                                                                 [0]']                            \n",
            "                                                                                                  \n",
            " tf.compat.v1.transpose_2 (TFOp  (None, 32, 139)     0           ['tf.math.add_1[0][0]']          \n",
            " Lambda)                                                                                          \n",
            "                                                                                                  \n",
            " tf.math.multiply_4 (TFOpLambda  (None, 139, 32)     0           ['tf.math.add_1[0][0]',          \n",
            " )                                                                'tf.math.add_1[0][0]']          \n",
            "                                                                                                  \n",
            " tf.linalg.matmul_1 (TFOpLambda  (None, 139, 139)    0           ['tf.math.add_1[0][0]',          \n",
            " )                                                                'tf.compat.v1.transpose_2[0][0]'\n",
            "                                                                 ]                                \n",
            "                                                                                                  \n",
            " tf.math.multiply_5 (TFOpLambda  (None, 139, 32)     0           ['tf.math.add_1[0][0]',          \n",
            " )                                                                'tf.math.add_1[0][0]']          \n",
            "                                                                                                  \n",
            " tf.math.reduce_sum_2 (TFOpLamb  (None, 139, 1)      0           ['tf.math.multiply_4[0][0]']     \n",
            " da)                                                                                              \n",
            "                                                                                                  \n",
            " tf.math.multiply_6 (TFOpLambda  (None, 139, 139)    0           ['tf.linalg.matmul_1[0][0]']     \n",
            " )                                                                                                \n",
            "                                                                                                  \n",
            " tf.math.reduce_sum_3 (TFOpLamb  (None, 139, 1)      0           ['tf.math.multiply_5[0][0]']     \n",
            " da)                                                                                              \n",
            "                                                                                                  \n",
            " tf.math.subtract_2 (TFOpLambda  (None, 139, 139)    0           ['tf.math.reduce_sum_2[0][0]',   \n",
            " )                                                                'tf.math.multiply_6[0][0]']     \n",
            "                                                                                                  \n",
            " tf.compat.v1.transpose_3 (TFOp  (None, 1, 139)      0           ['tf.math.reduce_sum_3[0][0]']   \n",
            " Lambda)                                                                                          \n",
            "                                                                                                  \n",
            " tf.compat.v1.shape_1 (TFOpLamb  (3,)                0           ['ParticleNet_EdgeConv0_sc_act[0]\n",
            " da)                                                             [0]']                            \n",
            "                                                                                                  \n",
            " tf.__operators__.add_2 (TFOpLa  (None, 139, 139)    0           ['tf.math.subtract_2[0][0]',     \n",
            " mbda)                                                            'tf.compat.v1.transpose_3[0][0]'\n",
            "                                                                 ]                                \n",
            "                                                                                                  \n",
            " tf.__operators__.getitem_3 (Sl  ()                  0           ['tf.compat.v1.shape_1[0][0]']   \n",
            " icingOpLambda)                                                                                   \n",
            "                                                                                                  \n",
            " tf.math.negative_1 (TFOpLambda  (None, 139, 139)    0           ['tf.__operators__.add_2[0][0]'] \n",
            " )                                                                                                \n",
            "                                                                                                  \n",
            " tf.range_1 (TFOpLambda)        (None,)              0           ['tf.__operators__.getitem_3[0][0\n",
            "                                                                 ]']                              \n",
            "                                                                                                  \n",
            " tf.math.top_k_1 (TFOpLambda)   TopKV2(values=(None  0           ['tf.math.negative_1[0][0]']     \n",
            "                                , 139, 8),                                                        \n",
            "                                 indices=(None, 139                                               \n",
            "                                , 8))                                                             \n",
            "                                                                                                  \n",
            " tf.reshape_1 (TFOpLambda)      (None, 1, 1, 1)      0           ['tf.range_1[0][0]']             \n",
            "                                                                                                  \n",
            " tf.__operators__.getitem_2 (Sl  (None, 139, 7)      0           ['tf.math.top_k_1[0][1]']        \n",
            " icingOpLambda)                                                                                   \n",
            "                                                                                                  \n",
            " tf.tile_2 (TFOpLambda)         (None, 139, 7, 1)    0           ['tf.reshape_1[0][0]']           \n",
            "                                                                                                  \n",
            " tf.expand_dims_4 (TFOpLambda)  (None, 139, 7, 1)    0           ['tf.__operators__.getitem_2[0][0\n",
            "                                                                 ]']                              \n",
            "                                                                                                  \n",
            " tf.expand_dims_5 (TFOpLambda)  (None, 139, 1, 32)   0           ['ParticleNet_EdgeConv0_sc_act[0]\n",
            "                                                                 [0]']                            \n",
            "                                                                                                  \n",
            " tf.concat_2 (TFOpLambda)       (None, 139, 7, 2)    0           ['tf.tile_2[0][0]',              \n",
            "                                                                  'tf.expand_dims_4[0][0]']       \n",
            "                                                                                                  \n",
            " tf.tile_3 (TFOpLambda)         (None, 139, 7, 32)   0           ['tf.expand_dims_5[0][0]']       \n",
            "                                                                                                  \n",
            " tf.compat.v1.gather_nd_1 (TFOp  (None, 139, 7, 32)  0           ['ParticleNet_EdgeConv0_sc_act[0]\n",
            " Lambda)                                                         [0]',                            \n",
            "                                                                  'tf.concat_2[0][0]']            \n",
            "                                                                                                  \n",
            " tf.math.subtract_3 (TFOpLambda  (None, 139, 7, 32)  0           ['tf.compat.v1.gather_nd_1[0][0]'\n",
            " )                                                               , 'tf.tile_3[0][0]']             \n",
            "                                                                                                  \n",
            " tf.concat_3 (TFOpLambda)       (None, 139, 7, 64)   0           ['tf.tile_3[0][0]',              \n",
            "                                                                  'tf.math.subtract_3[0][0]']     \n",
            "                                                                                                  \n",
            " ParticleNet_EdgeConv1_conv0 (C  (None, 139, 7, 64)  4096        ['tf.concat_3[0][0]']            \n",
            " onv2D)                                                                                           \n",
            "                                                                                                  \n",
            " ParticleNet_EdgeConv1_bn0 (Bat  (None, 139, 7, 64)  256         ['ParticleNet_EdgeConv1_conv0[0][\n",
            " chNormalization)                                                0]']                             \n",
            "                                                                                                  \n",
            " ParticleNet_EdgeConv1_act0 (Ac  (None, 139, 7, 64)  0           ['ParticleNet_EdgeConv1_bn0[0][0]\n",
            " tivation)                                                       ']                               \n",
            "                                                                                                  \n",
            " ParticleNet_EdgeConv1_conv1 (C  (None, 139, 7, 64)  4096        ['ParticleNet_EdgeConv1_act0[0][0\n",
            " onv2D)                                                          ]']                              \n",
            "                                                                                                  \n",
            " ParticleNet_EdgeConv1_bn1 (Bat  (None, 139, 7, 64)  256         ['ParticleNet_EdgeConv1_conv1[0][\n",
            " chNormalization)                                                0]']                             \n",
            "                                                                                                  \n",
            " ParticleNet_EdgeConv1_act1 (Ac  (None, 139, 7, 64)  0           ['ParticleNet_EdgeConv1_bn1[0][0]\n",
            " tivation)                                                       ']                               \n",
            "                                                                                                  \n",
            " tf.expand_dims_6 (TFOpLambda)  (None, 139, 1, 32)   0           ['ParticleNet_EdgeConv0_sc_act[0]\n",
            "                                                                 [0]']                            \n",
            "                                                                                                  \n",
            " ParticleNet_EdgeConv1_conv2 (C  (None, 139, 7, 64)  4096        ['ParticleNet_EdgeConv1_act1[0][0\n",
            " onv2D)                                                          ]']                              \n",
            "                                                                                                  \n",
            " ParticleNet_EdgeConv1_sc_conv   (None, 139, 1, 64)  2048        ['tf.expand_dims_6[0][0]']       \n",
            " (Conv2D)                                                                                         \n",
            "                                                                                                  \n",
            " ParticleNet_EdgeConv1_bn2 (Bat  (None, 139, 7, 64)  256         ['ParticleNet_EdgeConv1_conv2[0][\n",
            " chNormalization)                                                0]']                             \n",
            "                                                                                                  \n",
            " ParticleNet_EdgeConv1_sc_bn (B  (None, 139, 1, 64)  256         ['ParticleNet_EdgeConv1_sc_conv[0\n",
            " atchNormalization)                                              ][0]']                           \n",
            "                                                                                                  \n",
            " ParticleNet_EdgeConv1_act2 (Ac  (None, 139, 7, 64)  0           ['ParticleNet_EdgeConv1_bn2[0][0]\n",
            " tivation)                                                       ']                               \n",
            "                                                                                                  \n",
            " tf.compat.v1.squeeze_2 (TFOpLa  (None, 139, 64)     0           ['ParticleNet_EdgeConv1_sc_bn[0][\n",
            " mbda)                                                           0]']                             \n",
            "                                                                                                  \n",
            " tf.math.reduce_mean_1 (TFOpLam  (None, 139, 64)     0           ['ParticleNet_EdgeConv1_act2[0][0\n",
            " bda)                                                            ]']                              \n",
            "                                                                                                  \n",
            " tf.__operators__.add_3 (TFOpLa  (None, 139, 64)     0           ['tf.compat.v1.squeeze_2[0][0]', \n",
            " mbda)                                                            'tf.math.reduce_mean_1[0][0]']  \n",
            "                                                                                                  \n",
            " ParticleNet_EdgeConv1_sc_act (  (None, 139, 64)     0           ['tf.__operators__.add_3[0][0]'] \n",
            " Activation)                                                                                      \n",
            "                                                                                                  \n",
            " tf.math.multiply_7 (TFOpLambda  (None, 139, 64)     0           ['ParticleNet_EdgeConv1_sc_act[0]\n",
            " )                                                               [0]',                            \n",
            "                                                                  'tf.cast[0][0]']                \n",
            "                                                                                                  \n",
            " tf.math.reduce_mean_2 (TFOpLam  (None, 64)          0           ['tf.math.multiply_7[0][0]']     \n",
            " bda)                                                                                             \n",
            "                                                                                                  \n",
            " dense (Dense)                  (None, 128)          8320        ['tf.math.reduce_mean_2[0][0]']  \n",
            "                                                                                                  \n",
            " dropout (Dropout)              (None, 128)          0           ['dense[0][0]']                  \n",
            "                                                                                                  \n",
            " dense_1 (Dense)                (None, 2)            258         ['dropout[0][0]']                \n",
            "                                                                                                  \n",
            "==================================================================================================\n",
            "Total params: 26,898\n",
            "Trainable params: 26,122\n",
            "Non-trainable params: 776\n",
            "__________________________________________________________________________________________________\n"
          ]
        }
      ],
      "source": [
        "model.compile(loss='categorical_crossentropy',\n",
        "              optimizer=keras.optimizers.Adam(learning_rate=lr_schedule(0)),\n",
        "              metrics=['accuracy'])\n",
        "model.summary()"
      ]
    },
    {
      "cell_type": "markdown",
      "id": "67cce327",
      "metadata": {
        "id": "67cce327"
      },
      "source": [
        "### Train the model"
      ]
    },
    {
      "cell_type": "code",
      "execution_count": 36,
      "id": "e6d66c00",
      "metadata": {
        "ExecuteTime": {
          "end_time": "2022-05-13T12:34:59.698118Z",
          "start_time": "2022-05-13T12:34:59.675062Z"
        },
        "id": "e6d66c00"
      },
      "outputs": [],
      "source": [
        "# Prepare model model saving directory.\n",
        "\n",
        "save_dir = 'model_checkpoints'\n",
        "model_name = '%s_model.{epoch:03d}.h5' % 'particle_net_lite'\n",
        "if not os.path.isdir(save_dir):\n",
        "    os.makedirs(save_dir)\n",
        "filepath = os.path.join(save_dir, model_name)\n",
        "\n",
        "# Prepare callbacks for model saving and for learning rate adjustment.\n",
        "checkpoint = keras.callbacks.ModelCheckpoint(filepath=filepath,\n",
        "                                             monitor='val_accuracy',\n",
        "                                             verbose=1,\n",
        "                                             save_best_only=True)\n",
        "\n",
        "lr_scheduler = keras.callbacks.LearningRateScheduler(lr_schedule)\n",
        "progress_bar = keras.callbacks.ProgbarLogger()\n",
        "callbacks = [checkpoint, lr_scheduler, progress_bar]"
      ]
    },
    {
      "cell_type": "code",
      "execution_count": 37,
      "id": "f1f2b991",
      "metadata": {
        "ExecuteTime": {
          "start_time": "2022-05-13T12:35:01.567Z"
        },
        "colab": {
          "base_uri": "https://localhost:8080/"
        },
        "id": "f1f2b991",
        "outputId": "9465caec-527e-441b-c511-8fddba9d67cb",
        "scrolled": true
      },
      "outputs": [
        {
          "name": "stderr",
          "output_type": "stream",
          "text": [
            "[2023-03-28 17:34:09,488] INFO: Learning rate: 0.001000\n"
          ]
        },
        {
          "name": "stdout",
          "output_type": "stream",
          "text": [
            "Epoch 1/100\n",
            "      0/Unknown - 294s 0s/sample - loss: 0.5496 - accuracy: 0.7193\n",
            "Epoch 1: val_accuracy improved from -inf to 0.50967, saving model to model_checkpoints\\particle_net_lite_model.001.h5\n",
            "69/69 [==============================] - 308s 4s/sample - loss: 0.5496 - accuracy: 0.7193 - val_loss: 0.7252 - val_accuracy: 0.5097 - lr: 0.0010\n"
          ]
        },
        {
          "name": "stderr",
          "output_type": "stream",
          "text": [
            "[2023-03-28 17:39:17,044] INFO: Learning rate: 0.001000\n"
          ]
        },
        {
          "name": "stdout",
          "output_type": "stream",
          "text": [
            "Epoch 2/100\n",
            " 0/69 [..............................] - ETA: 0s - loss: 0.5172 - accuracy: 0.7454\n",
            "Epoch 2: val_accuracy improved from 0.50967 to 0.56253, saving model to model_checkpoints\\particle_net_lite_model.002.h5\n",
            "69/69 [==============================] - 289s 4s/sample - loss: 0.5172 - accuracy: 0.7454 - val_loss: 0.6673 - val_accuracy: 0.5625 - lr: 0.0010\n"
          ]
        },
        {
          "name": "stderr",
          "output_type": "stream",
          "text": [
            "[2023-03-28 17:44:06,052] INFO: Learning rate: 0.001000\n"
          ]
        },
        {
          "name": "stdout",
          "output_type": "stream",
          "text": [
            "Epoch 3/100\n",
            " 0/69 [..............................] - ETA: 0s - loss: 0.5096 - accuracy: 0.7509\n",
            "Epoch 3: val_accuracy improved from 0.56253 to 0.64800, saving model to model_checkpoints\\particle_net_lite_model.003.h5\n",
            "69/69 [==============================] - 281s 4s/sample - loss: 0.5096 - accuracy: 0.7509 - val_loss: 0.6029 - val_accuracy: 0.6480 - lr: 0.0010\n"
          ]
        },
        {
          "name": "stderr",
          "output_type": "stream",
          "text": [
            "[2023-03-28 17:48:47,237] INFO: Learning rate: 0.001000\n"
          ]
        },
        {
          "name": "stdout",
          "output_type": "stream",
          "text": [
            "Epoch 4/100\n",
            " 0/69 [..............................] - ETA: 0s - loss: 0.5042 - accuracy: 0.7573\n",
            "Epoch 4: val_accuracy improved from 0.64800 to 0.73233, saving model to model_checkpoints\\particle_net_lite_model.004.h5\n",
            "69/69 [==============================] - 290s 4s/sample - loss: 0.5042 - accuracy: 0.7573 - val_loss: 0.5250 - val_accuracy: 0.7323 - lr: 0.0010\n"
          ]
        },
        {
          "name": "stderr",
          "output_type": "stream",
          "text": [
            "[2023-03-28 17:53:37,611] INFO: Learning rate: 0.001000\n"
          ]
        },
        {
          "name": "stdout",
          "output_type": "stream",
          "text": [
            "Epoch 5/100\n",
            " 0/69 [..............................] - ETA: 0s - loss: 0.5004 - accuracy: 0.7606\n",
            "Epoch 5: val_accuracy improved from 0.73233 to 0.75100, saving model to model_checkpoints\\particle_net_lite_model.005.h5\n",
            "69/69 [==============================] - 283s 4s/sample - loss: 0.5004 - accuracy: 0.7606 - val_loss: 0.5088 - val_accuracy: 0.7510 - lr: 0.0010\n"
          ]
        },
        {
          "name": "stderr",
          "output_type": "stream",
          "text": [
            "[2023-03-28 17:58:20,953] INFO: Learning rate: 0.001000\n"
          ]
        },
        {
          "name": "stdout",
          "output_type": "stream",
          "text": [
            "Epoch 6/100\n",
            " 0/69 [..............................] - ETA: 0s - loss: 0.4991 - accuracy: 0.7616\n",
            "Epoch 6: val_accuracy improved from 0.75100 to 0.78307, saving model to model_checkpoints\\particle_net_lite_model.006.h5\n",
            "69/69 [==============================] - 276s 4s/sample - loss: 0.4991 - accuracy: 0.7616 - val_loss: 0.4716 - val_accuracy: 0.7831 - lr: 0.0010\n"
          ]
        },
        {
          "name": "stderr",
          "output_type": "stream",
          "text": [
            "[2023-03-28 18:02:56,960] INFO: Learning rate: 0.001000\n"
          ]
        },
        {
          "name": "stdout",
          "output_type": "stream",
          "text": [
            "Epoch 7/100\n",
            " 0/69 [..............................] - ETA: 0s - loss: 0.4957 - accuracy: 0.7642\n",
            "Epoch 7: val_accuracy improved from 0.78307 to 0.78633, saving model to model_checkpoints\\particle_net_lite_model.007.h5\n",
            "69/69 [==============================] - 277s 4s/sample - loss: 0.4957 - accuracy: 0.7642 - val_loss: 0.4650 - val_accuracy: 0.7863 - lr: 0.0010\n"
          ]
        },
        {
          "name": "stderr",
          "output_type": "stream",
          "text": [
            "[2023-03-28 18:07:34,386] INFO: Learning rate: 0.001000\n"
          ]
        },
        {
          "name": "stdout",
          "output_type": "stream",
          "text": [
            "Epoch 8/100\n",
            " 0/69 [..............................] - ETA: 0s - loss: 0.4925 - accuracy: 0.7665\n",
            "Epoch 8: val_accuracy improved from 0.78633 to 0.79467, saving model to model_checkpoints\\particle_net_lite_model.008.h5\n",
            "69/69 [==============================] - 276s 4s/sample - loss: 0.4925 - accuracy: 0.7665 - val_loss: 0.4631 - val_accuracy: 0.7947 - lr: 0.0010\n"
          ]
        },
        {
          "name": "stderr",
          "output_type": "stream",
          "text": [
            "[2023-03-28 18:12:10,367] INFO: Learning rate: 0.001000\n"
          ]
        },
        {
          "name": "stdout",
          "output_type": "stream",
          "text": [
            "Epoch 9/100\n",
            " 0/69 [..............................] - ETA: 0s - loss: 0.4899 - accuracy: 0.7697\n",
            "Epoch 9: val_accuracy improved from 0.79467 to 0.79967, saving model to model_checkpoints\\particle_net_lite_model.009.h5\n",
            "69/69 [==============================] - 277s 4s/sample - loss: 0.4899 - accuracy: 0.7697 - val_loss: 0.4533 - val_accuracy: 0.7997 - lr: 0.0010\n"
          ]
        },
        {
          "name": "stderr",
          "output_type": "stream",
          "text": [
            "[2023-03-28 18:16:47,303] INFO: Learning rate: 0.001000\n"
          ]
        },
        {
          "name": "stdout",
          "output_type": "stream",
          "text": [
            "Epoch 10/100\n",
            " 0/69 [..............................] - ETA: 0s - loss: 0.4892 - accuracy: 0.7678\n",
            "Epoch 10: val_accuracy did not improve from 0.79967\n",
            "69/69 [==============================] - 274s 4s/sample - loss: 0.4892 - accuracy: 0.7678 - val_loss: 0.4630 - val_accuracy: 0.7889 - lr: 0.0010\n"
          ]
        },
        {
          "name": "stderr",
          "output_type": "stream",
          "text": [
            "[2023-03-28 18:21:21,776] INFO: Learning rate: 0.001000\n"
          ]
        },
        {
          "name": "stdout",
          "output_type": "stream",
          "text": [
            "Epoch 11/100\n",
            " 0/69 [..............................] - ETA: 0s - loss: 0.4882 - accuracy: 0.7688\n",
            "Epoch 11: val_accuracy did not improve from 0.79967\n",
            "69/69 [==============================] - 276s 4s/sample - loss: 0.4882 - accuracy: 0.7688 - val_loss: 0.4557 - val_accuracy: 0.7939 - lr: 0.0010\n"
          ]
        },
        {
          "name": "stderr",
          "output_type": "stream",
          "text": [
            "[2023-03-28 18:25:57,937] INFO: Learning rate: 0.000100\n"
          ]
        },
        {
          "name": "stdout",
          "output_type": "stream",
          "text": [
            "Epoch 12/100\n",
            " 0/69 [..............................] - ETA: 0s - loss: 0.4823 - accuracy: 0.7727\n",
            "Epoch 12: val_accuracy improved from 0.79967 to 0.80073, saving model to model_checkpoints\\particle_net_lite_model.012.h5\n",
            "69/69 [==============================] - 276s 4s/sample - loss: 0.4823 - accuracy: 0.7727 - val_loss: 0.4489 - val_accuracy: 0.8007 - lr: 1.0000e-04\n"
          ]
        },
        {
          "name": "stderr",
          "output_type": "stream",
          "text": [
            "[2023-03-28 18:30:33,829] INFO: Learning rate: 0.000100\n"
          ]
        },
        {
          "name": "stdout",
          "output_type": "stream",
          "text": [
            "Epoch 13/100\n",
            " 0/69 [..............................] - ETA: 0s - loss: 0.4811 - accuracy: 0.7740\n",
            "Epoch 13: val_accuracy did not improve from 0.80073\n",
            "69/69 [==============================] - 276s 4s/sample - loss: 0.4811 - accuracy: 0.7740 - val_loss: 0.4481 - val_accuracy: 0.7997 - lr: 1.0000e-04\n"
          ]
        },
        {
          "name": "stderr",
          "output_type": "stream",
          "text": [
            "[2023-03-28 18:35:09,668] INFO: Learning rate: 0.000100\n"
          ]
        },
        {
          "name": "stdout",
          "output_type": "stream",
          "text": [
            "Epoch 14/100\n",
            " 0/69 [..............................] - ETA: 0s - loss: 0.4809 - accuracy: 0.7741\n",
            "Epoch 14: val_accuracy improved from 0.80073 to 0.80240, saving model to model_checkpoints\\particle_net_lite_model.014.h5\n",
            "69/69 [==============================] - 275s 4s/sample - loss: 0.4809 - accuracy: 0.7741 - val_loss: 0.4476 - val_accuracy: 0.8024 - lr: 1.0000e-04\n"
          ]
        },
        {
          "name": "stderr",
          "output_type": "stream",
          "text": [
            "[2023-03-28 18:39:44,252] INFO: Learning rate: 0.000100\n"
          ]
        },
        {
          "name": "stdout",
          "output_type": "stream",
          "text": [
            "Epoch 15/100\n",
            " 0/69 [..............................] - ETA: 0s - loss: 0.4805 - accuracy: 0.7743\n",
            "Epoch 15: val_accuracy did not improve from 0.80240\n",
            "69/69 [==============================] - 288s 4s/sample - loss: 0.4805 - accuracy: 0.7743 - val_loss: 0.4471 - val_accuracy: 0.8014 - lr: 1.0000e-04\n"
          ]
        },
        {
          "name": "stderr",
          "output_type": "stream",
          "text": [
            "[2023-03-28 18:44:32,072] INFO: Learning rate: 0.000100\n"
          ]
        },
        {
          "name": "stdout",
          "output_type": "stream",
          "text": [
            "Epoch 16/100\n",
            " 0/69 [..............................] - ETA: 0s - loss: 0.4806 - accuracy: 0.7743\n",
            "Epoch 16: val_accuracy did not improve from 0.80240\n",
            "69/69 [==============================] - 283s 4s/sample - loss: 0.4806 - accuracy: 0.7743 - val_loss: 0.4462 - val_accuracy: 0.8016 - lr: 1.0000e-04\n"
          ]
        },
        {
          "name": "stderr",
          "output_type": "stream",
          "text": [
            "[2023-03-28 18:49:14,700] INFO: Learning rate: 0.000100\n"
          ]
        },
        {
          "name": "stdout",
          "output_type": "stream",
          "text": [
            "Epoch 17/100\n",
            " 0/69 [..............................] - ETA: 0s - loss: 0.4803 - accuracy: 0.7745\n",
            "Epoch 17: val_accuracy improved from 0.80240 to 0.80373, saving model to model_checkpoints\\particle_net_lite_model.017.h5\n",
            "69/69 [==============================] - 292s 4s/sample - loss: 0.4803 - accuracy: 0.7745 - val_loss: 0.4468 - val_accuracy: 0.8037 - lr: 1.0000e-04\n"
          ]
        },
        {
          "name": "stderr",
          "output_type": "stream",
          "text": [
            "[2023-03-28 18:54:06,795] INFO: Learning rate: 0.000100\n"
          ]
        },
        {
          "name": "stdout",
          "output_type": "stream",
          "text": [
            "Epoch 18/100\n",
            " 0/69 [..............................] - ETA: 0s - loss: 0.4801 - accuracy: 0.7744\n",
            "Epoch 18: val_accuracy did not improve from 0.80373\n",
            "69/69 [==============================] - 324s 5s/sample - loss: 0.4801 - accuracy: 0.7744 - val_loss: 0.4471 - val_accuracy: 0.8015 - lr: 1.0000e-04\n"
          ]
        },
        {
          "name": "stderr",
          "output_type": "stream",
          "text": [
            "[2023-03-28 18:59:30,387] INFO: Learning rate: 0.000100\n"
          ]
        },
        {
          "name": "stdout",
          "output_type": "stream",
          "text": [
            "Epoch 19/100\n",
            " 0/69 [..............................] - ETA: 0s - loss: 0.4798 - accuracy: 0.7755\n",
            "Epoch 19: val_accuracy did not improve from 0.80373\n",
            "69/69 [==============================] - 280s 4s/sample - loss: 0.4798 - accuracy: 0.7755 - val_loss: 0.4464 - val_accuracy: 0.8012 - lr: 1.0000e-04\n"
          ]
        },
        {
          "name": "stderr",
          "output_type": "stream",
          "text": [
            "[2023-03-28 19:04:10,487] INFO: Learning rate: 0.000100\n"
          ]
        },
        {
          "name": "stdout",
          "output_type": "stream",
          "text": [
            "Epoch 20/100\n",
            " 0/69 [..............................] - ETA: 0s - loss: 0.4798 - accuracy: 0.7753\n",
            "Epoch 20: val_accuracy did not improve from 0.80373\n",
            "69/69 [==============================] - 275s 4s/sample - loss: 0.4798 - accuracy: 0.7753 - val_loss: 0.4457 - val_accuracy: 0.8025 - lr: 1.0000e-04\n"
          ]
        },
        {
          "name": "stderr",
          "output_type": "stream",
          "text": [
            "[2023-03-28 19:08:45,142] INFO: Learning rate: 0.000100\n"
          ]
        },
        {
          "name": "stdout",
          "output_type": "stream",
          "text": [
            "Epoch 21/100\n",
            " 0/69 [..............................] - ETA: 0s - loss: 0.4795 - accuracy: 0.7745\n",
            "Epoch 21: val_accuracy did not improve from 0.80373\n",
            "69/69 [==============================] - 273s 4s/sample - loss: 0.4795 - accuracy: 0.7745 - val_loss: 0.4456 - val_accuracy: 0.8013 - lr: 1.0000e-04\n"
          ]
        },
        {
          "name": "stderr",
          "output_type": "stream",
          "text": [
            "[2023-03-28 19:13:17,929] INFO: Learning rate: 0.000100\n"
          ]
        },
        {
          "name": "stdout",
          "output_type": "stream",
          "text": [
            "Epoch 22/100\n",
            " 0/69 [..............................] - ETA: 0s - loss: 0.4793 - accuracy: 0.7754\n",
            "Epoch 22: val_accuracy did not improve from 0.80373\n",
            "69/69 [==============================] - 274s 4s/sample - loss: 0.4793 - accuracy: 0.7754 - val_loss: 0.4449 - val_accuracy: 0.8026 - lr: 1.0000e-04\n"
          ]
        },
        {
          "name": "stderr",
          "output_type": "stream",
          "text": [
            "[2023-03-28 19:17:51,634] INFO: Learning rate: 0.000100\n"
          ]
        },
        {
          "name": "stdout",
          "output_type": "stream",
          "text": [
            "Epoch 23/100\n",
            " 0/69 [..............................] - ETA: 0s - loss: 0.4789 - accuracy: 0.7746\n",
            "Epoch 23: val_accuracy did not improve from 0.80373\n",
            "69/69 [==============================] - 272s 4s/sample - loss: 0.4789 - accuracy: 0.7746 - val_loss: 0.4458 - val_accuracy: 0.8026 - lr: 1.0000e-04\n"
          ]
        },
        {
          "name": "stderr",
          "output_type": "stream",
          "text": [
            "[2023-03-28 19:22:24,056] INFO: Learning rate: 0.000100\n"
          ]
        },
        {
          "name": "stdout",
          "output_type": "stream",
          "text": [
            "Epoch 24/100\n",
            " 0/69 [..............................] - ETA: 0s - loss: 0.4785 - accuracy: 0.7755\n",
            "Epoch 24: val_accuracy did not improve from 0.80373\n",
            "69/69 [==============================] - 275s 4s/sample - loss: 0.4785 - accuracy: 0.7755 - val_loss: 0.4456 - val_accuracy: 0.8027 - lr: 1.0000e-04\n"
          ]
        },
        {
          "name": "stderr",
          "output_type": "stream",
          "text": [
            "[2023-03-28 19:26:58,619] INFO: Learning rate: 0.000100\n"
          ]
        },
        {
          "name": "stdout",
          "output_type": "stream",
          "text": [
            "Epoch 25/100\n",
            " 0/69 [..............................] - ETA: 0s - loss: 0.4783 - accuracy: 0.7762\n",
            "Epoch 25: val_accuracy did not improve from 0.80373\n",
            "69/69 [==============================] - 277s 4s/sample - loss: 0.4783 - accuracy: 0.7762 - val_loss: 0.4441 - val_accuracy: 0.8037 - lr: 1.0000e-04\n"
          ]
        },
        {
          "name": "stderr",
          "output_type": "stream",
          "text": [
            "[2023-03-28 19:31:35,583] INFO: Learning rate: 0.000100\n"
          ]
        },
        {
          "name": "stdout",
          "output_type": "stream",
          "text": [
            "Epoch 26/100\n",
            " 0/69 [..............................] - ETA: 0s - loss: 0.4781 - accuracy: 0.7759\n",
            "Epoch 26: val_accuracy did not improve from 0.80373\n",
            "69/69 [==============================] - 276s 4s/sample - loss: 0.4781 - accuracy: 0.7759 - val_loss: 0.4465 - val_accuracy: 0.8021 - lr: 1.0000e-04\n"
          ]
        },
        {
          "name": "stderr",
          "output_type": "stream",
          "text": [
            "[2023-03-28 19:36:12,051] INFO: Learning rate: 0.000100\n"
          ]
        },
        {
          "name": "stdout",
          "output_type": "stream",
          "text": [
            "Epoch 27/100\n",
            " 0/69 [..............................] - ETA: 0s - loss: 0.4777 - accuracy: 0.7761\n",
            "Epoch 27: val_accuracy did not improve from 0.80373\n",
            "69/69 [==============================] - 275s 4s/sample - loss: 0.4777 - accuracy: 0.7761 - val_loss: 0.4435 - val_accuracy: 0.8036 - lr: 1.0000e-04\n"
          ]
        },
        {
          "name": "stderr",
          "output_type": "stream",
          "text": [
            "[2023-03-28 19:40:46,738] INFO: Learning rate: 0.000100\n"
          ]
        },
        {
          "name": "stdout",
          "output_type": "stream",
          "text": [
            "Epoch 28/100\n",
            " 0/69 [..............................] - ETA: 0s - loss: 0.4777 - accuracy: 0.7761\n",
            "Epoch 28: val_accuracy did not improve from 0.80373\n",
            "69/69 [==============================] - 275s 4s/sample - loss: 0.4777 - accuracy: 0.7761 - val_loss: 0.4441 - val_accuracy: 0.8023 - lr: 1.0000e-04\n"
          ]
        },
        {
          "name": "stderr",
          "output_type": "stream",
          "text": [
            "[2023-03-28 19:45:21,527] INFO: Learning rate: 0.000100\n"
          ]
        },
        {
          "name": "stdout",
          "output_type": "stream",
          "text": [
            "Epoch 29/100\n",
            " 0/69 [..............................] - ETA: 0s - loss: 0.4776 - accuracy: 0.7754\n",
            "Epoch 29: val_accuracy improved from 0.80373 to 0.80473, saving model to model_checkpoints\\particle_net_lite_model.029.h5\n",
            "69/69 [==============================] - 274s 4s/sample - loss: 0.4776 - accuracy: 0.7754 - val_loss: 0.4436 - val_accuracy: 0.8047 - lr: 1.0000e-04\n"
          ]
        },
        {
          "name": "stderr",
          "output_type": "stream",
          "text": [
            "[2023-03-28 19:49:55,841] INFO: Learning rate: 0.000100\n"
          ]
        },
        {
          "name": "stdout",
          "output_type": "stream",
          "text": [
            "Epoch 30/100\n",
            " 0/69 [..............................] - ETA: 0s - loss: 0.4775 - accuracy: 0.7764\n",
            "Epoch 30: val_accuracy did not improve from 0.80473\n",
            "69/69 [==============================] - 275s 4s/sample - loss: 0.4775 - accuracy: 0.7764 - val_loss: 0.4447 - val_accuracy: 0.8027 - lr: 1.0000e-04\n"
          ]
        },
        {
          "name": "stderr",
          "output_type": "stream",
          "text": [
            "[2023-03-28 19:54:30,829] INFO: Learning rate: 0.000100\n"
          ]
        },
        {
          "name": "stdout",
          "output_type": "stream",
          "text": [
            "Epoch 31/100\n",
            " 0/69 [..............................] - ETA: 0s - loss: 0.4771 - accuracy: 0.7765\n",
            "Epoch 31: val_accuracy did not improve from 0.80473\n",
            "69/69 [==============================] - 277s 4s/sample - loss: 0.4771 - accuracy: 0.7765 - val_loss: 0.4435 - val_accuracy: 0.8039 - lr: 1.0000e-04\n"
          ]
        },
        {
          "name": "stderr",
          "output_type": "stream",
          "text": [
            "[2023-03-28 19:59:07,542] INFO: Learning rate: 0.000100\n"
          ]
        },
        {
          "name": "stdout",
          "output_type": "stream",
          "text": [
            "Epoch 32/100\n",
            " 0/69 [..............................] - ETA: 0s - loss: 0.4772 - accuracy: 0.7765\n",
            "Epoch 32: val_accuracy did not improve from 0.80473\n",
            "69/69 [==============================] - 276s 4s/sample - loss: 0.4772 - accuracy: 0.7765 - val_loss: 0.4443 - val_accuracy: 0.8043 - lr: 1.0000e-04\n"
          ]
        },
        {
          "name": "stderr",
          "output_type": "stream",
          "text": [
            "[2023-03-28 20:03:43,953] INFO: Learning rate: 0.000100\n"
          ]
        },
        {
          "name": "stdout",
          "output_type": "stream",
          "text": [
            "Epoch 33/100\n",
            " 0/69 [..............................] - ETA: 0s - loss: 0.4769 - accuracy: 0.7763\n",
            "Epoch 33: val_accuracy did not improve from 0.80473\n",
            "69/69 [==============================] - 275s 4s/sample - loss: 0.4769 - accuracy: 0.7763 - val_loss: 0.4441 - val_accuracy: 0.8043 - lr: 1.0000e-04\n"
          ]
        },
        {
          "name": "stderr",
          "output_type": "stream",
          "text": [
            "[2023-03-28 20:08:19,226] INFO: Learning rate: 0.000100\n"
          ]
        },
        {
          "name": "stdout",
          "output_type": "stream",
          "text": [
            "Epoch 34/100\n",
            " 0/69 [..............................] - ETA: 0s - loss: 0.4770 - accuracy: 0.7769\n",
            "Epoch 34: val_accuracy did not improve from 0.80473\n",
            "69/69 [==============================] - 274s 4s/sample - loss: 0.4770 - accuracy: 0.7769 - val_loss: 0.4430 - val_accuracy: 0.8031 - lr: 1.0000e-04\n"
          ]
        },
        {
          "name": "stderr",
          "output_type": "stream",
          "text": [
            "[2023-03-28 20:12:52,921] INFO: Learning rate: 0.000100\n"
          ]
        },
        {
          "name": "stdout",
          "output_type": "stream",
          "text": [
            "Epoch 35/100\n",
            " 0/69 [..............................] - ETA: 0s - loss: 0.4761 - accuracy: 0.7777\n",
            "Epoch 35: val_accuracy did not improve from 0.80473\n",
            "69/69 [==============================] - 274s 4s/sample - loss: 0.4761 - accuracy: 0.7777 - val_loss: 0.4426 - val_accuracy: 0.8037 - lr: 1.0000e-04\n"
          ]
        },
        {
          "name": "stderr",
          "output_type": "stream",
          "text": [
            "[2023-03-28 20:17:27,118] INFO: Learning rate: 0.000100\n"
          ]
        },
        {
          "name": "stdout",
          "output_type": "stream",
          "text": [
            "Epoch 36/100\n",
            " 0/69 [..............................] - ETA: 0s - loss: 0.4764 - accuracy: 0.7773\n",
            "Epoch 36: val_accuracy did not improve from 0.80473\n",
            "69/69 [==============================] - 274s 4s/sample - loss: 0.4764 - accuracy: 0.7773 - val_loss: 0.4436 - val_accuracy: 0.8045 - lr: 1.0000e-04\n"
          ]
        },
        {
          "name": "stderr",
          "output_type": "stream",
          "text": [
            "[2023-03-28 20:22:00,684] INFO: Learning rate: 0.000100\n"
          ]
        },
        {
          "name": "stdout",
          "output_type": "stream",
          "text": [
            "Epoch 37/100\n",
            " 0/69 [..............................] - ETA: 0s - loss: 0.4759 - accuracy: 0.7768\n",
            "Epoch 37: val_accuracy did not improve from 0.80473\n",
            "69/69 [==============================] - 276s 4s/sample - loss: 0.4759 - accuracy: 0.7768 - val_loss: 0.4433 - val_accuracy: 0.8027 - lr: 1.0000e-04\n"
          ]
        },
        {
          "name": "stderr",
          "output_type": "stream",
          "text": [
            "[2023-03-28 20:26:36,973] INFO: Learning rate: 0.000100\n"
          ]
        },
        {
          "name": "stdout",
          "output_type": "stream",
          "text": [
            "Epoch 38/100\n",
            " 0/69 [..............................] - ETA: 0s - loss: 0.4758 - accuracy: 0.7764\n",
            "Epoch 38: val_accuracy did not improve from 0.80473\n",
            "69/69 [==============================] - 275s 4s/sample - loss: 0.4758 - accuracy: 0.7764 - val_loss: 0.4434 - val_accuracy: 0.8043 - lr: 1.0000e-04\n"
          ]
        },
        {
          "name": "stderr",
          "output_type": "stream",
          "text": [
            "[2023-03-28 20:31:12,224] INFO: Learning rate: 0.000100\n"
          ]
        },
        {
          "name": "stdout",
          "output_type": "stream",
          "text": [
            "Epoch 39/100\n",
            " 0/69 [..............................] - ETA: 0s - loss: 0.4756 - accuracy: 0.7765\n",
            "Epoch 39: val_accuracy improved from 0.80473 to 0.80480, saving model to model_checkpoints\\particle_net_lite_model.039.h5\n",
            "69/69 [==============================] - 275s 4s/sample - loss: 0.4756 - accuracy: 0.7765 - val_loss: 0.4418 - val_accuracy: 0.8048 - lr: 1.0000e-04\n"
          ]
        },
        {
          "name": "stderr",
          "output_type": "stream",
          "text": [
            "[2023-03-28 20:35:47,370] INFO: Learning rate: 0.000100\n"
          ]
        },
        {
          "name": "stdout",
          "output_type": "stream",
          "text": [
            "Epoch 40/100\n",
            " 0/69 [..............................] - ETA: 0s - loss: 0.4755 - accuracy: 0.7775\n",
            "Epoch 40: val_accuracy improved from 0.80480 to 0.80513, saving model to model_checkpoints\\particle_net_lite_model.040.h5\n",
            "69/69 [==============================] - 274s 4s/sample - loss: 0.4755 - accuracy: 0.7775 - val_loss: 0.4420 - val_accuracy: 0.8051 - lr: 1.0000e-04\n"
          ]
        },
        {
          "name": "stderr",
          "output_type": "stream",
          "text": [
            "[2023-03-28 20:40:21,400] INFO: Learning rate: 0.000100\n"
          ]
        },
        {
          "name": "stdout",
          "output_type": "stream",
          "text": [
            "Epoch 41/100\n",
            " 0/69 [..............................] - ETA: 0s - loss: 0.4753 - accuracy: 0.7777\n",
            "Epoch 41: val_accuracy did not improve from 0.80513\n",
            "69/69 [==============================] - 273s 4s/sample - loss: 0.4753 - accuracy: 0.7777 - val_loss: 0.4428 - val_accuracy: 0.8043 - lr: 1.0000e-04\n"
          ]
        },
        {
          "name": "stderr",
          "output_type": "stream",
          "text": [
            "[2023-03-28 20:44:54,871] INFO: Learning rate: 0.000100\n"
          ]
        },
        {
          "name": "stdout",
          "output_type": "stream",
          "text": [
            "Epoch 42/100\n",
            " 0/69 [..............................] - ETA: 0s - loss: 0.4753 - accuracy: 0.7784\n",
            "Epoch 42: val_accuracy did not improve from 0.80513\n",
            "69/69 [==============================] - 275s 4s/sample - loss: 0.4753 - accuracy: 0.7784 - val_loss: 0.4423 - val_accuracy: 0.8043 - lr: 1.0000e-04\n"
          ]
        },
        {
          "name": "stderr",
          "output_type": "stream",
          "text": [
            "[2023-03-28 20:49:29,511] INFO: Learning rate: 0.000100\n"
          ]
        },
        {
          "name": "stdout",
          "output_type": "stream",
          "text": [
            "Epoch 43/100\n",
            " 0/69 [..............................] - ETA: 0s - loss: 0.4748 - accuracy: 0.7782\n",
            "Epoch 43: val_accuracy did not improve from 0.80513\n",
            "69/69 [==============================] - 275s 4s/sample - loss: 0.4748 - accuracy: 0.7782 - val_loss: 0.4446 - val_accuracy: 0.8020 - lr: 1.0000e-04\n"
          ]
        },
        {
          "name": "stderr",
          "output_type": "stream",
          "text": [
            "[2023-03-28 20:54:04,779] INFO: Learning rate: 0.000100\n"
          ]
        },
        {
          "name": "stdout",
          "output_type": "stream",
          "text": [
            "Epoch 44/100\n",
            " 0/69 [..............................] - ETA: 0s - loss: 0.4747 - accuracy: 0.7779\n",
            "Epoch 44: val_accuracy did not improve from 0.80513\n",
            "69/69 [==============================] - 275s 4s/sample - loss: 0.4747 - accuracy: 0.7779 - val_loss: 0.4417 - val_accuracy: 0.8049 - lr: 1.0000e-04\n"
          ]
        },
        {
          "name": "stderr",
          "output_type": "stream",
          "text": [
            "[2023-03-28 20:58:39,893] INFO: Learning rate: 0.000100\n"
          ]
        },
        {
          "name": "stdout",
          "output_type": "stream",
          "text": [
            "Epoch 45/100\n",
            " 0/69 [..............................] - ETA: 0s - loss: 0.4745 - accuracy: 0.7781\n",
            "Epoch 45: val_accuracy did not improve from 0.80513\n",
            "69/69 [==============================] - 276s 4s/sample - loss: 0.4745 - accuracy: 0.7781 - val_loss: 0.4426 - val_accuracy: 0.8040 - lr: 1.0000e-04\n"
          ]
        },
        {
          "name": "stderr",
          "output_type": "stream",
          "text": [
            "[2023-03-28 21:03:15,978] INFO: Learning rate: 0.000100\n"
          ]
        },
        {
          "name": "stdout",
          "output_type": "stream",
          "text": [
            "Epoch 46/100\n",
            " 0/69 [..............................] - ETA: 0s - loss: 0.4743 - accuracy: 0.7787\n",
            "Epoch 46: val_accuracy did not improve from 0.80513\n",
            "69/69 [==============================] - 282s 4s/sample - loss: 0.4743 - accuracy: 0.7787 - val_loss: 0.4423 - val_accuracy: 0.8043 - lr: 1.0000e-04\n"
          ]
        },
        {
          "name": "stderr",
          "output_type": "stream",
          "text": [
            "[2023-03-28 21:07:57,525] INFO: Learning rate: 0.000100\n"
          ]
        },
        {
          "name": "stdout",
          "output_type": "stream",
          "text": [
            "Epoch 47/100\n",
            " 0/69 [..............................] - ETA: 0s - loss: 0.4744 - accuracy: 0.7782\n",
            "Epoch 47: val_accuracy improved from 0.80513 to 0.80533, saving model to model_checkpoints\\particle_net_lite_model.047.h5\n",
            "69/69 [==============================] - 280s 4s/sample - loss: 0.4744 - accuracy: 0.7782 - val_loss: 0.4415 - val_accuracy: 0.8053 - lr: 1.0000e-04\n"
          ]
        },
        {
          "name": "stderr",
          "output_type": "stream",
          "text": [
            "[2023-03-28 21:12:37,496] INFO: Learning rate: 0.000100\n"
          ]
        },
        {
          "name": "stdout",
          "output_type": "stream",
          "text": [
            "Epoch 48/100\n",
            " 0/69 [..............................] - ETA: 0s - loss: 0.4740 - accuracy: 0.7794\n",
            "Epoch 48: val_accuracy did not improve from 0.80533\n",
            "69/69 [==============================] - 277s 4s/sample - loss: 0.4740 - accuracy: 0.7794 - val_loss: 0.4418 - val_accuracy: 0.8035 - lr: 1.0000e-04\n"
          ]
        },
        {
          "name": "stderr",
          "output_type": "stream",
          "text": [
            "[2023-03-28 21:17:14,653] INFO: Learning rate: 0.000100\n"
          ]
        },
        {
          "name": "stdout",
          "output_type": "stream",
          "text": [
            "Epoch 49/100\n",
            " 0/69 [..............................] - ETA: 0s - loss: 0.4735 - accuracy: 0.7785\n",
            "Epoch 49: val_accuracy did not improve from 0.80533\n",
            "69/69 [==============================] - 273s 4s/sample - loss: 0.4735 - accuracy: 0.7785 - val_loss: 0.4412 - val_accuracy: 0.8032 - lr: 1.0000e-04\n"
          ]
        },
        {
          "name": "stderr",
          "output_type": "stream",
          "text": [
            "[2023-03-28 21:21:47,558] INFO: Learning rate: 0.000100\n"
          ]
        },
        {
          "name": "stdout",
          "output_type": "stream",
          "text": [
            "Epoch 50/100\n",
            " 0/69 [..............................] - ETA: 0s - loss: 0.4735 - accuracy: 0.7790\n",
            "Epoch 50: val_accuracy did not improve from 0.80533\n",
            "69/69 [==============================] - 280s 4s/sample - loss: 0.4735 - accuracy: 0.7790 - val_loss: 0.4433 - val_accuracy: 0.8046 - lr: 1.0000e-04\n"
          ]
        },
        {
          "name": "stderr",
          "output_type": "stream",
          "text": [
            "[2023-03-28 21:26:27,723] INFO: Learning rate: 0.000100\n"
          ]
        },
        {
          "name": "stdout",
          "output_type": "stream",
          "text": [
            "Epoch 51/100\n",
            " 0/69 [..............................] - ETA: 0s - loss: 0.4734 - accuracy: 0.7794\n",
            "Epoch 51: val_accuracy did not improve from 0.80533\n",
            "69/69 [==============================] - 274s 4s/sample - loss: 0.4734 - accuracy: 0.7794 - val_loss: 0.4413 - val_accuracy: 0.8032 - lr: 1.0000e-04\n"
          ]
        },
        {
          "name": "stderr",
          "output_type": "stream",
          "text": [
            "[2023-03-28 21:31:01,866] INFO: Learning rate: 0.000100\n"
          ]
        },
        {
          "name": "stdout",
          "output_type": "stream",
          "text": [
            "Epoch 52/100\n",
            " 0/69 [..............................] - ETA: 0s - loss: 0.4731 - accuracy: 0.7805\n",
            "Epoch 52: val_accuracy did not improve from 0.80533\n",
            "69/69 [==============================] - 273s 4s/sample - loss: 0.4731 - accuracy: 0.7805 - val_loss: 0.4410 - val_accuracy: 0.8050 - lr: 1.0000e-04\n"
          ]
        },
        {
          "name": "stderr",
          "output_type": "stream",
          "text": [
            "[2023-03-28 21:35:35,055] INFO: Learning rate: 0.000100\n"
          ]
        },
        {
          "name": "stdout",
          "output_type": "stream",
          "text": [
            "Epoch 53/100\n",
            " 0/69 [..............................] - ETA: 0s - loss: 0.4730 - accuracy: 0.7801\n",
            "Epoch 53: val_accuracy improved from 0.80533 to 0.80567, saving model to model_checkpoints\\particle_net_lite_model.053.h5\n",
            "69/69 [==============================] - 273s 4s/sample - loss: 0.4730 - accuracy: 0.7801 - val_loss: 0.4421 - val_accuracy: 0.8057 - lr: 1.0000e-04\n"
          ]
        },
        {
          "name": "stderr",
          "output_type": "stream",
          "text": [
            "[2023-03-28 21:40:08,350] INFO: Learning rate: 0.000100\n"
          ]
        },
        {
          "name": "stdout",
          "output_type": "stream",
          "text": [
            "Epoch 54/100\n",
            " 0/69 [..............................] - ETA: 0s - loss: 0.4728 - accuracy: 0.7798\n",
            "Epoch 54: val_accuracy did not improve from 0.80567\n",
            "69/69 [==============================] - 272s 4s/sample - loss: 0.4728 - accuracy: 0.7798 - val_loss: 0.4407 - val_accuracy: 0.8032 - lr: 1.0000e-04\n"
          ]
        },
        {
          "name": "stderr",
          "output_type": "stream",
          "text": [
            "[2023-03-28 21:44:40,151] INFO: Learning rate: 0.000100\n"
          ]
        },
        {
          "name": "stdout",
          "output_type": "stream",
          "text": [
            "Epoch 55/100\n",
            " 0/69 [..............................] - ETA: 0s - loss: 0.4724 - accuracy: 0.7796\n",
            "Epoch 55: val_accuracy did not improve from 0.80567\n",
            "69/69 [==============================] - 278s 4s/sample - loss: 0.4724 - accuracy: 0.7796 - val_loss: 0.4405 - val_accuracy: 0.8048 - lr: 1.0000e-04\n"
          ]
        },
        {
          "name": "stderr",
          "output_type": "stream",
          "text": [
            "[2023-03-28 21:49:18,474] INFO: Learning rate: 0.000100\n"
          ]
        },
        {
          "name": "stdout",
          "output_type": "stream",
          "text": [
            "Epoch 56/100\n",
            " 0/69 [..............................] - ETA: 0s - loss: 0.4730 - accuracy: 0.7796\n",
            "Epoch 56: val_accuracy did not improve from 0.80567\n",
            "69/69 [==============================] - 294s 4s/sample - loss: 0.4730 - accuracy: 0.7796 - val_loss: 0.4411 - val_accuracy: 0.8041 - lr: 1.0000e-04\n"
          ]
        },
        {
          "name": "stderr",
          "output_type": "stream",
          "text": [
            "[2023-03-28 21:54:12,548] INFO: Learning rate: 0.000100\n"
          ]
        },
        {
          "name": "stdout",
          "output_type": "stream",
          "text": [
            "Epoch 57/100\n",
            " 0/69 [..............................] - ETA: 0s - loss: 0.4724 - accuracy: 0.7806\n",
            "Epoch 57: val_accuracy improved from 0.80567 to 0.80627, saving model to model_checkpoints\\particle_net_lite_model.057.h5\n",
            "69/69 [==============================] - 276s 4s/sample - loss: 0.4724 - accuracy: 0.7806 - val_loss: 0.4424 - val_accuracy: 0.8063 - lr: 1.0000e-04\n"
          ]
        },
        {
          "name": "stderr",
          "output_type": "stream",
          "text": [
            "[2023-03-28 21:58:48,450] INFO: Learning rate: 0.000100\n"
          ]
        },
        {
          "name": "stdout",
          "output_type": "stream",
          "text": [
            "Epoch 58/100\n",
            " 0/69 [..............................] - ETA: 0s - loss: 0.4725 - accuracy: 0.7804\n",
            "Epoch 58: val_accuracy did not improve from 0.80627\n",
            "69/69 [==============================] - 276s 4s/sample - loss: 0.4725 - accuracy: 0.7804 - val_loss: 0.4426 - val_accuracy: 0.8041 - lr: 1.0000e-04\n"
          ]
        },
        {
          "name": "stderr",
          "output_type": "stream",
          "text": [
            "[2023-03-28 22:03:24,143] INFO: Learning rate: 0.000100\n"
          ]
        },
        {
          "name": "stdout",
          "output_type": "stream",
          "text": [
            "Epoch 59/100\n",
            " 0/69 [..............................] - ETA: 0s - loss: 0.4723 - accuracy: 0.7800\n",
            "Epoch 59: val_accuracy did not improve from 0.80627\n",
            "69/69 [==============================] - 277s 4s/sample - loss: 0.4723 - accuracy: 0.7800 - val_loss: 0.4447 - val_accuracy: 0.8043 - lr: 1.0000e-04\n"
          ]
        },
        {
          "name": "stderr",
          "output_type": "stream",
          "text": [
            "[2023-03-28 22:08:01,504] INFO: Learning rate: 0.000100\n"
          ]
        },
        {
          "name": "stdout",
          "output_type": "stream",
          "text": [
            "Epoch 60/100\n",
            " 0/69 [..............................] - ETA: 0s - loss: 0.4723 - accuracy: 0.7802\n",
            "Epoch 60: val_accuracy did not improve from 0.80627\n",
            "69/69 [==============================] - 275s 4s/sample - loss: 0.4723 - accuracy: 0.7802 - val_loss: 0.4416 - val_accuracy: 0.8041 - lr: 1.0000e-04\n"
          ]
        },
        {
          "name": "stderr",
          "output_type": "stream",
          "text": [
            "[2023-03-28 22:12:36,846] INFO: Learning rate: 0.000100\n"
          ]
        },
        {
          "name": "stdout",
          "output_type": "stream",
          "text": [
            "Epoch 61/100\n",
            " 0/69 [..............................] - ETA: 0s - loss: 0.4718 - accuracy: 0.7804\n",
            "Epoch 61: val_accuracy did not improve from 0.80627\n",
            "69/69 [==============================] - 275s 4s/sample - loss: 0.4718 - accuracy: 0.7804 - val_loss: 0.4402 - val_accuracy: 0.8049 - lr: 1.0000e-04\n"
          ]
        },
        {
          "name": "stderr",
          "output_type": "stream",
          "text": [
            "[2023-03-28 22:17:11,856] INFO: Learning rate: 0.000100\n"
          ]
        },
        {
          "name": "stdout",
          "output_type": "stream",
          "text": [
            "Epoch 62/100\n",
            " 0/69 [..............................] - ETA: 0s - loss: 0.4719 - accuracy: 0.7805\n",
            "Epoch 62: val_accuracy did not improve from 0.80627\n",
            "69/69 [==============================] - 274s 4s/sample - loss: 0.4719 - accuracy: 0.7805 - val_loss: 0.4397 - val_accuracy: 0.8041 - lr: 1.0000e-04\n"
          ]
        },
        {
          "name": "stderr",
          "output_type": "stream",
          "text": [
            "[2023-03-28 22:21:46,193] INFO: Learning rate: 0.000100\n"
          ]
        },
        {
          "name": "stdout",
          "output_type": "stream",
          "text": [
            "Epoch 63/100\n",
            " 0/69 [..............................] - ETA: 0s - loss: 0.4718 - accuracy: 0.7813\n",
            "Epoch 63: val_accuracy did not improve from 0.80627\n",
            "69/69 [==============================] - 276s 4s/sample - loss: 0.4718 - accuracy: 0.7813 - val_loss: 0.4402 - val_accuracy: 0.8045 - lr: 1.0000e-04\n"
          ]
        },
        {
          "name": "stderr",
          "output_type": "stream",
          "text": [
            "[2023-03-28 22:26:21,864] INFO: Learning rate: 0.000100\n"
          ]
        },
        {
          "name": "stdout",
          "output_type": "stream",
          "text": [
            "Epoch 64/100\n",
            " 0/69 [..............................] - ETA: 0s - loss: 0.4714 - accuracy: 0.7809\n",
            "Epoch 64: val_accuracy did not improve from 0.80627\n",
            "69/69 [==============================] - 274s 4s/sample - loss: 0.4714 - accuracy: 0.7809 - val_loss: 0.4416 - val_accuracy: 0.8051 - lr: 1.0000e-04\n"
          ]
        },
        {
          "name": "stderr",
          "output_type": "stream",
          "text": [
            "[2023-03-28 22:30:56,279] INFO: Learning rate: 0.000100\n"
          ]
        },
        {
          "name": "stdout",
          "output_type": "stream",
          "text": [
            "Epoch 65/100\n",
            " 0/69 [..............................] - ETA: 0s - loss: 0.4712 - accuracy: 0.7809\n",
            "Epoch 65: val_accuracy improved from 0.80627 to 0.80633, saving model to model_checkpoints\\particle_net_lite_model.065.h5\n",
            "69/69 [==============================] - 301s 4s/sample - loss: 0.4712 - accuracy: 0.7809 - val_loss: 0.4412 - val_accuracy: 0.8063 - lr: 1.0000e-04\n"
          ]
        },
        {
          "name": "stderr",
          "output_type": "stream",
          "text": [
            "[2023-03-28 22:35:57,216] INFO: Learning rate: 0.000100\n"
          ]
        },
        {
          "name": "stdout",
          "output_type": "stream",
          "text": [
            "Epoch 66/100\n",
            " 0/69 [..............................] - ETA: 0s - loss: 0.4712 - accuracy: 0.7803\n",
            "Epoch 66: val_accuracy did not improve from 0.80633\n",
            "69/69 [==============================] - 320s 5s/sample - loss: 0.4712 - accuracy: 0.7803 - val_loss: 0.4411 - val_accuracy: 0.8047 - lr: 1.0000e-04\n"
          ]
        },
        {
          "name": "stderr",
          "output_type": "stream",
          "text": [
            "[2023-03-28 22:41:16,797] INFO: Learning rate: 0.000100\n"
          ]
        },
        {
          "name": "stdout",
          "output_type": "stream",
          "text": [
            "Epoch 67/100\n",
            " 0/69 [..............................] - ETA: 0s - loss: 0.4709 - accuracy: 0.7813\n",
            "Epoch 67: val_accuracy did not improve from 0.80633\n",
            "69/69 [==============================] - 311s 5s/sample - loss: 0.4709 - accuracy: 0.7813 - val_loss: 0.4399 - val_accuracy: 0.8047 - lr: 1.0000e-04\n"
          ]
        },
        {
          "name": "stderr",
          "output_type": "stream",
          "text": [
            "[2023-03-28 22:46:27,404] INFO: Learning rate: 0.000100\n"
          ]
        },
        {
          "name": "stdout",
          "output_type": "stream",
          "text": [
            "Epoch 68/100\n",
            " 0/69 [..............................] - ETA: 0s - loss: 0.4710 - accuracy: 0.7814\n",
            "Epoch 68: val_accuracy did not improve from 0.80633\n",
            "69/69 [==============================] - 299s 4s/sample - loss: 0.4710 - accuracy: 0.7814 - val_loss: 0.4400 - val_accuracy: 0.8050 - lr: 1.0000e-04\n"
          ]
        },
        {
          "name": "stderr",
          "output_type": "stream",
          "text": [
            "[2023-03-28 22:51:26,000] INFO: Learning rate: 0.000100\n"
          ]
        },
        {
          "name": "stdout",
          "output_type": "stream",
          "text": [
            "Epoch 69/100\n",
            " 0/69 [..............................] - ETA: 0s - loss: 0.4703 - accuracy: 0.7814\n",
            "Epoch 69: val_accuracy did not improve from 0.80633\n",
            "69/69 [==============================] - 276s 4s/sample - loss: 0.4703 - accuracy: 0.7814 - val_loss: 0.4416 - val_accuracy: 0.8051 - lr: 1.0000e-04\n"
          ]
        },
        {
          "name": "stderr",
          "output_type": "stream",
          "text": [
            "[2023-03-28 22:56:01,613] INFO: Learning rate: 0.000100\n"
          ]
        },
        {
          "name": "stdout",
          "output_type": "stream",
          "text": [
            "Epoch 70/100\n",
            " 0/69 [..............................] - ETA: 0s - loss: 0.4704 - accuracy: 0.7815\n",
            "Epoch 70: val_accuracy did not improve from 0.80633\n",
            "69/69 [==============================] - 282s 4s/sample - loss: 0.4704 - accuracy: 0.7815 - val_loss: 0.4407 - val_accuracy: 0.8049 - lr: 1.0000e-04\n"
          ]
        },
        {
          "name": "stderr",
          "output_type": "stream",
          "text": [
            "[2023-03-28 23:00:43,271] INFO: Learning rate: 0.000100\n"
          ]
        },
        {
          "name": "stdout",
          "output_type": "stream",
          "text": [
            "Epoch 71/100\n",
            " 0/69 [..............................] - ETA: 0s - loss: 0.4703 - accuracy: 0.7808\n",
            "Epoch 71: val_accuracy did not improve from 0.80633\n",
            "69/69 [==============================] - 285s 4s/sample - loss: 0.4703 - accuracy: 0.7808 - val_loss: 0.4410 - val_accuracy: 0.8060 - lr: 1.0000e-04\n"
          ]
        },
        {
          "name": "stderr",
          "output_type": "stream",
          "text": [
            "[2023-03-28 23:05:28,327] INFO: Learning rate: 0.000100\n"
          ]
        },
        {
          "name": "stdout",
          "output_type": "stream",
          "text": [
            "Epoch 72/100\n",
            " 0/69 [..............................] - ETA: 0s - loss: 0.4702 - accuracy: 0.7815\n",
            "Epoch 72: val_accuracy did not improve from 0.80633\n",
            "69/69 [==============================] - 295s 4s/sample - loss: 0.4702 - accuracy: 0.7815 - val_loss: 0.4403 - val_accuracy: 0.8042 - lr: 1.0000e-04\n"
          ]
        },
        {
          "name": "stderr",
          "output_type": "stream",
          "text": [
            "[2023-03-28 23:10:23,332] INFO: Learning rate: 0.000100\n"
          ]
        },
        {
          "name": "stdout",
          "output_type": "stream",
          "text": [
            "Epoch 73/100\n",
            " 0/69 [..............................] - ETA: 0s - loss: 0.4701 - accuracy: 0.7826\n",
            "Epoch 73: val_accuracy did not improve from 0.80633\n",
            "69/69 [==============================] - 277s 4s/sample - loss: 0.4701 - accuracy: 0.7826 - val_loss: 0.4398 - val_accuracy: 0.8050 - lr: 1.0000e-04\n"
          ]
        },
        {
          "name": "stderr",
          "output_type": "stream",
          "text": [
            "[2023-03-28 23:15:00,754] INFO: Learning rate: 0.000100\n"
          ]
        },
        {
          "name": "stdout",
          "output_type": "stream",
          "text": [
            "Epoch 74/100\n",
            " 0/69 [..............................] - ETA: 0s - loss: 0.4700 - accuracy: 0.7828\n",
            "Epoch 74: val_accuracy did not improve from 0.80633\n",
            "69/69 [==============================] - 271s 4s/sample - loss: 0.4700 - accuracy: 0.7828 - val_loss: 0.4392 - val_accuracy: 0.8051 - lr: 1.0000e-04\n"
          ]
        },
        {
          "name": "stderr",
          "output_type": "stream",
          "text": [
            "[2023-03-28 23:19:31,432] INFO: Learning rate: 0.000100\n"
          ]
        },
        {
          "name": "stdout",
          "output_type": "stream",
          "text": [
            "Epoch 75/100\n",
            " 0/69 [..............................] - ETA: 0s - loss: 0.4702 - accuracy: 0.7817\n",
            "Epoch 75: val_accuracy did not improve from 0.80633\n",
            "69/69 [==============================] - 274s 4s/sample - loss: 0.4702 - accuracy: 0.7817 - val_loss: 0.4399 - val_accuracy: 0.8046 - lr: 1.0000e-04\n"
          ]
        },
        {
          "name": "stderr",
          "output_type": "stream",
          "text": [
            "[2023-03-28 23:24:05,515] INFO: Learning rate: 0.000100\n"
          ]
        },
        {
          "name": "stdout",
          "output_type": "stream",
          "text": [
            "Epoch 76/100\n",
            " 0/69 [..............................] - ETA: 0s - loss: 0.4699 - accuracy: 0.7822\n",
            "Epoch 76: val_accuracy did not improve from 0.80633\n",
            "69/69 [==============================] - 273s 4s/sample - loss: 0.4699 - accuracy: 0.7822 - val_loss: 0.4392 - val_accuracy: 0.8051 - lr: 1.0000e-04\n"
          ]
        },
        {
          "name": "stderr",
          "output_type": "stream",
          "text": [
            "[2023-03-28 23:28:38,717] INFO: Learning rate: 0.000100\n"
          ]
        },
        {
          "name": "stdout",
          "output_type": "stream",
          "text": [
            "Epoch 77/100\n",
            " 0/69 [..............................] - ETA: 0s - loss: 0.4693 - accuracy: 0.7819\n",
            "Epoch 77: val_accuracy improved from 0.80633 to 0.80640, saving model to model_checkpoints\\particle_net_lite_model.077.h5\n",
            "69/69 [==============================] - 271s 4s/sample - loss: 0.4693 - accuracy: 0.7819 - val_loss: 0.4423 - val_accuracy: 0.8064 - lr: 1.0000e-04\n"
          ]
        },
        {
          "name": "stderr",
          "output_type": "stream",
          "text": [
            "[2023-03-28 23:33:09,349] INFO: Learning rate: 0.000100\n"
          ]
        },
        {
          "name": "stdout",
          "output_type": "stream",
          "text": [
            "Epoch 78/100\n",
            " 0/69 [..............................] - ETA: 0s - loss: 0.4692 - accuracy: 0.7817\n",
            "Epoch 78: val_accuracy did not improve from 0.80640\n",
            "69/69 [==============================] - 290s 4s/sample - loss: 0.4692 - accuracy: 0.7817 - val_loss: 0.4397 - val_accuracy: 0.8059 - lr: 1.0000e-04\n"
          ]
        },
        {
          "name": "stderr",
          "output_type": "stream",
          "text": [
            "[2023-03-28 23:37:59,482] INFO: Learning rate: 0.000100\n"
          ]
        },
        {
          "name": "stdout",
          "output_type": "stream",
          "text": [
            "Epoch 79/100\n",
            " 0/69 [..............................] - ETA: 0s - loss: 0.4689 - accuracy: 0.7822\n",
            "Epoch 79: val_accuracy did not improve from 0.80640\n",
            "69/69 [==============================] - 305s 4s/sample - loss: 0.4689 - accuracy: 0.7822 - val_loss: 0.4393 - val_accuracy: 0.8049 - lr: 1.0000e-04\n"
          ]
        },
        {
          "name": "stderr",
          "output_type": "stream",
          "text": [
            "[2023-03-28 23:43:04,962] INFO: Learning rate: 0.000100\n"
          ]
        },
        {
          "name": "stdout",
          "output_type": "stream",
          "text": [
            "Epoch 80/100\n",
            " 0/69 [..............................] - ETA: 0s - loss: 0.4690 - accuracy: 0.7823\n",
            "Epoch 80: val_accuracy did not improve from 0.80640\n",
            "69/69 [==============================] - 325s 5s/sample - loss: 0.4690 - accuracy: 0.7823 - val_loss: 0.4405 - val_accuracy: 0.8045 - lr: 1.0000e-04\n"
          ]
        },
        {
          "name": "stderr",
          "output_type": "stream",
          "text": [
            "[2023-03-28 23:48:30,010] INFO: Learning rate: 0.000100\n"
          ]
        },
        {
          "name": "stdout",
          "output_type": "stream",
          "text": [
            "Epoch 81/100\n",
            " 0/69 [..............................] - ETA: 0s - loss: 0.4687 - accuracy: 0.7832\n",
            "Epoch 81: val_accuracy improved from 0.80640 to 0.80647, saving model to model_checkpoints\\particle_net_lite_model.081.h5\n",
            "69/69 [==============================] - 315s 5s/sample - loss: 0.4687 - accuracy: 0.7832 - val_loss: 0.4395 - val_accuracy: 0.8065 - lr: 1.0000e-04\n"
          ]
        },
        {
          "name": "stderr",
          "output_type": "stream",
          "text": [
            "[2023-03-28 23:53:45,311] INFO: Learning rate: 0.000100\n"
          ]
        },
        {
          "name": "stdout",
          "output_type": "stream",
          "text": [
            "Epoch 82/100\n",
            " 0/69 [..............................] - ETA: 0s - loss: 0.4686 - accuracy: 0.7821\n",
            "Epoch 82: val_accuracy did not improve from 0.80647\n",
            "69/69 [==============================] - 305s 4s/sample - loss: 0.4686 - accuracy: 0.7821 - val_loss: 0.4396 - val_accuracy: 0.8041 - lr: 1.0000e-04\n"
          ]
        },
        {
          "name": "stderr",
          "output_type": "stream",
          "text": [
            "[2023-03-28 23:58:50,585] INFO: Learning rate: 0.000100\n"
          ]
        },
        {
          "name": "stdout",
          "output_type": "stream",
          "text": [
            "Epoch 83/100\n",
            " 0/69 [..............................] - ETA: 0s - loss: 0.4688 - accuracy: 0.7828\n",
            "Epoch 83: val_accuracy did not improve from 0.80647\n",
            "69/69 [==============================] - 311s 5s/sample - loss: 0.4688 - accuracy: 0.7828 - val_loss: 0.4402 - val_accuracy: 0.8054 - lr: 1.0000e-04\n"
          ]
        },
        {
          "name": "stderr",
          "output_type": "stream",
          "text": [
            "[2023-03-29 00:04:02,081] INFO: Learning rate: 0.000100\n"
          ]
        },
        {
          "name": "stdout",
          "output_type": "stream",
          "text": [
            "Epoch 84/100\n",
            " 0/69 [..............................] - ETA: 0s - loss: 0.4684 - accuracy: 0.7820\n",
            "Epoch 84: val_accuracy improved from 0.80647 to 0.80707, saving model to model_checkpoints\\particle_net_lite_model.084.h5\n",
            "69/69 [==============================] - 312s 5s/sample - loss: 0.4684 - accuracy: 0.7820 - val_loss: 0.4402 - val_accuracy: 0.8071 - lr: 1.0000e-04\n"
          ]
        },
        {
          "name": "stderr",
          "output_type": "stream",
          "text": [
            "[2023-03-29 00:09:13,791] INFO: Learning rate: 0.000100\n"
          ]
        },
        {
          "name": "stdout",
          "output_type": "stream",
          "text": [
            "Epoch 85/100\n",
            " 0/69 [..............................] - ETA: 0s - loss: 0.4682 - accuracy: 0.7827\n",
            "Epoch 85: val_accuracy improved from 0.80707 to 0.80713, saving model to model_checkpoints\\particle_net_lite_model.085.h5\n",
            "69/69 [==============================] - 325s 5s/sample - loss: 0.4682 - accuracy: 0.7827 - val_loss: 0.4409 - val_accuracy: 0.8071 - lr: 1.0000e-04\n"
          ]
        },
        {
          "name": "stderr",
          "output_type": "stream",
          "text": [
            "[2023-03-29 00:14:39,154] INFO: Learning rate: 0.000100\n"
          ]
        },
        {
          "name": "stdout",
          "output_type": "stream",
          "text": [
            "Epoch 86/100\n",
            " 0/69 [..............................] - ETA: 0s - loss: 0.4685 - accuracy: 0.7835\n",
            "Epoch 86: val_accuracy did not improve from 0.80713\n",
            "69/69 [==============================] - 326s 5s/sample - loss: 0.4685 - accuracy: 0.7835 - val_loss: 0.4393 - val_accuracy: 0.8049 - lr: 1.0000e-04\n"
          ]
        },
        {
          "name": "stderr",
          "output_type": "stream",
          "text": [
            "[2023-03-29 00:20:05,018] INFO: Learning rate: 0.000100\n"
          ]
        },
        {
          "name": "stdout",
          "output_type": "stream",
          "text": [
            "Epoch 87/100\n",
            " 0/69 [..............................] - ETA: 0s - loss: 0.4686 - accuracy: 0.7832\n",
            "Epoch 87: val_accuracy did not improve from 0.80713\n",
            "69/69 [==============================] - 320s 5s/sample - loss: 0.4686 - accuracy: 0.7832 - val_loss: 0.4386 - val_accuracy: 0.8055 - lr: 1.0000e-04\n"
          ]
        },
        {
          "name": "stderr",
          "output_type": "stream",
          "text": [
            "[2023-03-29 00:25:25,487] INFO: Learning rate: 0.000100\n"
          ]
        },
        {
          "name": "stdout",
          "output_type": "stream",
          "text": [
            "Epoch 88/100\n",
            " 0/69 [..............................] - ETA: 0s - loss: 0.4678 - accuracy: 0.7831\n",
            "Epoch 88: val_accuracy did not improve from 0.80713\n",
            "69/69 [==============================] - 303s 4s/sample - loss: 0.4678 - accuracy: 0.7831 - val_loss: 0.4383 - val_accuracy: 0.8066 - lr: 1.0000e-04\n"
          ]
        },
        {
          "name": "stderr",
          "output_type": "stream",
          "text": [
            "[2023-03-29 00:30:28,387] INFO: Learning rate: 0.000100\n"
          ]
        },
        {
          "name": "stdout",
          "output_type": "stream",
          "text": [
            "Epoch 89/100\n",
            " 0/69 [..............................] - ETA: 0s - loss: 0.4682 - accuracy: 0.7834\n",
            "Epoch 89: val_accuracy did not improve from 0.80713\n",
            "69/69 [==============================] - 331s 5s/sample - loss: 0.4682 - accuracy: 0.7834 - val_loss: 0.4383 - val_accuracy: 0.8048 - lr: 1.0000e-04\n"
          ]
        },
        {
          "name": "stderr",
          "output_type": "stream",
          "text": [
            "[2023-03-29 00:35:59,118] INFO: Learning rate: 0.000100\n"
          ]
        },
        {
          "name": "stdout",
          "output_type": "stream",
          "text": [
            "Epoch 90/100\n",
            " 0/69 [..............................] - ETA: 0s - loss: 0.4675 - accuracy: 0.7838\n",
            "Epoch 90: val_accuracy did not improve from 0.80713\n",
            "69/69 [==============================] - 332s 5s/sample - loss: 0.4675 - accuracy: 0.7838 - val_loss: 0.4392 - val_accuracy: 0.8055 - lr: 1.0000e-04\n"
          ]
        },
        {
          "name": "stderr",
          "output_type": "stream",
          "text": [
            "[2023-03-29 00:41:31,134] INFO: Learning rate: 0.000100\n"
          ]
        },
        {
          "name": "stdout",
          "output_type": "stream",
          "text": [
            "Epoch 91/100\n",
            " 0/69 [..............................] - ETA: 0s - loss: 0.4676 - accuracy: 0.7825\n",
            "Epoch 91: val_accuracy did not improve from 0.80713\n",
            "69/69 [==============================] - 309s 4s/sample - loss: 0.4676 - accuracy: 0.7825 - val_loss: 0.4411 - val_accuracy: 0.8049 - lr: 1.0000e-04\n"
          ]
        },
        {
          "name": "stderr",
          "output_type": "stream",
          "text": [
            "[2023-03-29 00:46:40,153] INFO: Learning rate: 0.000100\n"
          ]
        },
        {
          "name": "stdout",
          "output_type": "stream",
          "text": [
            "Epoch 92/100\n",
            " 0/69 [..............................] - ETA: 0s - loss: 0.4672 - accuracy: 0.7839\n",
            "Epoch 92: val_accuracy did not improve from 0.80713\n",
            "69/69 [==============================] - 312s 5s/sample - loss: 0.4672 - accuracy: 0.7839 - val_loss: 0.4392 - val_accuracy: 0.8042 - lr: 1.0000e-04\n"
          ]
        },
        {
          "name": "stderr",
          "output_type": "stream",
          "text": [
            "[2023-03-29 00:51:52,418] INFO: Learning rate: 0.000100\n"
          ]
        },
        {
          "name": "stdout",
          "output_type": "stream",
          "text": [
            "Epoch 93/100\n",
            " 0/69 [..............................] - ETA: 0s - loss: 0.4674 - accuracy: 0.7834\n",
            "Epoch 93: val_accuracy did not improve from 0.80713\n",
            "69/69 [==============================] - 277s 4s/sample - loss: 0.4674 - accuracy: 0.7834 - val_loss: 0.4420 - val_accuracy: 0.8055 - lr: 1.0000e-04\n"
          ]
        },
        {
          "name": "stderr",
          "output_type": "stream",
          "text": [
            "[2023-03-29 00:56:29,106] INFO: Learning rate: 0.000100\n"
          ]
        },
        {
          "name": "stdout",
          "output_type": "stream",
          "text": [
            "Epoch 94/100\n",
            " 0/69 [..............................] - ETA: 0s - loss: 0.4673 - accuracy: 0.7833\n",
            "Epoch 94: val_accuracy did not improve from 0.80713\n",
            "69/69 [==============================] - 300s 4s/sample - loss: 0.4673 - accuracy: 0.7833 - val_loss: 0.4387 - val_accuracy: 0.8053 - lr: 1.0000e-04\n"
          ]
        },
        {
          "name": "stderr",
          "output_type": "stream",
          "text": [
            "[2023-03-29 01:01:28,921] INFO: Learning rate: 0.000100\n"
          ]
        },
        {
          "name": "stdout",
          "output_type": "stream",
          "text": [
            "Epoch 95/100\n",
            " 0/69 [..............................] - ETA: 0s - loss: 0.4671 - accuracy: 0.7837\n",
            "Epoch 95: val_accuracy did not improve from 0.80713\n",
            "69/69 [==============================] - 310s 4s/sample - loss: 0.4671 - accuracy: 0.7837 - val_loss: 0.4417 - val_accuracy: 0.8037 - lr: 1.0000e-04\n"
          ]
        },
        {
          "name": "stderr",
          "output_type": "stream",
          "text": [
            "[2023-03-29 01:06:39,303] INFO: Learning rate: 0.000100\n"
          ]
        },
        {
          "name": "stdout",
          "output_type": "stream",
          "text": [
            "Epoch 96/100\n",
            " 0/69 [..............................] - ETA: 0s - loss: 0.4665 - accuracy: 0.7841\n",
            "Epoch 96: val_accuracy did not improve from 0.80713\n",
            "69/69 [==============================] - 324s 5s/sample - loss: 0.4665 - accuracy: 0.7841 - val_loss: 0.4419 - val_accuracy: 0.8025 - lr: 1.0000e-04\n"
          ]
        },
        {
          "name": "stderr",
          "output_type": "stream",
          "text": [
            "[2023-03-29 01:12:03,529] INFO: Learning rate: 0.000100\n"
          ]
        },
        {
          "name": "stdout",
          "output_type": "stream",
          "text": [
            "Epoch 97/100\n",
            " 0/69 [..............................] - ETA: 0s - loss: 0.4668 - accuracy: 0.7835\n",
            "Epoch 97: val_accuracy did not improve from 0.80713\n",
            "69/69 [==============================] - 312s 5s/sample - loss: 0.4668 - accuracy: 0.7835 - val_loss: 0.4395 - val_accuracy: 0.8065 - lr: 1.0000e-04\n"
          ]
        },
        {
          "name": "stderr",
          "output_type": "stream",
          "text": [
            "[2023-03-29 01:17:15,978] INFO: Learning rate: 0.000100\n"
          ]
        },
        {
          "name": "stdout",
          "output_type": "stream",
          "text": [
            "Epoch 98/100\n",
            " 0/69 [..............................] - ETA: 0s - loss: 0.4668 - accuracy: 0.7838\n",
            "Epoch 98: val_accuracy improved from 0.80713 to 0.80767, saving model to model_checkpoints\\particle_net_lite_model.098.h5\n",
            "69/69 [==============================] - 305s 4s/sample - loss: 0.4668 - accuracy: 0.7838 - val_loss: 0.4398 - val_accuracy: 0.8077 - lr: 1.0000e-04\n"
          ]
        },
        {
          "name": "stderr",
          "output_type": "stream",
          "text": [
            "[2023-03-29 01:22:20,658] INFO: Learning rate: 0.000100\n"
          ]
        },
        {
          "name": "stdout",
          "output_type": "stream",
          "text": [
            "Epoch 99/100\n",
            " 0/69 [..............................] - ETA: 0s - loss: 0.4662 - accuracy: 0.7838\n",
            "Epoch 99: val_accuracy did not improve from 0.80767\n",
            "69/69 [==============================] - 294s 4s/sample - loss: 0.4662 - accuracy: 0.7838 - val_loss: 0.4399 - val_accuracy: 0.8047 - lr: 1.0000e-04\n"
          ]
        },
        {
          "name": "stderr",
          "output_type": "stream",
          "text": [
            "[2023-03-29 01:27:14,868] INFO: Learning rate: 0.000100\n"
          ]
        },
        {
          "name": "stdout",
          "output_type": "stream",
          "text": [
            "Epoch 100/100\n",
            " 0/69 [..............................] - ETA: 0s - loss: 0.4664 - accuracy: 0.7836\n",
            "Epoch 100: val_accuracy did not improve from 0.80767\n",
            "69/69 [==============================] - 297s 4s/sample - loss: 0.4664 - accuracy: 0.7836 - val_loss: 0.4400 - val_accuracy: 0.8077 - lr: 1.0000e-04\n"
          ]
        }
      ],
      "source": [
        "history = model.fit(train_dataset, y_train,\n",
        "                    batch_size=batch_size,\n",
        "                    epochs=epochs,\n",
        "                    validation_data=(val_dataset, y_val),\n",
        "                    shuffle=True,\n",
        "                    callbacks=callbacks)"
      ]
    },
    {
      "cell_type": "code",
      "execution_count": 38,
      "id": "5xmdXRQe7hzg",
      "metadata": {
        "ExecuteTime": {
          "start_time": "2022-05-13T12:35:04.093Z"
        },
        "id": "5xmdXRQe7hzg"
      },
      "outputs": [],
      "source": [
        "import json\n",
        "with open(\"particle_net_lite_history.json\", \"w\") as outfile:\n",
        "    outfile.write(str(history.history))"
      ]
    },
    {
      "cell_type": "code",
      "execution_count": 41,
      "id": "7uhNQ7KJ78uS",
      "metadata": {
        "ExecuteTime": {
          "start_time": "2022-05-13T12:35:04.883Z"
        },
        "colab": {
          "base_uri": "https://localhost:8080/",
          "height": 295
        },
        "id": "7uhNQ7KJ78uS",
        "outputId": "2de5b0ab-f544-4abf-8c1b-8fde2ab12628"
      },
      "outputs": [
        {
          "data": {
            "image/png": "[encoded data removed]",
            "text/plain": [
              "<Figure size 720x504 with 1 Axes>"
            ]
          },
          "metadata": {
            "needs_background": "light"
          },
          "output_type": "display_data"
        }
      ],
      "source": [
        "import matplotlib.pyplot as plt\n",
        "\n",
        "# plot training and validation accuracy with blue and orange lines\n",
        "plt.plot(history.history['accuracy'], color='blue', label='Training')\n",
        "plt.plot(history.history['val_accuracy'], color='orange', label='Validation')\n",
        "\n",
        "# set plot title and axis labels with custom font size and weight\n",
        "plt.title('Particle net lite accuracy', fontsize=16, fontweight='bold')\n",
        "plt.xlabel('Epoch', fontsize=14, fontweight='bold')\n",
        "plt.ylabel('Accuracy', fontsize=14, fontweight='bold')\n",
        "\n",
        "# add grid lines and set figure size\n",
        "plt.grid(True)\n",
        "plt.gcf().set_size_inches(10, 7)\n",
        "\n",
        "# add legend with custom font size and weight\n",
        "plt.legend(fontsize=12, loc='lower right')\n",
        "\n",
        "# add text annotation with the final accuracy values of training and validation\n",
        "final_acc_train = round(history.history['accuracy'][-1], 3)\n",
        "final_acc_val = round(history.history['val_accuracy'][-1], 3)\n",
        "plt.text(0.5, 0.2, f'Final accuracy (training): {final_acc_train}\\nFinal accuracy (validation): {final_acc_val}',\n",
        "         fontsize=14, ha='center', va='center', transform=plt.gca().transAxes)\n",
        "\n",
        "# customize x and y axis ticks and tick labels\n",
        "plt.xticks(range(0, len(history.history['accuracy']), 5))\n",
        "plt.yticks([0.4, 0.6, 0.8, 1.0])\n",
        "plt.tick_params(axis='both', which='major', labelsize=12)\n",
        "\n",
        "# show plot\n",
        "plt.show()\n"
      ]
    },
    {
      "cell_type": "code",
      "execution_count": 44,
      "id": "wpvBDg228jRC",
      "metadata": {
        "ExecuteTime": {
          "start_time": "2022-05-13T12:35:05.626Z"
        },
        "colab": {
          "base_uri": "https://localhost:8080/",
          "height": 295
        },
        "id": "wpvBDg228jRC",
        "outputId": "877dcd4e-8daf-4329-b0ce-56f6dfccf8ee"
      },
      "outputs": [
        {
          "data": {
            "image/png": "[encoded data removed]",
            "text/plain": [
              "<Figure size 720x504 with 1 Axes>"
            ]
          },
          "metadata": {
            "needs_background": "light"
          },
          "output_type": "display_data"
        }
      ],
      "source": [
        "import matplotlib.pyplot as plt\n",
        "\n",
        "# plot training and validation loss with blue and orange lines\n",
        "plt.plot(history.history['loss'], color='blue', label='Training')\n",
        "plt.plot(history.history['val_loss'], color='orange', label='Validation')\n",
        "\n",
        "# set plot title and axis labels with custom font size and weight\n",
        "plt.title('Particle net lite loss', fontsize=16, fontweight='bold')\n",
        "plt.xlabel('Epoch', fontsize=14, fontweight='bold')\n",
        "plt.ylabel('Loss', fontsize=14, fontweight='bold')\n",
        "\n",
        "# add grid lines and set figure size\n",
        "plt.grid(True)\n",
        "plt.gcf().set_size_inches(10, 7)\n",
        "\n",
        "# add legend with custom font size and weight\n",
        "plt.legend(fontsize=12, loc='upper right')\n",
        "\n",
        "# add text annotation with the final loss values of training and validation\n",
        "final_loss_train = round(history.history['loss'][-1], 3)\n",
        "final_loss_val = round(history.history['val_loss'][-1], 3)\n",
        "plt.text(0.5, 0.2, f'Final loss (training): {final_loss_train}\\nFinal loss (validation): {final_loss_val}',\n",
        "         fontsize=14, ha='center', va='center', transform=plt.gca().transAxes)\n",
        "\n",
        "# customize x and y axis ticks and tick labels\n",
        "plt.xticks(range(0, len(history.history['loss']), 5))\n",
        "plt.yticks([0.1, 0.2, 0.3, 0.4])\n",
        "plt.tick_params(axis='both', which='major', labelsize=12)\n",
        "\n",
        "# show plot\n",
        "plt.show()\n"
      ]
    },
    {
      "cell_type": "markdown",
      "id": "f0e1957c",
      "metadata": {
        "id": "f0e1957c"
      },
      "source": [
        "### Evaluation"
      ]
    },
    {
      "cell_type": "code",
      "execution_count": 43,
      "id": "xvBcjj238sUa",
      "metadata": {
        "colab": {
          "base_uri": "https://localhost:8080/"
        },
        "id": "xvBcjj238sUa",
        "outputId": "11faa5e4-6a04-4c18-fe2f-815314cf5a30"
      },
      "outputs": [
        {
          "name": "stdout",
          "output_type": "stream",
          "text": [
            "469/469 [==============================] - 11s 24ms/step - loss: 0.4794 - accuracy: 0.7788\n"
          ]
        }
      ],
      "source": [
        "res = model.evaluate(test_dataset, y_test)"
      ]
    },
    {
      "cell_type": "code",
      "execution_count": 45,
      "id": "2B03Jq7985BR",
      "metadata": {
        "colab": {
          "base_uri": "https://localhost:8080/"
        },
        "id": "2B03Jq7985BR",
        "outputId": "7269dcfa-9b72-4bb0-d1d5-95a63a351afa"
      },
      "outputs": [
        {
          "name": "stdout",
          "output_type": "stream",
          "text": [
            "test loss, test acc: [0.479432612657547, 0.7788000106811523]\n"
          ]
        }
      ],
      "source": [
        "print(\"test loss, test acc:\", res)"
      ]
    },
    {
      "attachments": {},
      "cell_type": "markdown",
      "id": "cbbc8fac",
      "metadata": {
        "id": "cbbc8fac"
      },
      "source": [
        "## Finally,\n",
        "\n",
        "We used Tensorflow to create a traditional GNN. When looking at the charts for particle net light, the training loss lowers across epochs, as does the training accuracy, indicating that the model matches the data. Nevertheless, at about the 20th epoch, the validation loss and accuracy become constant, indicating overfitting. The training accuracy is close to 82%, which is consistent with the findings of the work [Jet tagging using particle clouds](https://journals.aps.org/prd/pdf/10.1103/PhysRevD.101.056019). Their percentage is 82.6%. One thing to keep in mind is that training the model for 10000 data samples takes a substantial amount of time."
      ]
    },
    {
      "cell_type": "code",
      "execution_count": null,
      "id": "AYcIdEPOyzGs",
      "metadata": {
        "id": "AYcIdEPOyzGs"
      },
      "outputs": [],
      "source": []
    },
    {
      "cell_type": "code",
      "execution_count": 51,
      "id": "cfeb0d38",
      "metadata": {},
      "outputs": [],
      "source": [
        "train_dict=train_dataset\n"
      ]
    },
    {
      "cell_type": "code",
      "execution_count": 52,
      "id": "a10d93a6",
      "metadata": {},
      "outputs": [
        {
          "name": "stdout",
          "output_type": "stream",
          "text": [
            "Input shapes: {'points': (139, 2), 'features': (139, 4), 'mask': (139, 1)}\n"
          ]
        }
      ],
      "source": [
        "model_type = 'particle_net_lite_static'\n",
        "num_classes = 2\n",
        "input_shapes = {k:train_dict[k].shape[1:] for k in train_dict}\n",
        "\n",
        "if 'lite' in model_type:\n",
        "    model_static = get_particle_net_lite_static(num_classes, input_shapes)\n",
        "else:\n",
        "    model_static = get_particle_net_static(num_classes, input_shapes)\n",
        "\n",
        "print(\"Input shapes:\", input_shapes)"
      ]
    },
    {
      "cell_type": "code",
      "execution_count": 53,
      "id": "0a571fa7",
      "metadata": {},
      "outputs": [],
      "source": [
        "# Training parameters\n",
        "batch_size = 1024 if 'lite' in model_type else 384\n",
        "epochs = 20"
      ]
    },
    {
      "cell_type": "code",
      "execution_count": 54,
      "id": "a6a1272f",
      "metadata": {},
      "outputs": [],
      "source": [
        "def lr_schedule(epoch):\n",
        "    lr = 1e-3\n",
        "    if epoch > 10:\n",
        "        lr *= 0.1\n",
        "    elif epoch > 20:\n",
        "        lr *= 0.01\n",
        "    logging.info('Learning rate: %f'%lr)\n",
        "    return lr"
      ]
    },
    {
      "cell_type": "code",
      "execution_count": 56,
      "id": "da63579e",
      "metadata": {},
      "outputs": [],
      "source": [
        "import tensorflow as tf"
      ]
    },
    {
      "cell_type": "code",
      "execution_count": 57,
      "id": "492300a0",
      "metadata": {},
      "outputs": [
        {
          "name": "stderr",
          "output_type": "stream",
          "text": [
            "[2023-03-29 02:11:16,180] INFO: Learning rate: 0.001000\n"
          ]
        },
        {
          "name": "stdout",
          "output_type": "stream",
          "text": [
            "Model: \"ParticleNet_Lite_Static\"\n",
            "__________________________________________________________________________________________________\n",
            " Layer (type)                   Output Shape         Param #     Connected to                     \n",
            "==================================================================================================\n",
            " mask (InputLayer)              [(None, 139, 1)]     0           []                               \n",
            "                                                                                                  \n",
            " tf.math.not_equal_1 (TFOpLambd  (None, 139, 1)      0           ['mask[0][0]']                   \n",
            " a)                                                                                               \n",
            "                                                                                                  \n",
            " tf.cast_2 (TFOpLambda)         (None, 139, 1)       0           ['tf.math.not_equal_1[0][0]']    \n",
            "                                                                                                  \n",
            " tf.math.equal_1 (TFOpLambda)   (None, 139, 1)       0           ['tf.cast_2[0][0]']              \n",
            "                                                                                                  \n",
            " tf.cast_3 (TFOpLambda)         (None, 139, 1)       0           ['tf.math.equal_1[0][0]']        \n",
            "                                                                                                  \n",
            " tf.math.multiply_8 (TFOpLambda  (None, 139, 1)      0           ['tf.cast_3[0][0]']              \n",
            " )                                                                                                \n",
            "                                                                                                  \n",
            " points (InputLayer)            [(None, 139, 2)]     0           []                               \n",
            "                                                                                                  \n",
            " tf.math.add_2 (TFOpLambda)     (None, 139, 2)       0           ['tf.math.multiply_8[0][0]',     \n",
            "                                                                  'points[0][0]']                 \n",
            "                                                                                                  \n",
            " features (InputLayer)          [(None, 139, 4)]     0           []                               \n",
            "                                                                                                  \n",
            " tf.compat.v1.transpose_4 (TFOp  (None, 2, 139)      0           ['tf.math.add_2[0][0]']          \n",
            " Lambda)                                                                                          \n",
            "                                                                                                  \n",
            " tf.expand_dims_7 (TFOpLambda)  (None, 139, 1, 4)    0           ['features[0][0]']               \n",
            "                                                                                                  \n",
            " tf.math.multiply_9 (TFOpLambda  (None, 139, 2)      0           ['tf.math.add_2[0][0]',          \n",
            " )                                                                'tf.math.add_2[0][0]']          \n",
            "                                                                                                  \n",
            " tf.linalg.matmul_2 (TFOpLambda  (None, 139, 139)    0           ['tf.math.add_2[0][0]',          \n",
            " )                                                                'tf.compat.v1.transpose_4[0][0]'\n",
            "                                                                 ]                                \n",
            "                                                                                                  \n",
            " tf.math.multiply_10 (TFOpLambd  (None, 139, 2)      0           ['tf.math.add_2[0][0]',          \n",
            " a)                                                               'tf.math.add_2[0][0]']          \n",
            "                                                                                                  \n",
            " ParticleNet_fts_bn (BatchNorma  (None, 139, 1, 4)   16          ['tf.expand_dims_7[0][0]']       \n",
            " lization)                                                                                        \n",
            "                                                                                                  \n",
            " tf.math.reduce_sum_4 (TFOpLamb  (None, 139, 1)      0           ['tf.math.multiply_9[0][0]']     \n",
            " da)                                                                                              \n",
            "                                                                                                  \n",
            " tf.math.multiply_11 (TFOpLambd  (None, 139, 139)    0           ['tf.linalg.matmul_2[0][0]']     \n",
            " a)                                                                                               \n",
            "                                                                                                  \n",
            " tf.math.reduce_sum_5 (TFOpLamb  (None, 139, 1)      0           ['tf.math.multiply_10[0][0]']    \n",
            " da)                                                                                              \n",
            "                                                                                                  \n",
            " tf.compat.v1.squeeze_3 (TFOpLa  (None, 139, 4)      0           ['ParticleNet_fts_bn[0][0]']     \n",
            " mbda)                                                                                            \n",
            "                                                                                                  \n",
            " tf.math.subtract_4 (TFOpLambda  (None, 139, 139)    0           ['tf.math.reduce_sum_4[0][0]',   \n",
            " )                                                                'tf.math.multiply_11[0][0]']    \n",
            "                                                                                                  \n",
            " tf.compat.v1.transpose_5 (TFOp  (None, 1, 139)      0           ['tf.math.reduce_sum_5[0][0]']   \n",
            " Lambda)                                                                                          \n",
            "                                                                                                  \n",
            " tf.compat.v1.shape_2 (TFOpLamb  (3,)                0           ['tf.compat.v1.squeeze_3[0][0]'] \n",
            " da)                                                                                              \n",
            "                                                                                                  \n",
            " tf.__operators__.add_4 (TFOpLa  (None, 139, 139)    0           ['tf.math.subtract_4[0][0]',     \n",
            " mbda)                                                            'tf.compat.v1.transpose_5[0][0]'\n",
            "                                                                 ]                                \n",
            "                                                                                                  \n",
            " tf.__operators__.getitem_5 (Sl  ()                  0           ['tf.compat.v1.shape_2[0][0]']   \n",
            " icingOpLambda)                                                                                   \n",
            "                                                                                                  \n",
            " tf.math.negative_2 (TFOpLambda  (None, 139, 139)    0           ['tf.__operators__.add_4[0][0]'] \n",
            " )                                                                                                \n",
            "                                                                                                  \n",
            " tf.range_2 (TFOpLambda)        (None,)              0           ['tf.__operators__.getitem_5[0][0\n",
            "                                                                 ]']                              \n",
            "                                                                                                  \n",
            " tf.math.top_k_2 (TFOpLambda)   TopKV2(values=(None  0           ['tf.math.negative_2[0][0]']     \n",
            "                                , 139, 8),                                                        \n",
            "                                 indices=(None, 139                                               \n",
            "                                , 8))                                                             \n",
            "                                                                                                  \n",
            " tf.reshape_2 (TFOpLambda)      (None, 1, 1, 1)      0           ['tf.range_2[0][0]']             \n",
            "                                                                                                  \n",
            " tf.__operators__.getitem_4 (Sl  (None, 139, 7)      0           ['tf.math.top_k_2[0][1]']        \n",
            " icingOpLambda)                                                                                   \n",
            "                                                                                                  \n",
            " tf.tile_4 (TFOpLambda)         (None, 139, 7, 1)    0           ['tf.reshape_2[0][0]']           \n",
            "                                                                                                  \n",
            " tf.expand_dims_8 (TFOpLambda)  (None, 139, 7, 1)    0           ['tf.__operators__.getitem_4[0][0\n",
            "                                                                 ]']                              \n",
            "                                                                                                  \n",
            " tf.expand_dims_9 (TFOpLambda)  (None, 139, 1, 4)    0           ['tf.compat.v1.squeeze_3[0][0]'] \n",
            "                                                                                                  \n",
            " tf.concat_4 (TFOpLambda)       (None, 139, 7, 2)    0           ['tf.tile_4[0][0]',              \n",
            "                                                                  'tf.expand_dims_8[0][0]']       \n",
            "                                                                                                  \n",
            " tf.tile_5 (TFOpLambda)         (None, 139, 7, 4)    0           ['tf.expand_dims_9[0][0]']       \n",
            "                                                                                                  \n",
            " tf.compat.v1.gather_nd_2 (TFOp  (None, 139, 7, 4)   0           ['tf.compat.v1.squeeze_3[0][0]', \n",
            " Lambda)                                                          'tf.concat_4[0][0]']            \n",
            "                                                                                                  \n",
            " tf.math.subtract_5 (TFOpLambda  (None, 139, 7, 4)   0           ['tf.compat.v1.gather_nd_2[0][0]'\n",
            " )                                                               , 'tf.tile_5[0][0]']             \n",
            "                                                                                                  \n",
            " tf.concat_5 (TFOpLambda)       (None, 139, 7, 8)    0           ['tf.tile_5[0][0]',              \n",
            "                                                                  'tf.math.subtract_5[0][0]']     \n",
            "                                                                                                  \n",
            " ParticleNet_EdgeConv0_conv0 (C  (None, 139, 7, 32)  256         ['tf.concat_5[0][0]']            \n",
            " onv2D)                                                                                           \n",
            "                                                                                                  \n",
            " ParticleNet_EdgeConv0_bn0 (Bat  (None, 139, 7, 32)  128         ['ParticleNet_EdgeConv0_conv0[0][\n",
            " chNormalization)                                                0]']                             \n",
            "                                                                                                  \n",
            " ParticleNet_EdgeConv0_act0 (Ac  (None, 139, 7, 32)  0           ['ParticleNet_EdgeConv0_bn0[0][0]\n",
            " tivation)                                                       ']                               \n",
            "                                                                                                  \n",
            " ParticleNet_EdgeConv0_conv1 (C  (None, 139, 7, 32)  1024        ['ParticleNet_EdgeConv0_act0[0][0\n",
            " onv2D)                                                          ]']                              \n",
            "                                                                                                  \n",
            " ParticleNet_EdgeConv0_bn1 (Bat  (None, 139, 7, 32)  128         ['ParticleNet_EdgeConv0_conv1[0][\n",
            " chNormalization)                                                0]']                             \n",
            "                                                                                                  \n",
            " ParticleNet_EdgeConv0_act1 (Ac  (None, 139, 7, 32)  0           ['ParticleNet_EdgeConv0_bn1[0][0]\n",
            " tivation)                                                       ']                               \n",
            "                                                                                                  \n",
            " tf.expand_dims_10 (TFOpLambda)  (None, 139, 1, 4)   0           ['tf.compat.v1.squeeze_3[0][0]'] \n",
            "                                                                                                  \n",
            " ParticleNet_EdgeConv0_conv2 (C  (None, 139, 7, 32)  1024        ['ParticleNet_EdgeConv0_act1[0][0\n",
            " onv2D)                                                          ]']                              \n",
            "                                                                                                  \n",
            " ParticleNet_EdgeConv0_sc_conv   (None, 139, 1, 32)  128         ['tf.expand_dims_10[0][0]']      \n",
            " (Conv2D)                                                                                         \n",
            "                                                                                                  \n",
            " ParticleNet_EdgeConv0_bn2 (Bat  (None, 139, 7, 32)  128         ['ParticleNet_EdgeConv0_conv2[0][\n",
            " chNormalization)                                                0]']                             \n",
            "                                                                                                  \n",
            " ParticleNet_EdgeConv0_sc_bn (B  (None, 139, 1, 32)  128         ['ParticleNet_EdgeConv0_sc_conv[0\n",
            " atchNormalization)                                              ][0]']                           \n",
            "                                                                                                  \n",
            " ParticleNet_EdgeConv0_act2 (Ac  (None, 139, 7, 32)  0           ['ParticleNet_EdgeConv0_bn2[0][0]\n",
            " tivation)                                                       ']                               \n",
            "                                                                                                  \n",
            " tf.compat.v1.squeeze_4 (TFOpLa  (None, 139, 32)     0           ['ParticleNet_EdgeConv0_sc_bn[0][\n",
            " mbda)                                                           0]']                             \n",
            "                                                                                                  \n",
            " tf.math.reduce_mean_3 (TFOpLam  (None, 139, 32)     0           ['ParticleNet_EdgeConv0_act2[0][0\n",
            " bda)                                                            ]']                              \n",
            "                                                                                                  \n",
            " tf.__operators__.add_5 (TFOpLa  (None, 139, 32)     0           ['tf.compat.v1.squeeze_4[0][0]', \n",
            " mbda)                                                            'tf.math.reduce_mean_3[0][0]']  \n",
            "                                                                                                  \n",
            " ParticleNet_EdgeConv0_sc_act (  (None, 139, 32)     0           ['tf.__operators__.add_5[0][0]'] \n",
            " Activation)                                                                                      \n",
            "                                                                                                  \n",
            " tf.compat.v1.shape_3 (TFOpLamb  (3,)                0           ['ParticleNet_EdgeConv0_sc_act[0]\n",
            " da)                                                             [0]']                            \n",
            "                                                                                                  \n",
            " tf.__operators__.getitem_6 (Sl  ()                  0           ['tf.compat.v1.shape_3[0][0]']   \n",
            " icingOpLambda)                                                                                   \n",
            "                                                                                                  \n",
            " tf.range_3 (TFOpLambda)        (None,)              0           ['tf.__operators__.getitem_6[0][0\n",
            "                                                                 ]']                              \n",
            "                                                                                                  \n",
            " tf.reshape_3 (TFOpLambda)      (None, 1, 1, 1)      0           ['tf.range_3[0][0]']             \n",
            "                                                                                                  \n",
            " tf.tile_6 (TFOpLambda)         (None, 139, 7, 1)    0           ['tf.reshape_3[0][0]']           \n",
            "                                                                                                  \n",
            " tf.expand_dims_11 (TFOpLambda)  (None, 139, 7, 1)   0           ['tf.__operators__.getitem_4[0][0\n",
            "                                                                 ]']                              \n",
            "                                                                                                  \n",
            " tf.expand_dims_12 (TFOpLambda)  (None, 139, 1, 32)  0           ['ParticleNet_EdgeConv0_sc_act[0]\n",
            "                                                                 [0]']                            \n",
            "                                                                                                  \n",
            " tf.concat_6 (TFOpLambda)       (None, 139, 7, 2)    0           ['tf.tile_6[0][0]',              \n",
            "                                                                  'tf.expand_dims_11[0][0]']      \n",
            "                                                                                                  \n",
            " tf.tile_7 (TFOpLambda)         (None, 139, 7, 32)   0           ['tf.expand_dims_12[0][0]']      \n",
            "                                                                                                  \n",
            " tf.compat.v1.gather_nd_3 (TFOp  (None, 139, 7, 32)  0           ['ParticleNet_EdgeConv0_sc_act[0]\n",
            " Lambda)                                                         [0]',                            \n",
            "                                                                  'tf.concat_6[0][0]']            \n",
            "                                                                                                  \n",
            " tf.math.subtract_6 (TFOpLambda  (None, 139, 7, 32)  0           ['tf.compat.v1.gather_nd_3[0][0]'\n",
            " )                                                               , 'tf.tile_7[0][0]']             \n",
            "                                                                                                  \n",
            " tf.concat_7 (TFOpLambda)       (None, 139, 7, 64)   0           ['tf.tile_7[0][0]',              \n",
            "                                                                  'tf.math.subtract_6[0][0]']     \n",
            "                                                                                                  \n",
            " ParticleNet_EdgeConv1_conv0 (C  (None, 139, 7, 64)  4096        ['tf.concat_7[0][0]']            \n",
            " onv2D)                                                                                           \n",
            "                                                                                                  \n",
            " ParticleNet_EdgeConv1_bn0 (Bat  (None, 139, 7, 64)  256         ['ParticleNet_EdgeConv1_conv0[0][\n",
            " chNormalization)                                                0]']                             \n",
            "                                                                                                  \n",
            " ParticleNet_EdgeConv1_act0 (Ac  (None, 139, 7, 64)  0           ['ParticleNet_EdgeConv1_bn0[0][0]\n",
            " tivation)                                                       ']                               \n",
            "                                                                                                  \n",
            " ParticleNet_EdgeConv1_conv1 (C  (None, 139, 7, 64)  4096        ['ParticleNet_EdgeConv1_act0[0][0\n",
            " onv2D)                                                          ]']                              \n",
            "                                                                                                  \n",
            " ParticleNet_EdgeConv1_bn1 (Bat  (None, 139, 7, 64)  256         ['ParticleNet_EdgeConv1_conv1[0][\n",
            " chNormalization)                                                0]']                             \n",
            "                                                                                                  \n",
            " ParticleNet_EdgeConv1_act1 (Ac  (None, 139, 7, 64)  0           ['ParticleNet_EdgeConv1_bn1[0][0]\n",
            " tivation)                                                       ']                               \n",
            "                                                                                                  \n",
            " tf.expand_dims_13 (TFOpLambda)  (None, 139, 1, 32)  0           ['ParticleNet_EdgeConv0_sc_act[0]\n",
            "                                                                 [0]']                            \n",
            "                                                                                                  \n",
            " ParticleNet_EdgeConv1_conv2 (C  (None, 139, 7, 64)  4096        ['ParticleNet_EdgeConv1_act1[0][0\n",
            " onv2D)                                                          ]']                              \n",
            "                                                                                                  \n",
            " ParticleNet_EdgeConv1_sc_conv   (None, 139, 1, 64)  2048        ['tf.expand_dims_13[0][0]']      \n",
            " (Conv2D)                                                                                         \n",
            "                                                                                                  \n",
            " ParticleNet_EdgeConv1_bn2 (Bat  (None, 139, 7, 64)  256         ['ParticleNet_EdgeConv1_conv2[0][\n",
            " chNormalization)                                                0]']                             \n",
            "                                                                                                  \n",
            " ParticleNet_EdgeConv1_sc_bn (B  (None, 139, 1, 64)  256         ['ParticleNet_EdgeConv1_sc_conv[0\n",
            " atchNormalization)                                              ][0]']                           \n",
            "                                                                                                  \n",
            " ParticleNet_EdgeConv1_act2 (Ac  (None, 139, 7, 64)  0           ['ParticleNet_EdgeConv1_bn2[0][0]\n",
            " tivation)                                                       ']                               \n",
            "                                                                                                  \n",
            " tf.compat.v1.squeeze_5 (TFOpLa  (None, 139, 64)     0           ['ParticleNet_EdgeConv1_sc_bn[0][\n",
            " mbda)                                                           0]']                             \n",
            "                                                                                                  \n",
            " tf.math.reduce_mean_4 (TFOpLam  (None, 139, 64)     0           ['ParticleNet_EdgeConv1_act2[0][0\n",
            " bda)                                                            ]']                              \n",
            "                                                                                                  \n",
            " tf.__operators__.add_6 (TFOpLa  (None, 139, 64)     0           ['tf.compat.v1.squeeze_5[0][0]', \n",
            " mbda)                                                            'tf.math.reduce_mean_4[0][0]']  \n",
            "                                                                                                  \n",
            " ParticleNet_EdgeConv1_sc_act (  (None, 139, 64)     0           ['tf.__operators__.add_6[0][0]'] \n",
            " Activation)                                                                                      \n",
            "                                                                                                  \n",
            " tf.math.multiply_12 (TFOpLambd  (None, 139, 64)     0           ['ParticleNet_EdgeConv1_sc_act[0]\n",
            " a)                                                              [0]',                            \n",
            "                                                                  'tf.cast_2[0][0]']              \n",
            "                                                                                                  \n",
            " tf.math.reduce_mean_5 (TFOpLam  (None, 64)          0           ['tf.math.multiply_12[0][0]']    \n",
            " bda)                                                                                             \n",
            "                                                                                                  \n",
            " dense_2 (Dense)                (None, 128)          8320        ['tf.math.reduce_mean_5[0][0]']  \n",
            "                                                                                                  \n",
            " dropout_1 (Dropout)            (None, 128)          0           ['dense_2[0][0]']                \n",
            "                                                                                                  \n",
            " dense_3 (Dense)                (None, 2)            258         ['dropout_1[0][0]']              \n",
            "                                                                                                  \n",
            "==================================================================================================\n",
            "Total params: 26,898\n",
            "Trainable params: 26,122\n",
            "Non-trainable params: 776\n",
            "__________________________________________________________________________________________________\n"
          ]
        }
      ],
      "source": [
        "model_static.compile(loss='categorical_crossentropy',\n",
        "              optimizer=keras.optimizers.Adam(learning_rate=lr_schedule(0)),\n",
        "              metrics=['accuracy', tf.keras.metrics.AUC()])\n",
        "model_static.summary()"
      ]
    },
    {
      "cell_type": "code",
      "execution_count": 58,
      "id": "2e333542",
      "metadata": {},
      "outputs": [],
      "source": [
        "lr_scheduler = keras.callbacks.LearningRateScheduler(lr_schedule)\n",
        "progress_bar = keras.callbacks.ProgbarLogger()\n",
        "callbacks = [lr_scheduler, progress_bar]"
      ]
    },
    {
      "cell_type": "code",
      "execution_count": 61,
      "id": "837c7647",
      "metadata": {},
      "outputs": [
        {
          "name": "stderr",
          "output_type": "stream",
          "text": [
            "[2023-03-29 02:13:00,555] INFO: Learning rate: 0.001000\n"
          ]
        },
        {
          "name": "stdout",
          "output_type": "stream",
          "text": [
            "Epoch 1/20\n",
            "69/69 [==============================] - 326s 5s/sample - loss: 0.5436 - accuracy: 0.7269 - auc: 0.7988 - val_loss: 0.7886 - val_accuracy: 0.5072 - val_auc: 0.6717 - lr: 0.0010\n"
          ]
        },
        {
          "name": "stderr",
          "output_type": "stream",
          "text": [
            "[2023-03-29 02:18:26,788] INFO: Learning rate: 0.001000\n"
          ]
        },
        {
          "name": "stdout",
          "output_type": "stream",
          "text": [
            "Epoch 2/20\n",
            "69/69 [==============================] - 298s 4s/sample - loss: 0.5149 - accuracy: 0.7459 - auc: 0.8245 - val_loss: 0.6003 - val_accuracy: 0.6574 - val_auc: 0.7477 - lr: 0.0010\n"
          ]
        },
        {
          "name": "stderr",
          "output_type": "stream",
          "text": [
            "[2023-03-29 02:23:24,594] INFO: Learning rate: 0.001000\n"
          ]
        },
        {
          "name": "stdout",
          "output_type": "stream",
          "text": [
            "Epoch 3/20\n",
            "69/69 [==============================] - 281s 4s/sample - loss: 0.5067 - accuracy: 0.7549 - auc: 0.8315 - val_loss: 0.5402 - val_accuracy: 0.7164 - val_auc: 0.8020 - lr: 0.0010\n"
          ]
        },
        {
          "name": "stderr",
          "output_type": "stream",
          "text": [
            "[2023-03-29 02:28:05,752] INFO: Learning rate: 0.001000\n"
          ]
        },
        {
          "name": "stdout",
          "output_type": "stream",
          "text": [
            "Epoch 4/20\n",
            "69/69 [==============================] - 284s 4s/sample - loss: 0.5014 - accuracy: 0.7596 - auc: 0.8358 - val_loss: 0.4865 - val_accuracy: 0.7701 - val_auc: 0.8470 - lr: 0.0010\n"
          ]
        },
        {
          "name": "stderr",
          "output_type": "stream",
          "text": [
            "[2023-03-29 02:32:49,330] INFO: Learning rate: 0.001000\n"
          ]
        },
        {
          "name": "stdout",
          "output_type": "stream",
          "text": [
            "Epoch 5/20\n",
            "69/69 [==============================] - 285s 4s/sample - loss: 0.4977 - accuracy: 0.7638 - auc: 0.8390 - val_loss: 0.4606 - val_accuracy: 0.7935 - val_auc: 0.8658 - lr: 0.0010\n"
          ]
        },
        {
          "name": "stderr",
          "output_type": "stream",
          "text": [
            "[2023-03-29 02:37:34,761] INFO: Learning rate: 0.001000\n"
          ]
        },
        {
          "name": "stdout",
          "output_type": "stream",
          "text": [
            "Epoch 6/20\n",
            "69/69 [==============================] - 290s 4s/sample - loss: 0.4935 - accuracy: 0.7671 - auc: 0.8419 - val_loss: 0.4619 - val_accuracy: 0.7907 - val_auc: 0.8645 - lr: 0.0010\n"
          ]
        },
        {
          "name": "stderr",
          "output_type": "stream",
          "text": [
            "[2023-03-29 02:42:24,775] INFO: Learning rate: 0.001000\n"
          ]
        },
        {
          "name": "stdout",
          "output_type": "stream",
          "text": [
            "Epoch 7/20\n",
            "69/69 [==============================] - 289s 4s/sample - loss: 0.4903 - accuracy: 0.7691 - auc: 0.8442 - val_loss: 0.4600 - val_accuracy: 0.7977 - val_auc: 0.8676 - lr: 0.0010\n"
          ]
        },
        {
          "name": "stderr",
          "output_type": "stream",
          "text": [
            "[2023-03-29 02:47:13,339] INFO: Learning rate: 0.001000\n"
          ]
        },
        {
          "name": "stdout",
          "output_type": "stream",
          "text": [
            "Epoch 8/20\n",
            "69/69 [==============================] - 288s 4s/sample - loss: 0.4898 - accuracy: 0.7702 - auc: 0.8445 - val_loss: 0.4485 - val_accuracy: 0.8042 - val_auc: 0.8732 - lr: 0.0010\n"
          ]
        },
        {
          "name": "stderr",
          "output_type": "stream",
          "text": [
            "[2023-03-29 02:52:01,356] INFO: Learning rate: 0.001000\n"
          ]
        },
        {
          "name": "stdout",
          "output_type": "stream",
          "text": [
            "Epoch 9/20\n",
            "69/69 [==============================] - 286s 4s/sample - loss: 0.4867 - accuracy: 0.7722 - auc: 0.8466 - val_loss: 0.4484 - val_accuracy: 0.8021 - val_auc: 0.8737 - lr: 0.0010\n"
          ]
        },
        {
          "name": "stderr",
          "output_type": "stream",
          "text": [
            "[2023-03-29 02:56:47,440] INFO: Learning rate: 0.001000\n"
          ]
        },
        {
          "name": "stdout",
          "output_type": "stream",
          "text": [
            "Epoch 10/20\n",
            "69/69 [==============================] - 291s 4s/sample - loss: 0.4863 - accuracy: 0.7720 - auc: 0.8469 - val_loss: 0.4453 - val_accuracy: 0.8054 - val_auc: 0.8757 - lr: 0.0010\n"
          ]
        },
        {
          "name": "stderr",
          "output_type": "stream",
          "text": [
            "[2023-03-29 03:01:38,603] INFO: Learning rate: 0.001000\n"
          ]
        },
        {
          "name": "stdout",
          "output_type": "stream",
          "text": [
            "Epoch 11/20\n",
            "69/69 [==============================] - 287s 4s/sample - loss: 0.4834 - accuracy: 0.7728 - auc: 0.8489 - val_loss: 0.4402 - val_accuracy: 0.8087 - val_auc: 0.8786 - lr: 0.0010\n"
          ]
        },
        {
          "name": "stderr",
          "output_type": "stream",
          "text": [
            "[2023-03-29 03:06:25,492] INFO: Learning rate: 0.000100\n"
          ]
        },
        {
          "name": "stdout",
          "output_type": "stream",
          "text": [
            "Epoch 12/20\n",
            "69/69 [==============================] - 292s 4s/sample - loss: 0.4798 - accuracy: 0.7760 - auc: 0.8516 - val_loss: 0.4417 - val_accuracy: 0.8055 - val_auc: 0.8771 - lr: 1.0000e-04\n"
          ]
        },
        {
          "name": "stderr",
          "output_type": "stream",
          "text": [
            "[2023-03-29 03:11:17,898] INFO: Learning rate: 0.000100\n"
          ]
        },
        {
          "name": "stdout",
          "output_type": "stream",
          "text": [
            "Epoch 13/20\n",
            "69/69 [==============================] - 294s 4s/sample - loss: 0.4784 - accuracy: 0.7762 - auc: 0.8523 - val_loss: 0.4387 - val_accuracy: 0.8068 - val_auc: 0.8788 - lr: 1.0000e-04\n"
          ]
        },
        {
          "name": "stderr",
          "output_type": "stream",
          "text": [
            "[2023-03-29 03:16:11,578] INFO: Learning rate: 0.000100\n"
          ]
        },
        {
          "name": "stdout",
          "output_type": "stream",
          "text": [
            "Epoch 14/20\n",
            "69/69 [==============================] - 291s 4s/sample - loss: 0.4782 - accuracy: 0.7766 - auc: 0.8525 - val_loss: 0.4381 - val_accuracy: 0.8080 - val_auc: 0.8792 - lr: 1.0000e-04\n"
          ]
        },
        {
          "name": "stderr",
          "output_type": "stream",
          "text": [
            "[2023-03-29 03:21:02,233] INFO: Learning rate: 0.000100\n"
          ]
        },
        {
          "name": "stdout",
          "output_type": "stream",
          "text": [
            "Epoch 15/20\n",
            "69/69 [==============================] - 312s 5s/sample - loss: 0.4779 - accuracy: 0.7759 - auc: 0.8527 - val_loss: 0.4375 - val_accuracy: 0.8080 - val_auc: 0.8795 - lr: 1.0000e-04\n"
          ]
        },
        {
          "name": "stderr",
          "output_type": "stream",
          "text": [
            "[2023-03-29 03:26:14,501] INFO: Learning rate: 0.000100\n"
          ]
        },
        {
          "name": "stdout",
          "output_type": "stream",
          "text": [
            "Epoch 16/20\n",
            "69/69 [==============================] - 289s 4s/sample - loss: 0.4780 - accuracy: 0.7764 - auc: 0.8527 - val_loss: 0.4369 - val_accuracy: 0.8087 - val_auc: 0.8799 - lr: 1.0000e-04\n"
          ]
        },
        {
          "name": "stderr",
          "output_type": "stream",
          "text": [
            "[2023-03-29 03:31:03,411] INFO: Learning rate: 0.000100\n"
          ]
        },
        {
          "name": "stdout",
          "output_type": "stream",
          "text": [
            "Epoch 17/20\n",
            "69/69 [==============================] - 290s 4s/sample - loss: 0.4775 - accuracy: 0.7771 - auc: 0.8530 - val_loss: 0.4384 - val_accuracy: 0.8073 - val_auc: 0.8789 - lr: 1.0000e-04\n"
          ]
        },
        {
          "name": "stderr",
          "output_type": "stream",
          "text": [
            "[2023-03-29 03:35:53,434] INFO: Learning rate: 0.000100\n"
          ]
        },
        {
          "name": "stdout",
          "output_type": "stream",
          "text": [
            "Epoch 18/20\n",
            "69/69 [==============================] - 326s 5s/sample - loss: 0.4773 - accuracy: 0.7769 - auc: 0.8531 - val_loss: 0.4414 - val_accuracy: 0.8039 - val_auc: 0.8773 - lr: 1.0000e-04\n"
          ]
        },
        {
          "name": "stderr",
          "output_type": "stream",
          "text": [
            "[2023-03-29 03:41:19,320] INFO: Learning rate: 0.000100\n"
          ]
        },
        {
          "name": "stdout",
          "output_type": "stream",
          "text": [
            "Epoch 19/20\n",
            "69/69 [==============================] - 332s 5s/sample - loss: 0.4771 - accuracy: 0.7768 - auc: 0.8533 - val_loss: 0.4362 - val_accuracy: 0.8091 - val_auc: 0.8803 - lr: 1.0000e-04\n"
          ]
        },
        {
          "name": "stderr",
          "output_type": "stream",
          "text": [
            "[2023-03-29 03:46:51,753] INFO: Learning rate: 0.000100\n"
          ]
        },
        {
          "name": "stdout",
          "output_type": "stream",
          "text": [
            "Epoch 20/20\n",
            "69/69 [==============================] - 333s 5s/sample - loss: 0.4769 - accuracy: 0.7776 - auc: 0.8534 - val_loss: 0.4364 - val_accuracy: 0.8095 - val_auc: 0.8803 - lr: 1.0000e-04\n"
          ]
        }
      ],
      "source": [
        "history_sgcnn = model_static.fit(train_dict, y_train,\n",
        "          batch_size=batch_size,\n",
        "          epochs=epochs,\n",
        "          validation_data=(val_dataset, y_val),\n",
        "          shuffle=True,\n",
        "          callbacks=callbacks)"
      ]
    },
    {
      "cell_type": "code",
      "execution_count": null,
      "id": "15578c25",
      "metadata": {},
      "outputs": [],
      "source": []
    }
  ],
  "metadata": {
    "accelerator": "GPU",
    "colab": {
      "provenance": []
    },
    "kernelspec": {
      "display_name": "Python 3 (ipykernel)",
      "language": "python",
      "name": "python3"
    },
    "language_info": {
      "codemirror_mode": {
        "name": "ipython",
        "version": 3
      },
      "file_extension": ".py",
      "mimetype": "text/x-python",
      "name": "python",
      "nbconvert_exporter": "python",
      "pygments_lexer": "ipython3",
      "version": "3.9.7"
    },
    "latex_envs": {
      "LaTeX_envs_menu_present": true,
      "autoclose": false,
      "autocomplete": true,
      "bibliofile": "biblio.bib",
      "cite_by": "apalike",
      "current_citInitial": 1,
      "eqLabelWithNumbers": true,
      "eqNumInitial": 1,
      "hotkeys": {
        "equation": "Ctrl-E",
        "itemize": "Ctrl-I"
      },
      "labels_anchors": false,
      "latex_user_defs": false,
      "report_style_numbering": false,
      "user_envs_cfg": false
    },
    "toc": {
      "base_numbering": 1,
      "nav_menu": {},
      "number_sections": true,
      "sideBar": true,
      "skip_h1_title": false,
      "title_cell": "Table of Contents",
      "title_sidebar": "Contents",
      "toc_cell": false,
      "toc_position": {},
      "toc_section_display": true,
      "toc_window_display": false
    }
  },
  "nbformat": 4,
  "nbformat_minor": 5
}
