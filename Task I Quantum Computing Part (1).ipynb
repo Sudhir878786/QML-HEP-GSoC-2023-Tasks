{
  "cells": [
    {
      "cell_type": "markdown",
      "metadata": {
        "id": "wqN8rpRsH3X4"
      },
      "source": [
        "## Task I: Quantum Computing Part \n",
        "\n",
        "1)  implement a simple quantum operation with Cirq or Pennylane\n",
        "\n",
        "    a) With 5 qubits \n",
        "    \n",
        "    b) Apply Hadamard operation on every qubit \n",
        "    \n",
        "    c) Apply CNOT operation on (0, 1), (1,2), (2,3), (3,4)\n",
        "    \n",
        "    d) SWAP (0, 4) \n",
        "    \n",
        "    e) Rotate X with pi/2 on any qubit \n",
        "    \n",
        "    f) Plot the circuit \n"
      ]
    },
    {
      "cell_type": "code",
      "execution_count": 1,
      "metadata": {
        "colab": {
          "base_uri": "https://localhost:8080/",
          "height": 2762
        },
        "id": "pbWIRoQfm72T",
        "outputId": "c60d976e-e6a4-443d-fccd-6ae79d030f73"
      },
      "outputs": [
        {
          "output_type": "stream",
          "name": "stdout",
          "text": [
            "Looking in indexes: https://pypi.org/simple, https://us-python.pkg.dev/colab-wheels/public/simple/\n",
            "Collecting cirq\n",
            "  Downloading cirq-1.1.0-py3-none-any.whl (7.7 kB)\n",
            "Collecting cirq-google==1.1.0\n",
            "  Downloading cirq_google-1.1.0-py3-none-any.whl (577 kB)\n",
            "\u001b[2K     \u001b[90m━━━━━━━━━━━━━━━━━━━━━━━━━━━━━━━━━━━━━━\u001b[0m \u001b[32m577.4/577.4 KB\u001b[0m \u001b[31m35.8 MB/s\u001b[0m eta \u001b[36m0:00:00\u001b[0m\n",
            "\u001b[?25hCollecting cirq-web==1.1.0\n",
            "  Downloading cirq_web-1.1.0-py3-none-any.whl (594 kB)\n",
            "\u001b[2K     \u001b[90m━━━━━━━━━━━━━━━━━━━━━━━━━━━━━━━━━━━━━━\u001b[0m \u001b[32m594.6/594.6 KB\u001b[0m \u001b[31m49.8 MB/s\u001b[0m eta \u001b[36m0:00:00\u001b[0m\n",
            "\u001b[?25hCollecting cirq-ionq==1.1.0\n",
            "  Downloading cirq_ionq-1.1.0-py3-none-any.whl (57 kB)\n",
            "\u001b[2K     \u001b[90m━━━━━━━━━━━━━━━━━━━━━━━━━━━━━━━━━━━━━━━━\u001b[0m \u001b[32m57.6/57.6 KB\u001b[0m \u001b[31m8.3 MB/s\u001b[0m eta \u001b[36m0:00:00\u001b[0m\n",
            "\u001b[?25hCollecting cirq-aqt==1.1.0\n",
            "  Downloading cirq_aqt-1.1.0-py3-none-any.whl (27 kB)\n",
            "Collecting cirq-pasqal==1.1.0\n",
            "  Downloading cirq_pasqal-1.1.0-py3-none-any.whl (31 kB)\n",
            "Collecting cirq-rigetti==1.1.0\n",
            "  Downloading cirq_rigetti-1.1.0-py3-none-any.whl (66 kB)\n",
            "\u001b[2K     \u001b[90m━━━━━━━━━━━━━━━━━━━━━━━━━━━━━━━━━━━━━━━━\u001b[0m \u001b[32m66.4/66.4 KB\u001b[0m \u001b[31m7.7 MB/s\u001b[0m eta \u001b[36m0:00:00\u001b[0m\n",
            "\u001b[?25hCollecting cirq-core==1.1.0\n",
            "  Downloading cirq_core-1.1.0-py3-none-any.whl (1.8 MB)\n",
            "\u001b[2K     \u001b[90m━━━━━━━━━━━━━━━━━━━━━━━━━━━━━━━━━━━━━━━━\u001b[0m \u001b[32m1.8/1.8 MB\u001b[0m \u001b[31m78.4 MB/s\u001b[0m eta \u001b[36m0:00:00\u001b[0m\n",
            "\u001b[?25hRequirement already satisfied: requests~=2.18 in /usr/local/lib/python3.9/dist-packages (from cirq-aqt==1.1.0->cirq) (2.27.1)\n",
            "Requirement already satisfied: numpy<1.24,>=1.16 in /usr/local/lib/python3.9/dist-packages (from cirq-core==1.1.0->cirq) (1.22.4)\n",
            "Requirement already satisfied: sortedcontainers~=2.0 in /usr/local/lib/python3.9/dist-packages (from cirq-core==1.1.0->cirq) (2.4.0)\n",
            "Requirement already satisfied: sympy in /usr/local/lib/python3.9/dist-packages (from cirq-core==1.1.0->cirq) (1.11.1)\n",
            "Requirement already satisfied: typing-extensions in /usr/local/lib/python3.9/dist-packages (from cirq-core==1.1.0->cirq) (4.5.0)\n",
            "Collecting networkx~=2.4\n",
            "  Downloading networkx-2.8.8-py3-none-any.whl (2.0 MB)\n",
            "\u001b[2K     \u001b[90m━━━━━━━━━━━━━━━━━━━━━━━━━━━━━━━━━━━━━━━━\u001b[0m \u001b[32m2.0/2.0 MB\u001b[0m \u001b[31m78.6 MB/s\u001b[0m eta \u001b[36m0:00:00\u001b[0m\n",
            "\u001b[?25hRequirement already satisfied: scipy in /usr/local/lib/python3.9/dist-packages (from cirq-core==1.1.0->cirq) (1.10.1)\n",
            "Collecting duet~=0.2.7\n",
            "  Downloading duet-0.2.7-py3-none-any.whl (28 kB)\n",
            "Requirement already satisfied: tqdm in /usr/local/lib/python3.9/dist-packages (from cirq-core==1.1.0->cirq) (4.65.0)\n",
            "Requirement already satisfied: matplotlib~=3.0 in /usr/local/lib/python3.9/dist-packages (from cirq-core==1.1.0->cirq) (3.7.1)\n",
            "Requirement already satisfied: pandas in /usr/local/lib/python3.9/dist-packages (from cirq-core==1.1.0->cirq) (1.4.4)\n",
            "Requirement already satisfied: proto-plus>=1.20.0 in /usr/local/lib/python3.9/dist-packages (from cirq-google==1.1.0->cirq) (1.22.2)\n",
            "Requirement already satisfied: protobuf<4,>=3.15.0 in /usr/local/lib/python3.9/dist-packages (from cirq-google==1.1.0->cirq) (3.20.3)\n",
            "Collecting google-api-core[grpc]<2.0.0dev,>=1.14.0\n",
            "  Downloading google_api_core-1.34.0-py3-none-any.whl (120 kB)\n",
            "\u001b[2K     \u001b[90m━━━━━━━━━━━━━━━━━━━━━━━━━━━━━━━━━━━━━━\u001b[0m \u001b[32m120.2/120.2 KB\u001b[0m \u001b[31m18.5 MB/s\u001b[0m eta \u001b[36m0:00:00\u001b[0m\n",
            "\u001b[?25hCollecting pyquil>=3.2.0\n",
            "  Downloading pyquil-3.3.4-py3-none-any.whl (221 kB)\n",
            "\u001b[2K     \u001b[90m━━━━━━━━━━━━━━━━━━━━━━━━━━━━━━━━━━━━━━\u001b[0m \u001b[32m221.6/221.6 KB\u001b[0m \u001b[31m20.4 MB/s\u001b[0m eta \u001b[36m0:00:00\u001b[0m\n",
            "\u001b[?25hRequirement already satisfied: googleapis-common-protos<2.0dev,>=1.56.2 in /usr/local/lib/python3.9/dist-packages (from google-api-core[grpc]<2.0.0dev,>=1.14.0->cirq-google==1.1.0->cirq) (1.59.0)\n",
            "Requirement already satisfied: google-auth<3.0dev,>=1.25.0 in /usr/local/lib/python3.9/dist-packages (from google-api-core[grpc]<2.0.0dev,>=1.14.0->cirq-google==1.1.0->cirq) (2.17.0)\n",
            "Requirement already satisfied: grpcio-status<2.0dev,>=1.33.2 in /usr/local/lib/python3.9/dist-packages (from google-api-core[grpc]<2.0.0dev,>=1.14.0->cirq-google==1.1.0->cirq) (1.48.2)\n",
            "Requirement already satisfied: grpcio<2.0dev,>=1.33.2 in /usr/local/lib/python3.9/dist-packages (from google-api-core[grpc]<2.0.0dev,>=1.14.0->cirq-google==1.1.0->cirq) (1.53.0)\n",
            "Requirement already satisfied: cycler>=0.10 in /usr/local/lib/python3.9/dist-packages (from matplotlib~=3.0->cirq-core==1.1.0->cirq) (0.11.0)\n",
            "Requirement already satisfied: pillow>=6.2.0 in /usr/local/lib/python3.9/dist-packages (from matplotlib~=3.0->cirq-core==1.1.0->cirq) (8.4.0)\n",
            "Requirement already satisfied: importlib-resources>=3.2.0 in /usr/local/lib/python3.9/dist-packages (from matplotlib~=3.0->cirq-core==1.1.0->cirq) (5.12.0)\n",
            "Requirement already satisfied: fonttools>=4.22.0 in /usr/local/lib/python3.9/dist-packages (from matplotlib~=3.0->cirq-core==1.1.0->cirq) (4.39.3)\n",
            "Requirement already satisfied: contourpy>=1.0.1 in /usr/local/lib/python3.9/dist-packages (from matplotlib~=3.0->cirq-core==1.1.0->cirq) (1.0.7)\n",
            "Requirement already satisfied: kiwisolver>=1.0.1 in /usr/local/lib/python3.9/dist-packages (from matplotlib~=3.0->cirq-core==1.1.0->cirq) (1.4.4)\n",
            "Requirement already satisfied: python-dateutil>=2.7 in /usr/local/lib/python3.9/dist-packages (from matplotlib~=3.0->cirq-core==1.1.0->cirq) (2.8.2)\n",
            "Requirement already satisfied: pyparsing>=2.3.1 in /usr/local/lib/python3.9/dist-packages (from matplotlib~=3.0->cirq-core==1.1.0->cirq) (3.0.9)\n",
            "Requirement already satisfied: packaging>=20.0 in /usr/local/lib/python3.9/dist-packages (from matplotlib~=3.0->cirq-core==1.1.0->cirq) (23.0)\n",
            "Collecting types-python-dateutil<3.0.0,>=2.8.19\n",
            "  Downloading types_python_dateutil-2.8.19.11-py3-none-any.whl (9.2 kB)\n",
            "Collecting types-retry<0.10.0,>=0.9.9\n",
            "  Downloading types_retry-0.9.9.3-py3-none-any.whl (2.4 kB)\n",
            "Collecting qcs-api-client<0.22.0,>=0.21.0\n",
            "  Downloading qcs_api_client-0.21.3-py3-none-any.whl (147 kB)\n",
            "\u001b[2K     \u001b[90m━━━━━━━━━━━━━━━━━━━━━━━━━━━━━━━━━━━━━━\u001b[0m \u001b[32m147.4/147.4 KB\u001b[0m \u001b[31m18.1 MB/s\u001b[0m eta \u001b[36m0:00:00\u001b[0m\n",
            "\u001b[?25hCollecting lark<0.12.0,>=0.11.1\n",
            "  Downloading lark-0.11.3.tar.gz (229 kB)\n",
            "\u001b[2K     \u001b[90m━━━━━━━━━━━━━━━━━━━━━━━━━━━━━━━━━━━━━━\u001b[0m \u001b[32m229.9/229.9 KB\u001b[0m \u001b[31m27.7 MB/s\u001b[0m eta \u001b[36m0:00:00\u001b[0m\n",
            "\u001b[?25h  Preparing metadata (setup.py) ... \u001b[?25l\u001b[?25hdone\n",
            "Collecting retry<0.10.0,>=0.9.2\n",
            "  Downloading retry-0.9.2-py2.py3-none-any.whl (8.0 kB)\n",
            "Collecting rpcq<4.0.0,>=3.10.0\n",
            "  Downloading rpcq-3.11.0.tar.gz (45 kB)\n",
            "\u001b[2K     \u001b[90m━━━━━━━━━━━━━━━━━━━━━━━━━━━━━━━━━━━━━━━━\u001b[0m \u001b[32m45.6/45.6 KB\u001b[0m \u001b[31m5.4 MB/s\u001b[0m eta \u001b[36m0:00:00\u001b[0m\n",
            "\u001b[?25h  Preparing metadata (setup.py) ... \u001b[?25l\u001b[?25hdone\n",
            "Requirement already satisfied: idna<4,>=2.5 in /usr/local/lib/python3.9/dist-packages (from requests~=2.18->cirq-aqt==1.1.0->cirq) (3.4)\n",
            "Requirement already satisfied: urllib3<1.27,>=1.21.1 in /usr/local/lib/python3.9/dist-packages (from requests~=2.18->cirq-aqt==1.1.0->cirq) (1.26.15)\n",
            "Requirement already satisfied: certifi>=2017.4.17 in /usr/local/lib/python3.9/dist-packages (from requests~=2.18->cirq-aqt==1.1.0->cirq) (2022.12.7)\n",
            "Requirement already satisfied: charset-normalizer~=2.0.0 in /usr/local/lib/python3.9/dist-packages (from requests~=2.18->cirq-aqt==1.1.0->cirq) (2.0.12)\n",
            "Requirement already satisfied: pytz>=2020.1 in /usr/local/lib/python3.9/dist-packages (from pandas->cirq-core==1.1.0->cirq) (2022.7.1)\n",
            "Requirement already satisfied: mpmath>=0.19 in /usr/local/lib/python3.9/dist-packages (from sympy->cirq-core==1.1.0->cirq) (1.3.0)\n",
            "Requirement already satisfied: pyasn1-modules>=0.2.1 in /usr/local/lib/python3.9/dist-packages (from google-auth<3.0dev,>=1.25.0->google-api-core[grpc]<2.0.0dev,>=1.14.0->cirq-google==1.1.0->cirq) (0.2.8)\n",
            "Requirement already satisfied: cachetools<6.0,>=2.0.0 in /usr/local/lib/python3.9/dist-packages (from google-auth<3.0dev,>=1.25.0->google-api-core[grpc]<2.0.0dev,>=1.14.0->cirq-google==1.1.0->cirq) (5.3.0)\n",
            "Requirement already satisfied: rsa<5,>=3.1.4 in /usr/local/lib/python3.9/dist-packages (from google-auth<3.0dev,>=1.25.0->google-api-core[grpc]<2.0.0dev,>=1.14.0->cirq-google==1.1.0->cirq) (4.9)\n",
            "Requirement already satisfied: six>=1.9.0 in /usr/local/lib/python3.9/dist-packages (from google-auth<3.0dev,>=1.25.0->google-api-core[grpc]<2.0.0dev,>=1.14.0->cirq-google==1.1.0->cirq) (1.16.0)\n",
            "Requirement already satisfied: zipp>=3.1.0 in /usr/local/lib/python3.9/dist-packages (from importlib-resources>=3.2.0->matplotlib~=3.0->cirq-core==1.1.0->cirq) (3.15.0)\n",
            "Collecting PyJWT<3.0.0,>=2.4.0\n",
            "  Downloading PyJWT-2.6.0-py3-none-any.whl (20 kB)\n",
            "Collecting attrs<22.0.0,>=21.3.0\n",
            "  Downloading attrs-21.4.0-py2.py3-none-any.whl (60 kB)\n",
            "\u001b[2K     \u001b[90m━━━━━━━━━━━━━━━━━━━━━━━━━━━━━━━━━━━━━━━━\u001b[0m \u001b[32m60.6/60.6 KB\u001b[0m \u001b[31m8.2 MB/s\u001b[0m eta \u001b[36m0:00:00\u001b[0m\n",
            "\u001b[?25hCollecting iso8601<2.0.0,>=1.0.2\n",
            "  Downloading iso8601-1.1.0-py3-none-any.whl (9.9 kB)\n",
            "Collecting rfc3339<7.0,>=6.2\n",
            "  Downloading rfc3339-6.2-py3-none-any.whl (5.5 kB)\n",
            "Collecting retrying<2.0.0,>=1.3.3\n",
            "  Downloading retrying-1.3.4-py3-none-any.whl (11 kB)\n",
            "Requirement already satisfied: toml<0.11.0,>=0.10.2 in /usr/local/lib/python3.9/dist-packages (from qcs-api-client<0.22.0,>=0.21.0->pyquil>=3.2.0->cirq-rigetti==1.1.0->cirq) (0.10.2)\n",
            "Requirement already satisfied: pydantic<2.0.0,>=1.7.2 in /usr/local/lib/python3.9/dist-packages (from qcs-api-client<0.22.0,>=0.21.0->pyquil>=3.2.0->cirq-rigetti==1.1.0->cirq) (1.10.7)\n",
            "Collecting httpx<0.24.0,>=0.23.0\n",
            "  Downloading httpx-0.23.3-py3-none-any.whl (71 kB)\n",
            "\u001b[2K     \u001b[90m━━━━━━━━━━━━━━━━━━━━━━━━━━━━━━━━━━━━━━━━\u001b[0m \u001b[32m71.5/71.5 KB\u001b[0m \u001b[31m10.4 MB/s\u001b[0m eta \u001b[36m0:00:00\u001b[0m\n",
            "\u001b[?25hCollecting py<2.0.0,>=1.4.26\n",
            "  Downloading py-1.11.0-py2.py3-none-any.whl (98 kB)\n",
            "\u001b[2K     \u001b[90m━━━━━━━━━━━━━━━━━━━━━━━━━━━━━━━━━━━━━━━━\u001b[0m \u001b[32m98.7/98.7 KB\u001b[0m \u001b[31m13.6 MB/s\u001b[0m eta \u001b[36m0:00:00\u001b[0m\n",
            "\u001b[?25hRequirement already satisfied: decorator>=3.4.2 in /usr/local/lib/python3.9/dist-packages (from retry<0.10.0,>=0.9.2->pyquil>=3.2.0->cirq-rigetti==1.1.0->cirq) (4.4.2)\n",
            "Requirement already satisfied: msgpack<2.0,>=0.6 in /usr/local/lib/python3.9/dist-packages (from rpcq<4.0.0,>=3.10.0->pyquil>=3.2.0->cirq-rigetti==1.1.0->cirq) (1.0.5)\n",
            "Collecting python-rapidjson\n",
            "  Downloading python_rapidjson-1.10-cp39-cp39-manylinux_2_17_x86_64.manylinux2014_x86_64.whl (1.7 MB)\n",
            "\u001b[2K     \u001b[90m━━━━━━━━━━━━━━━━━━━━━━━━━━━━━━━━━━━━━━━━\u001b[0m \u001b[32m1.7/1.7 MB\u001b[0m \u001b[31m81.5 MB/s\u001b[0m eta \u001b[36m0:00:00\u001b[0m\n",
            "\u001b[?25hRequirement already satisfied: pyzmq>=17 in /usr/local/lib/python3.9/dist-packages (from rpcq<4.0.0,>=3.10.0->pyquil>=3.2.0->cirq-rigetti==1.1.0->cirq) (23.2.1)\n",
            "Collecting ruamel.yaml\n",
            "  Downloading ruamel.yaml-0.17.21-py3-none-any.whl (109 kB)\n",
            "\u001b[2K     \u001b[90m━━━━━━━━━━━━━━━━━━━━━━━━━━━━━━━━━━━━━━\u001b[0m \u001b[32m109.5/109.5 KB\u001b[0m \u001b[31m15.3 MB/s\u001b[0m eta \u001b[36m0:00:00\u001b[0m\n",
            "\u001b[?25hCollecting httpcore<0.17.0,>=0.15.0\n",
            "  Downloading httpcore-0.16.3-py3-none-any.whl (69 kB)\n",
            "\u001b[2K     \u001b[90m━━━━━━━━━━━━━━━━━━━━━━━━━━━━━━━━━━━━━━━━\u001b[0m \u001b[32m69.6/69.6 KB\u001b[0m \u001b[31m10.3 MB/s\u001b[0m eta \u001b[36m0:00:00\u001b[0m\n",
            "\u001b[?25hCollecting sniffio\n",
            "  Downloading sniffio-1.3.0-py3-none-any.whl (10 kB)\n",
            "Collecting rfc3986[idna2008]<2,>=1.3\n",
            "  Downloading rfc3986-1.5.0-py2.py3-none-any.whl (31 kB)\n",
            "Requirement already satisfied: pyasn1<0.5.0,>=0.4.6 in /usr/local/lib/python3.9/dist-packages (from pyasn1-modules>=0.2.1->google-auth<3.0dev,>=1.25.0->google-api-core[grpc]<2.0.0dev,>=1.14.0->cirq-google==1.1.0->cirq) (0.4.8)\n",
            "Collecting ruamel.yaml.clib>=0.2.6\n",
            "  Downloading ruamel.yaml.clib-0.2.7-cp39-cp39-manylinux_2_17_x86_64.manylinux2014_x86_64.manylinux_2_24_x86_64.whl (519 kB)\n",
            "\u001b[2K     \u001b[90m━━━━━━━━━━━━━━━━━━━━━━━━━━━━━━━━━━━━━━\u001b[0m \u001b[32m519.4/519.4 KB\u001b[0m \u001b[31m46.6 MB/s\u001b[0m eta \u001b[36m0:00:00\u001b[0m\n",
            "\u001b[?25hCollecting h11<0.15,>=0.13\n",
            "  Downloading h11-0.14.0-py3-none-any.whl (58 kB)\n",
            "\u001b[2K     \u001b[90m━━━━━━━━━━━━━━━━━━━━━━━━━━━━━━━━━━━━━━━━\u001b[0m \u001b[32m58.3/58.3 KB\u001b[0m \u001b[31m7.9 MB/s\u001b[0m eta \u001b[36m0:00:00\u001b[0m\n",
            "\u001b[?25hCollecting anyio<5.0,>=3.0\n",
            "  Downloading anyio-3.6.2-py3-none-any.whl (80 kB)\n",
            "\u001b[2K     \u001b[90m━━━━━━━━━━━━━━━━━━━━━━━━━━━━━━━━━━━━━━━━\u001b[0m \u001b[32m80.6/80.6 KB\u001b[0m \u001b[31m9.7 MB/s\u001b[0m eta \u001b[36m0:00:00\u001b[0m\n",
            "\u001b[?25hBuilding wheels for collected packages: lark, rpcq\n",
            "  Building wheel for lark (setup.py) ... \u001b[?25l\u001b[?25hdone\n",
            "  Created wheel for lark: filename=lark-0.11.3-py2.py3-none-any.whl size=99646 sha256=77823cac26f74c0c329077903efbff66d43cbe73dcd0596a36381ac0c42c9105\n",
            "  Stored in directory: /root/.cache/pip/wheels/ec/6a/24/f8eeaf52fee56bfe54309621b59c41bb7f1df56f4bfbcdb0ce\n",
            "  Building wheel for rpcq (setup.py) ... \u001b[?25l\u001b[?25hdone\n",
            "  Created wheel for rpcq: filename=rpcq-3.11.0-py3-none-any.whl size=45985 sha256=7c07c09340f9c88bbdd41850c9e57981f29bf032a01318e65726888c7e59c5ca\n",
            "  Stored in directory: /root/.cache/pip/wheels/a6/c4/42/34581dfe489802146924ad802b13aa7fe3820f9e8c15f67afc\n",
            "Successfully built lark rpcq\n",
            "Installing collected packages: types-retry, types-python-dateutil, rfc3986, rfc3339, lark, sniffio, ruamel.yaml.clib, retrying, python-rapidjson, PyJWT, py, networkx, iso8601, h11, duet, attrs, ruamel.yaml, retry, anyio, rpcq, httpcore, google-api-core, cirq-core, httpx, cirq-web, cirq-pasqal, cirq-ionq, cirq-aqt, qcs-api-client, cirq-google, pyquil, cirq-rigetti, cirq\n",
            "  Attempting uninstall: networkx\n",
            "    Found existing installation: networkx 3.0\n",
            "    Uninstalling networkx-3.0:\n",
            "      Successfully uninstalled networkx-3.0\n",
            "  Attempting uninstall: attrs\n",
            "    Found existing installation: attrs 22.2.0\n",
            "    Uninstalling attrs-22.2.0:\n",
            "      Successfully uninstalled attrs-22.2.0\n",
            "  Attempting uninstall: google-api-core\n",
            "    Found existing installation: google-api-core 2.11.0\n",
            "    Uninstalling google-api-core-2.11.0:\n",
            "      Successfully uninstalled google-api-core-2.11.0\n",
            "Successfully installed PyJWT-2.6.0 anyio-3.6.2 attrs-21.4.0 cirq-1.1.0 cirq-aqt-1.1.0 cirq-core-1.1.0 cirq-google-1.1.0 cirq-ionq-1.1.0 cirq-pasqal-1.1.0 cirq-rigetti-1.1.0 cirq-web-1.1.0 duet-0.2.7 google-api-core-1.34.0 h11-0.14.0 httpcore-0.16.3 httpx-0.23.3 iso8601-1.1.0 lark-0.11.3 networkx-2.8.8 py-1.11.0 pyquil-3.3.4 python-rapidjson-1.10 qcs-api-client-0.21.3 retry-0.9.2 retrying-1.3.4 rfc3339-6.2 rfc3986-1.5.0 rpcq-3.11.0 ruamel.yaml-0.17.21 ruamel.yaml.clib-0.2.7 sniffio-1.3.0 types-python-dateutil-2.8.19.11 types-retry-0.9.9.3\n"
          ]
        },
        {
          "output_type": "display_data",
          "data": {
            "application/vnd.colab-display-data+json": {
              "pip_warning": {
                "packages": [
                  "google"
                ]
              }
            }
          },
          "metadata": {}
        }
      ],
      "source": [
        "pip install cirq\n"
      ]
    },
    {
      "cell_type": "code",
      "execution_count": 2,
      "metadata": {
        "id": "3W-9IqNgSDcO"
      },
      "outputs": [],
      "source": [
        "import cirq\n",
        "import numpy as np\n",
        "from cirq import Simulator\n",
        "from cirq.contrib.svg import SVGCircuit"
      ]
    },
    {
      "cell_type": "markdown",
      "metadata": {
        "id": "g3IdQsBWYvPb"
      },
      "source": [
        "### Number of qubits"
      ]
    },
    {
      "cell_type": "code",
      "execution_count": 3,
      "metadata": {
        "id": "Ku70GbR8YvPb"
      },
      "outputs": [],
      "source": [
        "n = 5 "
      ]
    },
    {
      "cell_type": "markdown",
      "metadata": {
        "id": "O1WkQJxHYvPb"
      },
      "source": [
        "### create a circuit with n qubits"
      ]
    },
    {
      "cell_type": "code",
      "execution_count": 6,
      "metadata": {
        "id": "-AFpezOxYvPb"
      },
      "outputs": [],
      "source": [
        "qr = cirq.LineQubit.range(n)\n",
        "circuit = cirq.Circuit()"
      ]
    },
    {
      "cell_type": "markdown",
      "metadata": {
        "id": "vxO-B-kwYvPb"
      },
      "source": [
        "###  Apply hadamard gate on each qubit"
      ]
    },
    {
      "cell_type": "code",
      "execution_count": 7,
      "metadata": {
        "id": "QI5vj6ytYvPb"
      },
      "outputs": [],
      "source": [
        "circuit.append(cirq.H.on_each(*qr))"
      ]
    },
    {
      "cell_type": "markdown",
      "metadata": {
        "id": "WQDrNJsmYvPb"
      },
      "source": [
        "### Apply cnot gates on (0, 1), (1,2), (2,3), (3,4)"
      ]
    },
    {
      "cell_type": "code",
      "execution_count": 11,
      "metadata": {
        "id": "BId8FYXZSF0t"
      },
      "outputs": [],
      "source": [
        "for i in range(4):\n",
        "    circuit.append(cirq.CNOT(qr[i], qr[i+1]))\n"
      ]
    },
    {
      "cell_type": "markdown",
      "source": [
        "### Apply swap on (0,4)"
      ],
      "metadata": {
        "id": "0SGwI7U9be7A"
      }
    },
    {
      "cell_type": "code",
      "source": [
        "\n",
        "circuit.append(cirq.SWAP(qr[0], qr[4]))\n"
      ],
      "metadata": {
        "id": "Zw4namRmbY9C"
      },
      "execution_count": 15,
      "outputs": []
    },
    {
      "cell_type": "markdown",
      "source": [
        "### Randomly chose a qubit for applying Rotation X gate"
      ],
      "metadata": {
        "id": "1Vn-shO3blt4"
      }
    },
    {
      "cell_type": "code",
      "source": [
        "index = np.random.randint(n)"
      ],
      "metadata": {
        "id": "CVkOW8sbbap6"
      },
      "execution_count": 16,
      "outputs": []
    },
    {
      "cell_type": "markdown",
      "source": [
        "### Apply Rx gate on that qubit"
      ],
      "metadata": {
        "id": "WpPeUx0pbqm8"
      }
    },
    {
      "cell_type": "code",
      "source": [
        "circuit.append(cirq.rx(rads=np.pi/2).on(qr[index]))"
      ],
      "metadata": {
        "id": "JW-LrJvnbcfp"
      },
      "execution_count": 17,
      "outputs": []
    },
    {
      "cell_type": "code",
      "execution_count": 10,
      "metadata": {
        "colab": {
          "base_uri": "https://localhost:8080/",
          "height": 635
        },
        "id": "jyzWiT0ASISJ",
        "outputId": "7fe9d104-dd5f-4780-faf2-9042b941c169"
      },
      "outputs": [
        {
          "output_type": "stream",
          "name": "stderr",
          "text": [
            "WARNING:matplotlib.font_manager:findfont: Font family 'Arial' not found.\n",
            "WARNING:matplotlib.font_manager:findfont: Font family 'Arial' not found.\n",
            "WARNING:matplotlib.font_manager:findfont: Font family 'Arial' not found.\n",
            "WARNING:matplotlib.font_manager:findfont: Font family 'Arial' not found.\n",
            "WARNING:matplotlib.font_manager:findfont: Font family 'Arial' not found.\n",
            "WARNING:matplotlib.font_manager:findfont: Font family 'Arial' not found.\n",
            "WARNING:matplotlib.font_manager:findfont: Font family 'Arial' not found.\n",
            "WARNING:matplotlib.font_manager:findfont: Font family 'Arial' not found.\n",
            "WARNING:matplotlib.font_manager:findfont: Font family 'Arial' not found.\n",
            "WARNING:matplotlib.font_manager:findfont: Font family 'Arial' not found.\n",
            "WARNING:matplotlib.font_manager:findfont: Font family 'Arial' not found.\n",
            "WARNING:matplotlib.font_manager:findfont: Font family 'Arial' not found.\n",
            "WARNING:matplotlib.font_manager:findfont: Font family 'Arial' not found.\n",
            "WARNING:matplotlib.font_manager:findfont: Font family 'Arial' not found.\n",
            "WARNING:matplotlib.font_manager:findfont: Font family 'Arial' not found.\n",
            "WARNING:matplotlib.font_manager:findfont: Font family 'Arial' not found.\n",
            "WARNING:matplotlib.font_manager:findfont: Font family 'Arial' not found.\n",
            "WARNING:matplotlib.font_manager:findfont: Font family 'Arial' not found.\n",
            "WARNING:matplotlib.font_manager:findfont: Font family 'Arial' not found.\n",
            "WARNING:matplotlib.font_manager:findfont: Font family 'Arial' not found.\n",
            "WARNING:matplotlib.font_manager:findfont: Font family 'Arial' not found.\n"
          ]
        },
        {
          "output_type": "execute_result",
          "data": {
            "text/plain": [
              "<cirq.contrib.svg.svg.SVGCircuit at 0x7fcc76e811f0>"
            ],
            "image/svg+xml": "<svg xmlns=\"http://www.w3.org/2000/svg\" width=\"487.05328125\" height=\"250.0\"><line x1=\"30.0\" x2=\"457.05328125\" y1=\"25.0\" y2=\"25.0\" stroke=\"#1967d2\" stroke-width=\"1\" /><line x1=\"30.0\" x2=\"457.05328125\" y1=\"75.0\" y2=\"75.0\" stroke=\"#1967d2\" stroke-width=\"1\" /><line x1=\"30.0\" x2=\"457.05328125\" y1=\"125.0\" y2=\"125.0\" stroke=\"#1967d2\" stroke-width=\"1\" /><line x1=\"30.0\" x2=\"457.05328125\" y1=\"175.0\" y2=\"175.0\" stroke=\"#1967d2\" stroke-width=\"1\" /><line x1=\"30.0\" x2=\"457.05328125\" y1=\"225.0\" y2=\"225.0\" stroke=\"#1967d2\" stroke-width=\"1\" /><line x1=\"150.0\" x2=\"150.0\" y1=\"25.0\" y2=\"75.0\" stroke=\"black\" stroke-width=\"3\" /><line x1=\"210.0\" x2=\"210.0\" y1=\"75.0\" y2=\"125.0\" stroke=\"black\" stroke-width=\"3\" /><line x1=\"283.526640625\" x2=\"283.526640625\" y1=\"125.0\" y2=\"175.0\" stroke=\"black\" stroke-width=\"3\" /><line x1=\"357.05328125\" x2=\"357.05328125\" y1=\"175.0\" y2=\"225.0\" stroke=\"black\" stroke-width=\"3\" /><line x1=\"417.05328125\" x2=\"417.05328125\" y1=\"25.0\" y2=\"225.0\" stroke=\"black\" stroke-width=\"3\" /><rect x=\"10.0\" y=\"5.0\" width=\"40\" height=\"40\" stroke=\"black\" fill=\"white\" stroke-width=\"0\" /><text x=\"30.0\" y=\"25.0\" dominant-baseline=\"middle\" text-anchor=\"middle\" font-size=\"14px\" font-family=\"Arial\">0: </text><rect x=\"10.0\" y=\"55.0\" width=\"40\" height=\"40\" stroke=\"black\" fill=\"white\" stroke-width=\"0\" /><text x=\"30.0\" y=\"75.0\" dominant-baseline=\"middle\" text-anchor=\"middle\" font-size=\"14px\" font-family=\"Arial\">1: </text><rect x=\"10.0\" y=\"105.0\" width=\"40\" height=\"40\" stroke=\"black\" fill=\"white\" stroke-width=\"0\" /><text x=\"30.0\" y=\"125.0\" dominant-baseline=\"middle\" text-anchor=\"middle\" font-size=\"14px\" font-family=\"Arial\">2: </text><rect x=\"10.0\" y=\"155.0\" width=\"40\" height=\"40\" stroke=\"black\" fill=\"white\" stroke-width=\"0\" /><text x=\"30.0\" y=\"175.0\" dominant-baseline=\"middle\" text-anchor=\"middle\" font-size=\"14px\" font-family=\"Arial\">3: </text><rect x=\"10.0\" y=\"205.0\" width=\"40\" height=\"40\" stroke=\"black\" fill=\"white\" stroke-width=\"0\" /><text x=\"30.0\" y=\"225.0\" dominant-baseline=\"middle\" text-anchor=\"middle\" font-size=\"14px\" font-family=\"Arial\">4: </text><rect x=\"70.0\" y=\"5.0\" width=\"40\" height=\"40\" stroke=\"black\" fill=\"white\" stroke-width=\"1\" /><text x=\"90.0\" y=\"25.0\" dominant-baseline=\"middle\" text-anchor=\"middle\" font-size=\"18px\" font-family=\"Arial\">H</text><rect x=\"70.0\" y=\"55.0\" width=\"40\" height=\"40\" stroke=\"black\" fill=\"white\" stroke-width=\"1\" /><text x=\"90.0\" y=\"75.0\" dominant-baseline=\"middle\" text-anchor=\"middle\" font-size=\"18px\" font-family=\"Arial\">H</text><rect x=\"70.0\" y=\"105.0\" width=\"40\" height=\"40\" stroke=\"black\" fill=\"white\" stroke-width=\"1\" /><text x=\"90.0\" y=\"125.0\" dominant-baseline=\"middle\" text-anchor=\"middle\" font-size=\"18px\" font-family=\"Arial\">H</text><rect x=\"70.0\" y=\"155.0\" width=\"40\" height=\"40\" stroke=\"black\" fill=\"white\" stroke-width=\"1\" /><text x=\"90.0\" y=\"175.0\" dominant-baseline=\"middle\" text-anchor=\"middle\" font-size=\"18px\" font-family=\"Arial\">H</text><rect x=\"70.0\" y=\"205.0\" width=\"40\" height=\"40\" stroke=\"black\" fill=\"white\" stroke-width=\"1\" /><text x=\"90.0\" y=\"225.0\" dominant-baseline=\"middle\" text-anchor=\"middle\" font-size=\"18px\" font-family=\"Arial\">H</text><circle cx=\"150.0\" cy=\"25.0\" r=\"10.0\" /><rect x=\"130.0\" y=\"55.0\" width=\"40\" height=\"40\" stroke=\"black\" fill=\"white\" stroke-width=\"1\" /><text x=\"150.0\" y=\"75.0\" dominant-baseline=\"middle\" text-anchor=\"middle\" font-size=\"18px\" font-family=\"Arial\">X</text><circle cx=\"210.0\" cy=\"75.0\" r=\"10.0\" /><rect x=\"190.0\" y=\"105.0\" width=\"40\" height=\"40\" stroke=\"black\" fill=\"white\" stroke-width=\"1\" /><text x=\"210.0\" y=\"125.0\" dominant-baseline=\"middle\" text-anchor=\"middle\" font-size=\"18px\" font-family=\"Arial\">X</text><circle cx=\"283.526640625\" cy=\"125.0\" r=\"10.0\" /><rect x=\"250.00000000000003\" y=\"155.0\" width=\"67.05328125\" height=\"40\" stroke=\"black\" fill=\"white\" stroke-width=\"1\" /><text x=\"283.526640625\" y=\"175.0\" dominant-baseline=\"middle\" text-anchor=\"middle\" font-size=\"18px\" font-family=\"Arial\">X</text><rect x=\"250.00000000000003\" y=\"55.0\" width=\"67.05328125\" height=\"40\" stroke=\"black\" fill=\"white\" stroke-width=\"1\" /><text x=\"283.526640625\" y=\"75.0\" dominant-baseline=\"middle\" text-anchor=\"middle\" font-size=\"14px\" font-family=\"Arial\">Rx(0.5π)</text><circle cx=\"357.05328125\" cy=\"175.0\" r=\"10.0\" /><rect x=\"337.05328125\" y=\"205.0\" width=\"40\" height=\"40\" stroke=\"black\" fill=\"white\" stroke-width=\"1\" /><text x=\"357.05328125\" y=\"225.0\" dominant-baseline=\"middle\" text-anchor=\"middle\" font-size=\"18px\" font-family=\"Arial\">X</text><text x=\"417.05328125\" y=\"28.0\" dominant-baseline=\"middle\" text-anchor=\"middle\" font-size=\"40px\" font-family=\"Arial\">×</text><text x=\"417.05328125\" y=\"228.0\" dominant-baseline=\"middle\" text-anchor=\"middle\" font-size=\"40px\" font-family=\"Arial\">×</text></svg>"
          },
          "metadata": {},
          "execution_count": 10
        }
      ],
      "source": [
        "SVGCircuit(circuit)\n"
      ]
    },
    {
      "cell_type": "markdown",
      "metadata": {
        "id": "Ja8rLbkcKLuh"
      },
      "source": [
        "\n",
        "The components of the circuit that we implemented are as follows:\n",
        "\n",
        "\n",
        "Five qubits: To begin, we define 5 qubits in Cirq using the LineQubit.range(5) function. These qubits are numbered from 0 to 4.\n",
        "\n",
        "Hadamard gates: Using a loop, we then apply a Hadamard gate to each qubit. The Hadamard gate is a typical single-qubit gate in quantum computing that superpositions a qubit. It is represented as a matrix:\n",
        "\n",
        "H = 1/sqrt(2) * [[1, 1], [1, -1]]\n",
        "\n",
        "Following the Hadamard gates, we put a CNOT gate between each pair of nearby qubits. If the first qubit (control qubit) is in the state |1>, the CNOT gate conducts a NOT operation on the second qubit (target qubit).\n",
        "\n",
        "If the control qubit is set to |0>, the target qubit is unaffected. We use CNOT gates on qubits (0, 1), (1, 2), (2, 3), and (4, 5). (3, 4).\n",
        "\n",
        "SWAP gate: Next, we apply a SWAP gate between qubits 0 and 4, swapping their states.\n",
        "\n",
        "X gate with pi/2 rotation: Lastly, we apply an X gate with a pi/2 rotation (i.e., a 90-degree rotation) to qubit 1. Another typical single-qubit gate that is identical to a conventional NOT operation is the X gate. The matrix representation of the X gate with a pi/2 rotation is:\n",
        "\n",
        "X^0.5 = [[(1+i)/2, (1-i)/2], [(1-i)/2, (1+i)/2]]\n",
        "\n",
        "This circuit is a simple example of a quantum circuit that uses basic quantum gates to manipulate qubits.\n",
        "\n"
      ]
    },
    {
      "cell_type": "markdown",
      "metadata": {
        "id": "8xDcF5esYvPc"
      },
      "source": [
        "## 2) Implement a second circuit with a framework of your choice:\n",
        "\n",
        "    a) Apply a Hadmard gate to the first qubit\n",
        "\n",
        "    b) rotate the second qubit by pi/3 around X\n",
        "\n",
        "    c) Apply Hadamard gate to the third and fourth qubit\n",
        "\n",
        "    d) Perform a swap test between the states of the first and second qubit |q1 q2> and the third and fourth qubit |q3 q4>\n"
      ]
    },
    {
      "cell_type": "code",
      "execution_count": null,
      "metadata": {
        "colab": {
          "base_uri": "https://localhost:8080/"
        },
        "id": "f0K3fMnyIm7b",
        "outputId": "d50033a1-b621-4586-9a2c-da6c80ec0945"
      },
      "outputs": [
        {
          "name": "stdout",
          "output_type": "stream",
          "text": [
            "Collecting qiskit\n",
            "  Using cached qiskit-0.42.0-py3-none-any.whl\n",
            "Collecting qiskit-aer==0.12.0\n",
            "  Using cached qiskit_aer-0.12.0-cp310-cp310-win_amd64.whl (9.6 MB)\n",
            "Collecting qiskit-ibmq-provider==0.20.2\n",
            "  Using cached qiskit_ibmq_provider-0.20.2-py3-none-any.whl (241 kB)\n",
            "Collecting qiskit-terra==0.23.2\n",
            "  Using cached qiskit_terra-0.23.2-cp310-cp310-win_amd64.whl (4.6 MB)\n",
            "Requirement already satisfied: scipy>=1.0 in c:\\python310\\lib\\site-packages (from qiskit-aer==0.12.0->qiskit) (1.9.0)\n",
            "Requirement already satisfied: numpy>=1.16.3 in c:\\python310\\lib\\site-packages (from qiskit-aer==0.12.0->qiskit) (1.22.2)\n",
            "Collecting requests-ntlm<=1.1.0\n",
            "  Using cached requests_ntlm-1.1.0-py2.py3-none-any.whl (5.7 kB)\n",
            "Requirement already satisfied: urllib3>=1.21.1 in c:\\python310\\lib\\site-packages (from qiskit-ibmq-provider==0.20.2->qiskit) (1.26.8)\n",
            "Requirement already satisfied: websocket-client>=1.5.1 in c:\\python310\\lib\\site-packages (from qiskit-ibmq-provider==0.20.2->qiskit) (1.5.1)\n",
            "Requirement already satisfied: python-dateutil>=2.8.0 in c:\\users\\sudhir sharma\\appdata\\roaming\\python\\python310\\site-packages (from qiskit-ibmq-provider==0.20.2->qiskit) (2.8.2)\n",
            "Requirement already satisfied: requests>=2.19 in c:\\python310\\lib\\site-packages (from qiskit-ibmq-provider==0.20.2->qiskit) (2.28.1)\n",
            "Requirement already satisfied: websockets>=10.0 in c:\\python310\\lib\\site-packages (from qiskit-ibmq-provider==0.20.2->qiskit) (10.4)\n",
            "Requirement already satisfied: sympy>=1.3 in c:\\python310\\lib\\site-packages (from qiskit-terra==0.23.2->qiskit) (1.11.1)\n",
            "Requirement already satisfied: dill>=0.3 in c:\\python310\\lib\\site-packages (from qiskit-terra==0.23.2->qiskit) (0.3.6)\n",
            "Requirement already satisfied: rustworkx>=0.12.0 in c:\\python310\\lib\\site-packages (from qiskit-terra==0.23.2->qiskit) (0.12.1)\n",
            "Requirement already satisfied: stevedore>=3.0.0 in c:\\python310\\lib\\site-packages (from qiskit-terra==0.23.2->qiskit) (5.0.0)\n",
            "Requirement already satisfied: ply>=3.10 in c:\\python310\\lib\\site-packages (from qiskit-terra==0.23.2->qiskit) (3.11)\n",
            "Requirement already satisfied: psutil>=5 in c:\\users\\sudhir sharma\\appdata\\roaming\\python\\python310\\site-packages (from qiskit-terra==0.23.2->qiskit) (5.9.1)\n",
            "Requirement already satisfied: six>=1.5 in c:\\python310\\lib\\site-packages (from python-dateutil>=2.8.0->qiskit-ibmq-provider==0.20.2->qiskit) (1.16.0)\n",
            "Requirement already satisfied: charset-normalizer<3,>=2 in c:\\python310\\lib\\site-packages (from requests>=2.19->qiskit-ibmq-provider==0.20.2->qiskit) (2.0.10)\n",
            "Requirement already satisfied: idna<4,>=2.5 in c:\\python310\\lib\\site-packages (from requests>=2.19->qiskit-ibmq-provider==0.20.2->qiskit) (3.3)\n",
            "Requirement already satisfied: certifi>=2017.4.17 in c:\\python310\\lib\\site-packages (from requests>=2.19->qiskit-ibmq-provider==0.20.2->qiskit) (2021.10.8)\n",
            "Requirement already satisfied: cryptography>=1.3 in c:\\python310\\lib\\site-packages (from requests-ntlm<=1.1.0->qiskit-ibmq-provider==0.20.2->qiskit) (36.0.1)\n",
            "Requirement already satisfied: ntlm-auth>=1.0.2 in c:\\python310\\lib\\site-packages (from requests-ntlm<=1.1.0->qiskit-ibmq-provider==0.20.2->qiskit) (1.5.0)\n",
            "Requirement already satisfied: cffi>=1.12 in c:\\python310\\lib\\site-packages (from cryptography>=1.3->requests-ntlm<=1.1.0->qiskit-ibmq-provider==0.20.2->qiskit) (1.15.0)\n",
            "Requirement already satisfied: pycparser in c:\\python310\\lib\\site-packages (from cffi>=1.12->cryptography>=1.3->requests-ntlm<=1.1.0->qiskit-ibmq-provider==0.20.2->qiskit) (2.21)\n",
            "Requirement already satisfied: pbr!=2.1.0,>=2.0.0 in c:\\python310\\lib\\site-packages (from stevedore>=3.0.0->qiskit-terra==0.23.2->qiskit) (5.11.1)\n",
            "Requirement already satisfied: mpmath>=0.19 in c:\\python310\\lib\\site-packages (from sympy>=1.3->qiskit-terra==0.23.2->qiskit) (1.3.0)\n",
            "Installing collected packages: requests-ntlm, qiskit-terra, qiskit-ibmq-provider, qiskit-aer, qiskit\n",
            "Successfully installed qiskit-0.42.0 qiskit-aer-0.12.0 qiskit-ibmq-provider-0.20.2 qiskit-terra-0.23.2 requests-ntlm-1.1.0\n",
            "Note: you may need to restart the kernel to use updated packages.\n"
          ]
        },
        {
          "name": "stderr",
          "output_type": "stream",
          "text": [
            "WARNING: Ignoring invalid distribution -p (c:\\python310\\lib\\site-packages)\n",
            "WARNING: Ignoring invalid distribution -6p (c:\\python310\\lib\\site-packages)\n",
            "WARNING: Ignoring invalid distribution -5p (c:\\python310\\lib\\site-packages)\n",
            "WARNING: Ignoring invalid distribution -4p (c:\\python310\\lib\\site-packages)\n",
            "WARNING: Ignoring invalid distribution -3p (c:\\python310\\lib\\site-packages)\n",
            "WARNING: Ignoring invalid distribution -2p (c:\\python310\\lib\\site-packages)\n",
            "WARNING: Ignoring invalid distribution -1p (c:\\python310\\lib\\site-packages)\n",
            "WARNING: Ignoring invalid distribution -p (c:\\python310\\lib\\site-packages)\n",
            "WARNING: Ignoring invalid distribution -0p (c:\\python310\\lib\\site-packages)\n",
            "WARNING: Ignoring invalid distribution -ip (c:\\python310\\lib\\site-packages)\n",
            "WARNING: Ignoring invalid distribution - (c:\\python310\\lib\\site-packages)\n",
            "WARNING: Ignoring invalid distribution -p (c:\\python310\\lib\\site-packages)\n",
            "WARNING: Ignoring invalid distribution -6p (c:\\python310\\lib\\site-packages)\n",
            "WARNING: Ignoring invalid distribution -5p (c:\\python310\\lib\\site-packages)\n",
            "WARNING: Ignoring invalid distribution -4p (c:\\python310\\lib\\site-packages)\n",
            "WARNING: Ignoring invalid distribution -3p (c:\\python310\\lib\\site-packages)\n",
            "WARNING: Ignoring invalid distribution -2p (c:\\python310\\lib\\site-packages)\n",
            "WARNING: Ignoring invalid distribution -1p (c:\\python310\\lib\\site-packages)\n",
            "WARNING: Ignoring invalid distribution -p (c:\\python310\\lib\\site-packages)\n",
            "WARNING: Ignoring invalid distribution -0p (c:\\python310\\lib\\site-packages)\n",
            "WARNING: Ignoring invalid distribution -ip (c:\\python310\\lib\\site-packages)\n",
            "WARNING: Ignoring invalid distribution - (c:\\python310\\lib\\site-packages)\n",
            "WARNING: Ignoring invalid distribution -p (c:\\python310\\lib\\site-packages)\n",
            "WARNING: Ignoring invalid distribution -6p (c:\\python310\\lib\\site-packages)\n",
            "WARNING: Ignoring invalid distribution -5p (c:\\python310\\lib\\site-packages)\n",
            "WARNING: Ignoring invalid distribution -4p (c:\\python310\\lib\\site-packages)\n",
            "WARNING: Ignoring invalid distribution -3p (c:\\python310\\lib\\site-packages)\n",
            "WARNING: Ignoring invalid distribution -2p (c:\\python310\\lib\\site-packages)\n",
            "WARNING: Ignoring invalid distribution -1p (c:\\python310\\lib\\site-packages)\n",
            "WARNING: Ignoring invalid distribution -p (c:\\python310\\lib\\site-packages)\n",
            "WARNING: Ignoring invalid distribution -0p (c:\\python310\\lib\\site-packages)\n",
            "WARNING: Ignoring invalid distribution -ip (c:\\python310\\lib\\site-packages)\n",
            "WARNING: Ignoring invalid distribution - (c:\\python310\\lib\\site-packages)\n",
            "WARNING: Ignoring invalid distribution -p (c:\\python310\\lib\\site-packages)\n",
            "WARNING: Ignoring invalid distribution -6p (c:\\python310\\lib\\site-packages)\n",
            "WARNING: Ignoring invalid distribution -5p (c:\\python310\\lib\\site-packages)\n",
            "WARNING: Ignoring invalid distribution -4p (c:\\python310\\lib\\site-packages)\n",
            "WARNING: Ignoring invalid distribution -3p (c:\\python310\\lib\\site-packages)\n",
            "WARNING: Ignoring invalid distribution -2p (c:\\python310\\lib\\site-packages)\n",
            "WARNING: Ignoring invalid distribution -1p (c:\\python310\\lib\\site-packages)\n",
            "WARNING: Ignoring invalid distribution -p (c:\\python310\\lib\\site-packages)\n",
            "WARNING: Ignoring invalid distribution -0p (c:\\python310\\lib\\site-packages)\n",
            "WARNING: Ignoring invalid distribution -ip (c:\\python310\\lib\\site-packages)\n",
            "WARNING: Ignoring invalid distribution - (c:\\python310\\lib\\site-packages)\n",
            "WARNING: Ignoring invalid distribution -p (c:\\python310\\lib\\site-packages)\n",
            "WARNING: Ignoring invalid distribution -6p (c:\\python310\\lib\\site-packages)\n",
            "WARNING: Ignoring invalid distribution -5p (c:\\python310\\lib\\site-packages)\n",
            "WARNING: Ignoring invalid distribution -4p (c:\\python310\\lib\\site-packages)\n",
            "WARNING: Ignoring invalid distribution -3p (c:\\python310\\lib\\site-packages)\n",
            "WARNING: Ignoring invalid distribution -2p (c:\\python310\\lib\\site-packages)\n",
            "WARNING: Ignoring invalid distribution -1p (c:\\python310\\lib\\site-packages)\n",
            "WARNING: Ignoring invalid distribution -p (c:\\python310\\lib\\site-packages)\n",
            "WARNING: Ignoring invalid distribution -0p (c:\\python310\\lib\\site-packages)\n",
            "WARNING: Ignoring invalid distribution -ip (c:\\python310\\lib\\site-packages)\n",
            "WARNING: Ignoring invalid distribution - (c:\\python310\\lib\\site-packages)\n",
            "WARNING: Ignoring invalid distribution -p (c:\\python310\\lib\\site-packages)\n",
            "WARNING: Ignoring invalid distribution -6p (c:\\python310\\lib\\site-packages)\n",
            "WARNING: Ignoring invalid distribution -5p (c:\\python310\\lib\\site-packages)\n",
            "WARNING: Ignoring invalid distribution -4p (c:\\python310\\lib\\site-packages)\n",
            "WARNING: Ignoring invalid distribution -3p (c:\\python310\\lib\\site-packages)\n",
            "WARNING: Ignoring invalid distribution -2p (c:\\python310\\lib\\site-packages)\n",
            "WARNING: Ignoring invalid distribution -1p (c:\\python310\\lib\\site-packages)\n",
            "WARNING: Ignoring invalid distribution -p (c:\\python310\\lib\\site-packages)\n",
            "WARNING: Ignoring invalid distribution -0p (c:\\python310\\lib\\site-packages)\n",
            "WARNING: Ignoring invalid distribution -ip (c:\\python310\\lib\\site-packages)\n",
            "WARNING: Ignoring invalid distribution - (c:\\python310\\lib\\site-packages)\n",
            "WARNING: Ignoring invalid distribution -p (c:\\python310\\lib\\site-packages)\n",
            "WARNING: Ignoring invalid distribution -6p (c:\\python310\\lib\\site-packages)\n",
            "WARNING: Ignoring invalid distribution -5p (c:\\python310\\lib\\site-packages)\n",
            "WARNING: Ignoring invalid distribution -4p (c:\\python310\\lib\\site-packages)\n",
            "WARNING: Ignoring invalid distribution -3p (c:\\python310\\lib\\site-packages)\n",
            "WARNING: Ignoring invalid distribution -2p (c:\\python310\\lib\\site-packages)\n",
            "WARNING: Ignoring invalid distribution -1p (c:\\python310\\lib\\site-packages)\n",
            "WARNING: Ignoring invalid distribution -p (c:\\python310\\lib\\site-packages)\n",
            "WARNING: Ignoring invalid distribution -0p (c:\\python310\\lib\\site-packages)\n",
            "WARNING: Ignoring invalid distribution -ip (c:\\python310\\lib\\site-packages)\n",
            "WARNING: Ignoring invalid distribution - (c:\\python310\\lib\\site-packages)\n",
            "WARNING: Ignoring invalid distribution -p (c:\\python310\\lib\\site-packages)\n",
            "WARNING: Ignoring invalid distribution -6p (c:\\python310\\lib\\site-packages)\n",
            "WARNING: Ignoring invalid distribution -5p (c:\\python310\\lib\\site-packages)\n",
            "WARNING: Ignoring invalid distribution -4p (c:\\python310\\lib\\site-packages)\n",
            "WARNING: Ignoring invalid distribution -3p (c:\\python310\\lib\\site-packages)\n",
            "WARNING: Ignoring invalid distribution -2p (c:\\python310\\lib\\site-packages)\n",
            "WARNING: Ignoring invalid distribution -1p (c:\\python310\\lib\\site-packages)\n",
            "WARNING: Ignoring invalid distribution -p (c:\\python310\\lib\\site-packages)\n",
            "WARNING: Ignoring invalid distribution -0p (c:\\python310\\lib\\site-packages)\n",
            "WARNING: Ignoring invalid distribution -ip (c:\\python310\\lib\\site-packages)\n",
            "WARNING: Ignoring invalid distribution - (c:\\python310\\lib\\site-packages)\n",
            "WARNING: Ignoring invalid distribution -p (c:\\python310\\lib\\site-packages)\n",
            "WARNING: Ignoring invalid distribution -6p (c:\\python310\\lib\\site-packages)\n",
            "WARNING: Ignoring invalid distribution -5p (c:\\python310\\lib\\site-packages)\n",
            "WARNING: Ignoring invalid distribution -4p (c:\\python310\\lib\\site-packages)\n",
            "WARNING: Ignoring invalid distribution -3p (c:\\python310\\lib\\site-packages)\n",
            "WARNING: Ignoring invalid distribution -2p (c:\\python310\\lib\\site-packages)\n",
            "WARNING: Ignoring invalid distribution -1p (c:\\python310\\lib\\site-packages)\n",
            "WARNING: Ignoring invalid distribution -p (c:\\python310\\lib\\site-packages)\n",
            "WARNING: Ignoring invalid distribution -0p (c:\\python310\\lib\\site-packages)\n",
            "WARNING: Ignoring invalid distribution -ip (c:\\python310\\lib\\site-packages)\n",
            "WARNING: Ignoring invalid distribution - (c:\\python310\\lib\\site-packages)\n",
            "WARNING: You are using pip version 21.2.4; however, version 23.0.1 is available.\n",
            "You should consider upgrading via the 'c:\\Python310\\python.exe -m pip install --upgrade pip' command.\n"
          ]
        }
      ],
      "source": [
        "pip install qiskit"
      ]
    },
    {
      "cell_type": "code",
      "execution_count": null,
      "metadata": {
        "colab": {
          "base_uri": "https://localhost:8080/"
        },
        "id": "_rK8XmjJIetZ",
        "outputId": "51d0fb33-77d7-42f2-dfe6-5092ce79c3b5"
      },
      "outputs": [
        {
          "name": "stdout",
          "output_type": "stream",
          "text": [
            "{'1100': 85, '1000': 104, '0000': 83, '1001': 107, '0001': 96, '1101': 91, '0100': 100, '0101': 97, '0011': 32, '1010': 38, '0110': 29, '0010': 31, '1111': 32, '1011': 37, '0111': 32, '1110': 30}\n"
          ]
        }
      ],
      "source": [
        "from qiskit import QuantumCircuit, Aer, execute\n",
        "import math\n",
        "\n",
        "# Create a 4-qubit quantum circuit\n",
        "qc = QuantumCircuit(4)\n",
        "\n",
        "# Apply Hadamard gate to the first qubit\n",
        "qc.h(0)\n",
        "\n",
        "# Rotate the second qubit by pi/3 around X\n",
        "qc.rx(math.pi/3, 1)\n",
        "\n",
        "# Apply Hadamard gate to the third and fourth qubits\n",
        "qc.h(2)\n",
        "qc.h(3)\n",
        "\n",
        "# Perform a swap test between qubits 1 and 2, and qubits 3 and 4\n",
        "qc.h(1)\n",
        "qc.cx(1, 2)\n",
        "qc.cx(3, 2)\n",
        "qc.h(1)\n",
        "qc.measure_all()\n",
        "\n",
        "# Simulate the circuit using the Aer simulator\n",
        "simulator = Aer.get_backend('qasm_simulator')\n",
        "result = execute(qc, simulator).result()\n",
        "\n",
        "# Print the measurement results\n",
        "print(result.get_counts(qc))\n"
      ]
    },
    {
      "cell_type": "markdown",
      "metadata": {
        "id": "f1WqivtYLST1"
      },
      "source": [
        "The circuit's output will be a dictionary of counts of conceivable measurement results. Because we are measuring all qubits in the circuit, there will be 24 = 16 potential measurement results, each represented by a four-bit binary string.\n",
        "\n",
        "The quantum state of the qubits after the circuit has been performed will define the specific measurement results and their probability. Because the circuit contains random operations (such as the measurement foundation of the Hadamard gates), the measurement results will be non-deterministic and may change with each circuit execution.\n",
        "\n",
        "The measurement results, on the other hand, should be indicative of the similarity between the states of the qubits involved in the swap test. If the qubits' states are equal, the probability of measuring the state |0000> (all qubits in the 0 state) should be close to one. If the qubits' states are orthogonal, the likelihood of measuring |0000> should be near to zero."
      ]
    },
    {
      "cell_type": "code",
      "execution_count": null,
      "metadata": {
        "id": "KpRUCwwbK9Ee"
      },
      "outputs": [],
      "source": []
    }
  ],
  "metadata": {
    "colab": {
      "provenance": []
    },
    "kernelspec": {
      "display_name": "Python 3",
      "name": "python3"
    },
    "language_info": {
      "codemirror_mode": {
        "name": "ipython",
        "version": 3
      },
      "file_extension": ".py",
      "mimetype": "text/x-python",
      "name": "python",
      "nbconvert_exporter": "python",
      "pygments_lexer": "ipython3",
      "version": "3.9.7"
    }
  },
  "nbformat": 4,
  "nbformat_minor": 0
}